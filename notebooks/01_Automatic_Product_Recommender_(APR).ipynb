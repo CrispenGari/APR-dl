{
  "nbformat": 4,
  "nbformat_minor": 0,
  "metadata": {
    "colab": {
      "provenance": []
    },
    "kernelspec": {
      "name": "python3",
      "display_name": "Python 3"
    },
    "language_info": {
      "name": "python"
    },
    "accelerator": "GPU"
  },
  "cells": [
    {
      "cell_type": "markdown",
      "source": [
        "___\n",
        "\n",
        "\n",
        "Project: `Automatic Product Recommender (APR)`\n",
        "\n",
        "Programmer: `@crispengari`\n",
        "\n",
        "Date: `2022-05-10`\n",
        "\n",
        "Abstract: `Automatic Product Recommender (APR) is a very useful topic in morden technologies. In this notebook we are going to create an Artificial Neural Network model using Deep Learning to detect weather the product is recommended or not based on review text and review upvotes. This model will be able to predict the rating of the product based on the features. APR is very usefull in moden technology because it helps product consumers to chose weather they should buy the product or not based on previous experinece customer reviews.`\n",
        "\n",
        "Keywords: `tensorflow`, `embedding`, `keras`, `pandas`, `CNN`, `dataset`, `accuracy`, `nltk`, `loss`\n",
        "\n",
        "Programming Language: `python`\n",
        "\n",
        "Main: `Natural Language Processing (NLP)`\n",
        "\n",
        "Main Package: `Tensorflow 2.*.*`\n",
        "\n",
        "Dataset: [`kaggle`](https://www.kaggle.com/datasets/nicapotato/womens-ecommerce-clothing-reviews)\n",
        "\n",
        "____"
      ],
      "metadata": {
        "id": "4F8TdJXoVpm8"
      }
    },
    {
      "cell_type": "markdown",
      "source": [
        "### Automatic Product Recommender (APR)\n",
        "\n",
        "In this notebook we are going to create a tensorflow model based on the keras subclassing api that will be able to predict two class labels:\n",
        "\n",
        "1. `rating` - predict the ratting based on upvotes of the review text and the review text itself.\n",
        "2. `recommend` - a binary label `0` or `1`, `1` if the product is recommended and `0` otherwise.\n",
        "\n",
        "Our model will have two inputs which are:\n",
        "\n",
        "1. `review text`\n",
        "2. `upvotes`\n",
        "\n",
        "### Dataset\n",
        "\n",
        "The dataset that we are using was taken from [kaggle](https://www.kaggle.com/datasets/nicapotato/womens-ecommerce-clothing-reviews). We are going to used the cleaned version of the dataset that was prepared in [this notebook](https://github.com/CrispenGari/APR-dl/blob/main/notebooks/00_E_Commerce_Clothing_Reviews_Data_Prep.ipynb).\n",
        "\n",
        "\n",
        "### Installation of extra packages\n",
        "\n",
        "In the following code cell we are going to install a package called `helperfns` which contains some usefull helper functions for machine learning that we are going to use throughout this notebook."
      ],
      "metadata": {
        "id": "4z69i7TNUXvZ"
      }
    },
    {
      "cell_type": "code",
      "source": [
        "!pip install helperfns -q"
      ],
      "metadata": {
        "id": "H56TIeNL-3WQ"
      },
      "execution_count": 181,
      "outputs": []
    },
    {
      "cell_type": "markdown",
      "source": [
        "### Basic imports\n",
        "\n",
        "In the following code cell we are going to import all the packages that we are going to use in this notebook. We are also going to download some other files using `nltk`."
      ],
      "metadata": {
        "id": "vAMfgnj3-2Zn"
      }
    },
    {
      "cell_type": "code",
      "execution_count": 182,
      "metadata": {
        "colab": {
          "base_uri": "https://localhost:8080/",
          "height": 70
        },
        "id": "k_-7DRnBTjpD",
        "outputId": "33d7f857-9cba-4294-cd28-eb51d6e3c390"
      },
      "outputs": [
        {
          "output_type": "stream",
          "name": "stderr",
          "text": [
            "[nltk_data] Downloading package punkt to /root/nltk_data...\n",
            "[nltk_data]   Package punkt is already up-to-date!\n"
          ]
        },
        {
          "output_type": "execute_result",
          "data": {
            "text/plain": [
              "'2.15.0'"
            ],
            "application/vnd.google.colaboratory.intrinsic+json": {
              "type": "string"
            }
          },
          "metadata": {},
          "execution_count": 182
        }
      ],
      "source": [
        "import os\n",
        "import time\n",
        "import random\n",
        "import math\n",
        "import nltk\n",
        "import json\n",
        "import urllib.request\n",
        "\n",
        "import numpy as np\n",
        "import tensorflow as tf\n",
        "import pandas as pd\n",
        "import wordcloud as wc\n",
        "\n",
        "from prettytable import PrettyTable\n",
        "from matplotlib import pyplot as plt\n",
        "from prettytable import PrettyTable\n",
        "from collections import Counter\n",
        "from tensorflow import keras\n",
        "from nltk.tokenize import word_tokenize\n",
        "from sklearn.preprocessing import LabelEncoder\n",
        "from google.colab import files, drive\n",
        "from sklearn.model_selection import train_test_split\n",
        "from sklearn.preprocessing import MinMaxScaler\n",
        "from PIL import Image\n",
        "from helperfns.tables import tabulate_data\n",
        "from helperfns.visualization import plot_complicated_confusion_matrix\n",
        "from sklearn.metrics import classification_report\n",
        "\n",
        "nltk.download(\"punkt\")\n",
        "\n",
        "tf.__version__"
      ]
    },
    {
      "cell_type": "markdown",
      "source": [
        "### Mounting the drive\n",
        "In the following code cell we are going to mount the drive since we are loading the dataset from the google drive."
      ],
      "metadata": {
        "id": "jBfzAnG9ZVRW"
      }
    },
    {
      "cell_type": "code",
      "source": [
        "drive.mount(\"/content/drive\")"
      ],
      "metadata": {
        "colab": {
          "base_uri": "https://localhost:8080/"
        },
        "id": "Dm5Knl1SUVVR",
        "outputId": "3ecee1ad-9e8e-4453-b9ed-bf8b370d4061"
      },
      "execution_count": 183,
      "outputs": [
        {
          "output_type": "stream",
          "name": "stdout",
          "text": [
            "Drive already mounted at /content/drive; to attempt to forcibly remount, call drive.mount(\"/content/drive\", force_remount=True).\n"
          ]
        }
      ]
    },
    {
      "cell_type": "markdown",
      "source": [
        "### Seed\n",
        "We are going to set seed for reproducivity in the following code cell"
      ],
      "metadata": {
        "id": "CqpJrP8RZsVh"
      }
    },
    {
      "cell_type": "code",
      "source": [
        "SEED = 42\n",
        "\n",
        "np.random.seed(SEED)\n",
        "random.seed(SEED)\n",
        "tf.random.set_seed(SEED)"
      ],
      "metadata": {
        "id": "9IWWiRTEUVR9"
      },
      "execution_count": 184,
      "outputs": []
    },
    {
      "cell_type": "markdown",
      "source": [
        "### GPU Acceleration\n",
        "\n",
        "We are going to make use of `GPU` if available so that we can increase the speed of mathematical computations in this notebook."
      ],
      "metadata": {
        "id": "jtB0PowbaHWm"
      }
    },
    {
      "cell_type": "code",
      "source": [
        "gpus = tf.config.list_physical_devices('GPU')\n",
        "if gpus:\n",
        "  try:\n",
        "    for gpu in gpus:\n",
        "      tf.config.experimental.set_memory_growth(gpu, True)\n",
        "    logical_gpus = tf.config.list_logical_devices('GPU')\n",
        "    print(len(gpus), \"Physical GPUs,\", len(logical_gpus), \"Logical GPUs\")\n",
        "  except RuntimeError as e:\n",
        "    print(e)\n",
        "else:\n",
        "  print(\"No GPU's\")"
      ],
      "metadata": {
        "colab": {
          "base_uri": "https://localhost:8080/"
        },
        "id": "q1KBHVOdUVPQ",
        "outputId": "d76aaacc-66e4-420e-88fd-13850985eb2e"
      },
      "execution_count": 185,
      "outputs": [
        {
          "output_type": "stream",
          "name": "stdout",
          "text": [
            "1 Physical GPUs, 1 Logical GPUs\n"
          ]
        }
      ]
    },
    {
      "cell_type": "markdown",
      "source": [
        "### Data Path\n",
        "In the following code cell we are going to define where our datafile path is. Note that this file is nothing but a `csv` file that is stored in my google drive."
      ],
      "metadata": {
        "id": "_sCSpbiDafQe"
      }
    },
    {
      "cell_type": "code",
      "source": [
        "data_path = \"/content/drive/My Drive/NLP Data/E-Commerce Reviews/clean_data.csv\"\n",
        "\n",
        "assert os.path.exists(data_path) == True, \"File not found\""
      ],
      "metadata": {
        "id": "mjZMwCfHUVMP"
      },
      "execution_count": 186,
      "outputs": []
    },
    {
      "cell_type": "markdown",
      "source": [
        "### Dataframe\n",
        "We are going to read the data_path as a dataframe using `pandas` in the following code cell."
      ],
      "metadata": {
        "id": "XSlUEW9Ibhxa"
      }
    },
    {
      "cell_type": "code",
      "source": [
        "dataframe = pd.read_csv(data_path)\n",
        "dataframe.head(4)"
      ],
      "metadata": {
        "colab": {
          "base_uri": "https://localhost:8080/",
          "height": 175
        },
        "id": "Zg5EMbcPUVIm",
        "outputId": "6e9de693-a569-48c7-bed6-cb3b362447d3"
      },
      "execution_count": 187,
      "outputs": [
        {
          "output_type": "execute_result",
          "data": {
            "text/plain": [
              "                                                text  rating  recommended  \\\n",
              "0  Absolutely wonderful silky and sexy and comfor...       4            1   \n",
              "1  Love this dress it is sooo pretty i happened t...       5            1   \n",
              "2  I had such high hopes for this dress and reall...       3            0   \n",
              "3  I love love love this jumpsuit it is fun flirt...       5            1   \n",
              "\n",
              "   upvotes  \n",
              "0        0  \n",
              "1        4  \n",
              "2        0  \n",
              "3        0  "
            ],
            "text/html": [
              "\n",
              "  <div id=\"df-6ef69dda-4a6a-4f03-94aa-3326c71d6758\" class=\"colab-df-container\">\n",
              "    <div>\n",
              "<style scoped>\n",
              "    .dataframe tbody tr th:only-of-type {\n",
              "        vertical-align: middle;\n",
              "    }\n",
              "\n",
              "    .dataframe tbody tr th {\n",
              "        vertical-align: top;\n",
              "    }\n",
              "\n",
              "    .dataframe thead th {\n",
              "        text-align: right;\n",
              "    }\n",
              "</style>\n",
              "<table border=\"1\" class=\"dataframe\">\n",
              "  <thead>\n",
              "    <tr style=\"text-align: right;\">\n",
              "      <th></th>\n",
              "      <th>text</th>\n",
              "      <th>rating</th>\n",
              "      <th>recommended</th>\n",
              "      <th>upvotes</th>\n",
              "    </tr>\n",
              "  </thead>\n",
              "  <tbody>\n",
              "    <tr>\n",
              "      <th>0</th>\n",
              "      <td>Absolutely wonderful silky and sexy and comfor...</td>\n",
              "      <td>4</td>\n",
              "      <td>1</td>\n",
              "      <td>0</td>\n",
              "    </tr>\n",
              "    <tr>\n",
              "      <th>1</th>\n",
              "      <td>Love this dress it is sooo pretty i happened t...</td>\n",
              "      <td>5</td>\n",
              "      <td>1</td>\n",
              "      <td>4</td>\n",
              "    </tr>\n",
              "    <tr>\n",
              "      <th>2</th>\n",
              "      <td>I had such high hopes for this dress and reall...</td>\n",
              "      <td>3</td>\n",
              "      <td>0</td>\n",
              "      <td>0</td>\n",
              "    </tr>\n",
              "    <tr>\n",
              "      <th>3</th>\n",
              "      <td>I love love love this jumpsuit it is fun flirt...</td>\n",
              "      <td>5</td>\n",
              "      <td>1</td>\n",
              "      <td>0</td>\n",
              "    </tr>\n",
              "  </tbody>\n",
              "</table>\n",
              "</div>\n",
              "    <div class=\"colab-df-buttons\">\n",
              "\n",
              "  <div class=\"colab-df-container\">\n",
              "    <button class=\"colab-df-convert\" onclick=\"convertToInteractive('df-6ef69dda-4a6a-4f03-94aa-3326c71d6758')\"\n",
              "            title=\"Convert this dataframe to an interactive table.\"\n",
              "            style=\"display:none;\">\n",
              "\n",
              "  <svg xmlns=\"http://www.w3.org/2000/svg\" height=\"24px\" viewBox=\"0 -960 960 960\">\n",
              "    <path d=\"M120-120v-720h720v720H120Zm60-500h600v-160H180v160Zm220 220h160v-160H400v160Zm0 220h160v-160H400v160ZM180-400h160v-160H180v160Zm440 0h160v-160H620v160ZM180-180h160v-160H180v160Zm440 0h160v-160H620v160Z\"/>\n",
              "  </svg>\n",
              "    </button>\n",
              "\n",
              "  <style>\n",
              "    .colab-df-container {\n",
              "      display:flex;\n",
              "      gap: 12px;\n",
              "    }\n",
              "\n",
              "    .colab-df-convert {\n",
              "      background-color: #E8F0FE;\n",
              "      border: none;\n",
              "      border-radius: 50%;\n",
              "      cursor: pointer;\n",
              "      display: none;\n",
              "      fill: #1967D2;\n",
              "      height: 32px;\n",
              "      padding: 0 0 0 0;\n",
              "      width: 32px;\n",
              "    }\n",
              "\n",
              "    .colab-df-convert:hover {\n",
              "      background-color: #E2EBFA;\n",
              "      box-shadow: 0px 1px 2px rgba(60, 64, 67, 0.3), 0px 1px 3px 1px rgba(60, 64, 67, 0.15);\n",
              "      fill: #174EA6;\n",
              "    }\n",
              "\n",
              "    .colab-df-buttons div {\n",
              "      margin-bottom: 4px;\n",
              "    }\n",
              "\n",
              "    [theme=dark] .colab-df-convert {\n",
              "      background-color: #3B4455;\n",
              "      fill: #D2E3FC;\n",
              "    }\n",
              "\n",
              "    [theme=dark] .colab-df-convert:hover {\n",
              "      background-color: #434B5C;\n",
              "      box-shadow: 0px 1px 3px 1px rgba(0, 0, 0, 0.15);\n",
              "      filter: drop-shadow(0px 1px 2px rgba(0, 0, 0, 0.3));\n",
              "      fill: #FFFFFF;\n",
              "    }\n",
              "  </style>\n",
              "\n",
              "    <script>\n",
              "      const buttonEl =\n",
              "        document.querySelector('#df-6ef69dda-4a6a-4f03-94aa-3326c71d6758 button.colab-df-convert');\n",
              "      buttonEl.style.display =\n",
              "        google.colab.kernel.accessAllowed ? 'block' : 'none';\n",
              "\n",
              "      async function convertToInteractive(key) {\n",
              "        const element = document.querySelector('#df-6ef69dda-4a6a-4f03-94aa-3326c71d6758');\n",
              "        const dataTable =\n",
              "          await google.colab.kernel.invokeFunction('convertToInteractive',\n",
              "                                                    [key], {});\n",
              "        if (!dataTable) return;\n",
              "\n",
              "        const docLinkHtml = 'Like what you see? Visit the ' +\n",
              "          '<a target=\"_blank\" href=https://colab.research.google.com/notebooks/data_table.ipynb>data table notebook</a>'\n",
              "          + ' to learn more about interactive tables.';\n",
              "        element.innerHTML = '';\n",
              "        dataTable['output_type'] = 'display_data';\n",
              "        await google.colab.output.renderOutput(dataTable, element);\n",
              "        const docLink = document.createElement('div');\n",
              "        docLink.innerHTML = docLinkHtml;\n",
              "        element.appendChild(docLink);\n",
              "      }\n",
              "    </script>\n",
              "  </div>\n",
              "\n",
              "\n",
              "<div id=\"df-cf3e4f64-bd2c-4da2-ae1f-c3a2260c34c9\">\n",
              "  <button class=\"colab-df-quickchart\" onclick=\"quickchart('df-cf3e4f64-bd2c-4da2-ae1f-c3a2260c34c9')\"\n",
              "            title=\"Suggest charts\"\n",
              "            style=\"display:none;\">\n",
              "\n",
              "<svg xmlns=\"http://www.w3.org/2000/svg\" height=\"24px\"viewBox=\"0 0 24 24\"\n",
              "     width=\"24px\">\n",
              "    <g>\n",
              "        <path d=\"M19 3H5c-1.1 0-2 .9-2 2v14c0 1.1.9 2 2 2h14c1.1 0 2-.9 2-2V5c0-1.1-.9-2-2-2zM9 17H7v-7h2v7zm4 0h-2V7h2v10zm4 0h-2v-4h2v4z\"/>\n",
              "    </g>\n",
              "</svg>\n",
              "  </button>\n",
              "\n",
              "<style>\n",
              "  .colab-df-quickchart {\n",
              "      --bg-color: #E8F0FE;\n",
              "      --fill-color: #1967D2;\n",
              "      --hover-bg-color: #E2EBFA;\n",
              "      --hover-fill-color: #174EA6;\n",
              "      --disabled-fill-color: #AAA;\n",
              "      --disabled-bg-color: #DDD;\n",
              "  }\n",
              "\n",
              "  [theme=dark] .colab-df-quickchart {\n",
              "      --bg-color: #3B4455;\n",
              "      --fill-color: #D2E3FC;\n",
              "      --hover-bg-color: #434B5C;\n",
              "      --hover-fill-color: #FFFFFF;\n",
              "      --disabled-bg-color: #3B4455;\n",
              "      --disabled-fill-color: #666;\n",
              "  }\n",
              "\n",
              "  .colab-df-quickchart {\n",
              "    background-color: var(--bg-color);\n",
              "    border: none;\n",
              "    border-radius: 50%;\n",
              "    cursor: pointer;\n",
              "    display: none;\n",
              "    fill: var(--fill-color);\n",
              "    height: 32px;\n",
              "    padding: 0;\n",
              "    width: 32px;\n",
              "  }\n",
              "\n",
              "  .colab-df-quickchart:hover {\n",
              "    background-color: var(--hover-bg-color);\n",
              "    box-shadow: 0 1px 2px rgba(60, 64, 67, 0.3), 0 1px 3px 1px rgba(60, 64, 67, 0.15);\n",
              "    fill: var(--button-hover-fill-color);\n",
              "  }\n",
              "\n",
              "  .colab-df-quickchart-complete:disabled,\n",
              "  .colab-df-quickchart-complete:disabled:hover {\n",
              "    background-color: var(--disabled-bg-color);\n",
              "    fill: var(--disabled-fill-color);\n",
              "    box-shadow: none;\n",
              "  }\n",
              "\n",
              "  .colab-df-spinner {\n",
              "    border: 2px solid var(--fill-color);\n",
              "    border-color: transparent;\n",
              "    border-bottom-color: var(--fill-color);\n",
              "    animation:\n",
              "      spin 1s steps(1) infinite;\n",
              "  }\n",
              "\n",
              "  @keyframes spin {\n",
              "    0% {\n",
              "      border-color: transparent;\n",
              "      border-bottom-color: var(--fill-color);\n",
              "      border-left-color: var(--fill-color);\n",
              "    }\n",
              "    20% {\n",
              "      border-color: transparent;\n",
              "      border-left-color: var(--fill-color);\n",
              "      border-top-color: var(--fill-color);\n",
              "    }\n",
              "    30% {\n",
              "      border-color: transparent;\n",
              "      border-left-color: var(--fill-color);\n",
              "      border-top-color: var(--fill-color);\n",
              "      border-right-color: var(--fill-color);\n",
              "    }\n",
              "    40% {\n",
              "      border-color: transparent;\n",
              "      border-right-color: var(--fill-color);\n",
              "      border-top-color: var(--fill-color);\n",
              "    }\n",
              "    60% {\n",
              "      border-color: transparent;\n",
              "      border-right-color: var(--fill-color);\n",
              "    }\n",
              "    80% {\n",
              "      border-color: transparent;\n",
              "      border-right-color: var(--fill-color);\n",
              "      border-bottom-color: var(--fill-color);\n",
              "    }\n",
              "    90% {\n",
              "      border-color: transparent;\n",
              "      border-bottom-color: var(--fill-color);\n",
              "    }\n",
              "  }\n",
              "</style>\n",
              "\n",
              "  <script>\n",
              "    async function quickchart(key) {\n",
              "      const quickchartButtonEl =\n",
              "        document.querySelector('#' + key + ' button');\n",
              "      quickchartButtonEl.disabled = true;  // To prevent multiple clicks.\n",
              "      quickchartButtonEl.classList.add('colab-df-spinner');\n",
              "      try {\n",
              "        const charts = await google.colab.kernel.invokeFunction(\n",
              "            'suggestCharts', [key], {});\n",
              "      } catch (error) {\n",
              "        console.error('Error during call to suggestCharts:', error);\n",
              "      }\n",
              "      quickchartButtonEl.classList.remove('colab-df-spinner');\n",
              "      quickchartButtonEl.classList.add('colab-df-quickchart-complete');\n",
              "    }\n",
              "    (() => {\n",
              "      let quickchartButtonEl =\n",
              "        document.querySelector('#df-cf3e4f64-bd2c-4da2-ae1f-c3a2260c34c9 button');\n",
              "      quickchartButtonEl.style.display =\n",
              "        google.colab.kernel.accessAllowed ? 'block' : 'none';\n",
              "    })();\n",
              "  </script>\n",
              "</div>\n",
              "\n",
              "    </div>\n",
              "  </div>\n"
            ],
            "application/vnd.google.colaboratory.intrinsic+json": {
              "type": "dataframe",
              "variable_name": "dataframe",
              "summary": "{\n  \"name\": \"dataframe\",\n  \"rows\": 22641,\n  \"fields\": [\n    {\n      \"column\": \"text\",\n      \"properties\": {\n        \"dtype\": \"string\",\n        \"num_unique_values\": 22633,\n        \"samples\": [\n          \"This top is really pretty and nice quality runs big i went down a size and its perfect coloring is more subtle in person than in the photo\",\n          \"I was so excited to splurge on a mara hoffman suit and was sorely disappointed when i received this suit in the mail i am petite and fairly curvy so i knew it would likely be a little long in the torso but the whole suit was so oddly shaped i could not imagine anyone it would fit the square shape in between the halter pieces is awkward and the pieces that are supposed to hold your chest are super wide and loose\",\n          \"Got so many complements really comfy but runs big i am usually a large and i wish i had gotten the small\"\n        ],\n        \"semantic_type\": \"\",\n        \"description\": \"\"\n      }\n    },\n    {\n      \"column\": \"rating\",\n      \"properties\": {\n        \"dtype\": \"number\",\n        \"std\": 1,\n        \"min\": 1,\n        \"max\": 5,\n        \"num_unique_values\": 5,\n        \"samples\": [\n          5,\n          1,\n          3\n        ],\n        \"semantic_type\": \"\",\n        \"description\": \"\"\n      }\n    },\n    {\n      \"column\": \"recommended\",\n      \"properties\": {\n        \"dtype\": \"number\",\n        \"std\": 0,\n        \"min\": 0,\n        \"max\": 1,\n        \"num_unique_values\": 2,\n        \"samples\": [\n          0,\n          1\n        ],\n        \"semantic_type\": \"\",\n        \"description\": \"\"\n      }\n    },\n    {\n      \"column\": \"upvotes\",\n      \"properties\": {\n        \"dtype\": \"number\",\n        \"std\": 5,\n        \"min\": 0,\n        \"max\": 122,\n        \"num_unique_values\": 82,\n        \"samples\": [\n          21,\n          0\n        ],\n        \"semantic_type\": \"\",\n        \"description\": \"\"\n      }\n    }\n  ]\n}"
            }
          },
          "metadata": {},
          "execution_count": 187
        }
      ]
    },
    {
      "cell_type": "markdown",
      "source": [
        "Before we spit the data into different sets we want to analyize how the data is distributed in our cleaned dataset. But before we do that we want to make sure that the text is in common case. So we are going to convert our text to lower case in the text column of our dataframe."
      ],
      "metadata": {
        "id": "xEw7BSnj_WhW"
      }
    },
    {
      "cell_type": "code",
      "source": [
        "dataframe['text'] = dataframe['text'].apply(lambda x: x.lower())\n",
        "dataframe.head(2)"
      ],
      "metadata": {
        "colab": {
          "base_uri": "https://localhost:8080/",
          "height": 112
        },
        "id": "NohvKPU_B13g",
        "outputId": "a0a15c46-ff86-49da-975e-8714779ff6bb"
      },
      "execution_count": 188,
      "outputs": [
        {
          "output_type": "execute_result",
          "data": {
            "text/plain": [
              "                                                text  rating  recommended  \\\n",
              "0  absolutely wonderful silky and sexy and comfor...       4            1   \n",
              "1  love this dress it is sooo pretty i happened t...       5            1   \n",
              "\n",
              "   upvotes  \n",
              "0        0  \n",
              "1        4  "
            ],
            "text/html": [
              "\n",
              "  <div id=\"df-6f511625-4790-4150-8e50-8eb2480e94bc\" class=\"colab-df-container\">\n",
              "    <div>\n",
              "<style scoped>\n",
              "    .dataframe tbody tr th:only-of-type {\n",
              "        vertical-align: middle;\n",
              "    }\n",
              "\n",
              "    .dataframe tbody tr th {\n",
              "        vertical-align: top;\n",
              "    }\n",
              "\n",
              "    .dataframe thead th {\n",
              "        text-align: right;\n",
              "    }\n",
              "</style>\n",
              "<table border=\"1\" class=\"dataframe\">\n",
              "  <thead>\n",
              "    <tr style=\"text-align: right;\">\n",
              "      <th></th>\n",
              "      <th>text</th>\n",
              "      <th>rating</th>\n",
              "      <th>recommended</th>\n",
              "      <th>upvotes</th>\n",
              "    </tr>\n",
              "  </thead>\n",
              "  <tbody>\n",
              "    <tr>\n",
              "      <th>0</th>\n",
              "      <td>absolutely wonderful silky and sexy and comfor...</td>\n",
              "      <td>4</td>\n",
              "      <td>1</td>\n",
              "      <td>0</td>\n",
              "    </tr>\n",
              "    <tr>\n",
              "      <th>1</th>\n",
              "      <td>love this dress it is sooo pretty i happened t...</td>\n",
              "      <td>5</td>\n",
              "      <td>1</td>\n",
              "      <td>4</td>\n",
              "    </tr>\n",
              "  </tbody>\n",
              "</table>\n",
              "</div>\n",
              "    <div class=\"colab-df-buttons\">\n",
              "\n",
              "  <div class=\"colab-df-container\">\n",
              "    <button class=\"colab-df-convert\" onclick=\"convertToInteractive('df-6f511625-4790-4150-8e50-8eb2480e94bc')\"\n",
              "            title=\"Convert this dataframe to an interactive table.\"\n",
              "            style=\"display:none;\">\n",
              "\n",
              "  <svg xmlns=\"http://www.w3.org/2000/svg\" height=\"24px\" viewBox=\"0 -960 960 960\">\n",
              "    <path d=\"M120-120v-720h720v720H120Zm60-500h600v-160H180v160Zm220 220h160v-160H400v160Zm0 220h160v-160H400v160ZM180-400h160v-160H180v160Zm440 0h160v-160H620v160ZM180-180h160v-160H180v160Zm440 0h160v-160H620v160Z\"/>\n",
              "  </svg>\n",
              "    </button>\n",
              "\n",
              "  <style>\n",
              "    .colab-df-container {\n",
              "      display:flex;\n",
              "      gap: 12px;\n",
              "    }\n",
              "\n",
              "    .colab-df-convert {\n",
              "      background-color: #E8F0FE;\n",
              "      border: none;\n",
              "      border-radius: 50%;\n",
              "      cursor: pointer;\n",
              "      display: none;\n",
              "      fill: #1967D2;\n",
              "      height: 32px;\n",
              "      padding: 0 0 0 0;\n",
              "      width: 32px;\n",
              "    }\n",
              "\n",
              "    .colab-df-convert:hover {\n",
              "      background-color: #E2EBFA;\n",
              "      box-shadow: 0px 1px 2px rgba(60, 64, 67, 0.3), 0px 1px 3px 1px rgba(60, 64, 67, 0.15);\n",
              "      fill: #174EA6;\n",
              "    }\n",
              "\n",
              "    .colab-df-buttons div {\n",
              "      margin-bottom: 4px;\n",
              "    }\n",
              "\n",
              "    [theme=dark] .colab-df-convert {\n",
              "      background-color: #3B4455;\n",
              "      fill: #D2E3FC;\n",
              "    }\n",
              "\n",
              "    [theme=dark] .colab-df-convert:hover {\n",
              "      background-color: #434B5C;\n",
              "      box-shadow: 0px 1px 3px 1px rgba(0, 0, 0, 0.15);\n",
              "      filter: drop-shadow(0px 1px 2px rgba(0, 0, 0, 0.3));\n",
              "      fill: #FFFFFF;\n",
              "    }\n",
              "  </style>\n",
              "\n",
              "    <script>\n",
              "      const buttonEl =\n",
              "        document.querySelector('#df-6f511625-4790-4150-8e50-8eb2480e94bc button.colab-df-convert');\n",
              "      buttonEl.style.display =\n",
              "        google.colab.kernel.accessAllowed ? 'block' : 'none';\n",
              "\n",
              "      async function convertToInteractive(key) {\n",
              "        const element = document.querySelector('#df-6f511625-4790-4150-8e50-8eb2480e94bc');\n",
              "        const dataTable =\n",
              "          await google.colab.kernel.invokeFunction('convertToInteractive',\n",
              "                                                    [key], {});\n",
              "        if (!dataTable) return;\n",
              "\n",
              "        const docLinkHtml = 'Like what you see? Visit the ' +\n",
              "          '<a target=\"_blank\" href=https://colab.research.google.com/notebooks/data_table.ipynb>data table notebook</a>'\n",
              "          + ' to learn more about interactive tables.';\n",
              "        element.innerHTML = '';\n",
              "        dataTable['output_type'] = 'display_data';\n",
              "        await google.colab.output.renderOutput(dataTable, element);\n",
              "        const docLink = document.createElement('div');\n",
              "        docLink.innerHTML = docLinkHtml;\n",
              "        element.appendChild(docLink);\n",
              "      }\n",
              "    </script>\n",
              "  </div>\n",
              "\n",
              "\n",
              "<div id=\"df-453c63a6-ebc7-4658-b207-e6b3aa50eefd\">\n",
              "  <button class=\"colab-df-quickchart\" onclick=\"quickchart('df-453c63a6-ebc7-4658-b207-e6b3aa50eefd')\"\n",
              "            title=\"Suggest charts\"\n",
              "            style=\"display:none;\">\n",
              "\n",
              "<svg xmlns=\"http://www.w3.org/2000/svg\" height=\"24px\"viewBox=\"0 0 24 24\"\n",
              "     width=\"24px\">\n",
              "    <g>\n",
              "        <path d=\"M19 3H5c-1.1 0-2 .9-2 2v14c0 1.1.9 2 2 2h14c1.1 0 2-.9 2-2V5c0-1.1-.9-2-2-2zM9 17H7v-7h2v7zm4 0h-2V7h2v10zm4 0h-2v-4h2v4z\"/>\n",
              "    </g>\n",
              "</svg>\n",
              "  </button>\n",
              "\n",
              "<style>\n",
              "  .colab-df-quickchart {\n",
              "      --bg-color: #E8F0FE;\n",
              "      --fill-color: #1967D2;\n",
              "      --hover-bg-color: #E2EBFA;\n",
              "      --hover-fill-color: #174EA6;\n",
              "      --disabled-fill-color: #AAA;\n",
              "      --disabled-bg-color: #DDD;\n",
              "  }\n",
              "\n",
              "  [theme=dark] .colab-df-quickchart {\n",
              "      --bg-color: #3B4455;\n",
              "      --fill-color: #D2E3FC;\n",
              "      --hover-bg-color: #434B5C;\n",
              "      --hover-fill-color: #FFFFFF;\n",
              "      --disabled-bg-color: #3B4455;\n",
              "      --disabled-fill-color: #666;\n",
              "  }\n",
              "\n",
              "  .colab-df-quickchart {\n",
              "    background-color: var(--bg-color);\n",
              "    border: none;\n",
              "    border-radius: 50%;\n",
              "    cursor: pointer;\n",
              "    display: none;\n",
              "    fill: var(--fill-color);\n",
              "    height: 32px;\n",
              "    padding: 0;\n",
              "    width: 32px;\n",
              "  }\n",
              "\n",
              "  .colab-df-quickchart:hover {\n",
              "    background-color: var(--hover-bg-color);\n",
              "    box-shadow: 0 1px 2px rgba(60, 64, 67, 0.3), 0 1px 3px 1px rgba(60, 64, 67, 0.15);\n",
              "    fill: var(--button-hover-fill-color);\n",
              "  }\n",
              "\n",
              "  .colab-df-quickchart-complete:disabled,\n",
              "  .colab-df-quickchart-complete:disabled:hover {\n",
              "    background-color: var(--disabled-bg-color);\n",
              "    fill: var(--disabled-fill-color);\n",
              "    box-shadow: none;\n",
              "  }\n",
              "\n",
              "  .colab-df-spinner {\n",
              "    border: 2px solid var(--fill-color);\n",
              "    border-color: transparent;\n",
              "    border-bottom-color: var(--fill-color);\n",
              "    animation:\n",
              "      spin 1s steps(1) infinite;\n",
              "  }\n",
              "\n",
              "  @keyframes spin {\n",
              "    0% {\n",
              "      border-color: transparent;\n",
              "      border-bottom-color: var(--fill-color);\n",
              "      border-left-color: var(--fill-color);\n",
              "    }\n",
              "    20% {\n",
              "      border-color: transparent;\n",
              "      border-left-color: var(--fill-color);\n",
              "      border-top-color: var(--fill-color);\n",
              "    }\n",
              "    30% {\n",
              "      border-color: transparent;\n",
              "      border-left-color: var(--fill-color);\n",
              "      border-top-color: var(--fill-color);\n",
              "      border-right-color: var(--fill-color);\n",
              "    }\n",
              "    40% {\n",
              "      border-color: transparent;\n",
              "      border-right-color: var(--fill-color);\n",
              "      border-top-color: var(--fill-color);\n",
              "    }\n",
              "    60% {\n",
              "      border-color: transparent;\n",
              "      border-right-color: var(--fill-color);\n",
              "    }\n",
              "    80% {\n",
              "      border-color: transparent;\n",
              "      border-right-color: var(--fill-color);\n",
              "      border-bottom-color: var(--fill-color);\n",
              "    }\n",
              "    90% {\n",
              "      border-color: transparent;\n",
              "      border-bottom-color: var(--fill-color);\n",
              "    }\n",
              "  }\n",
              "</style>\n",
              "\n",
              "  <script>\n",
              "    async function quickchart(key) {\n",
              "      const quickchartButtonEl =\n",
              "        document.querySelector('#' + key + ' button');\n",
              "      quickchartButtonEl.disabled = true;  // To prevent multiple clicks.\n",
              "      quickchartButtonEl.classList.add('colab-df-spinner');\n",
              "      try {\n",
              "        const charts = await google.colab.kernel.invokeFunction(\n",
              "            'suggestCharts', [key], {});\n",
              "      } catch (error) {\n",
              "        console.error('Error during call to suggestCharts:', error);\n",
              "      }\n",
              "      quickchartButtonEl.classList.remove('colab-df-spinner');\n",
              "      quickchartButtonEl.classList.add('colab-df-quickchart-complete');\n",
              "    }\n",
              "    (() => {\n",
              "      let quickchartButtonEl =\n",
              "        document.querySelector('#df-453c63a6-ebc7-4658-b207-e6b3aa50eefd button');\n",
              "      quickchartButtonEl.style.display =\n",
              "        google.colab.kernel.accessAllowed ? 'block' : 'none';\n",
              "    })();\n",
              "  </script>\n",
              "</div>\n",
              "\n",
              "    </div>\n",
              "  </div>\n"
            ],
            "application/vnd.google.colaboratory.intrinsic+json": {
              "type": "dataframe",
              "variable_name": "dataframe",
              "summary": "{\n  \"name\": \"dataframe\",\n  \"rows\": 22641,\n  \"fields\": [\n    {\n      \"column\": \"text\",\n      \"properties\": {\n        \"dtype\": \"string\",\n        \"num_unique_values\": 22633,\n        \"samples\": [\n          \"this top is really pretty and nice quality runs big i went down a size and its perfect coloring is more subtle in person than in the photo\",\n          \"i was so excited to splurge on a mara hoffman suit and was sorely disappointed when i received this suit in the mail i am petite and fairly curvy so i knew it would likely be a little long in the torso but the whole suit was so oddly shaped i could not imagine anyone it would fit the square shape in between the halter pieces is awkward and the pieces that are supposed to hold your chest are super wide and loose\",\n          \"got so many complements really comfy but runs big i am usually a large and i wish i had gotten the small\"\n        ],\n        \"semantic_type\": \"\",\n        \"description\": \"\"\n      }\n    },\n    {\n      \"column\": \"rating\",\n      \"properties\": {\n        \"dtype\": \"number\",\n        \"std\": 1,\n        \"min\": 1,\n        \"max\": 5,\n        \"num_unique_values\": 5,\n        \"samples\": [\n          5,\n          1,\n          3\n        ],\n        \"semantic_type\": \"\",\n        \"description\": \"\"\n      }\n    },\n    {\n      \"column\": \"recommended\",\n      \"properties\": {\n        \"dtype\": \"number\",\n        \"std\": 0,\n        \"min\": 0,\n        \"max\": 1,\n        \"num_unique_values\": 2,\n        \"samples\": [\n          0,\n          1\n        ],\n        \"semantic_type\": \"\",\n        \"description\": \"\"\n      }\n    },\n    {\n      \"column\": \"upvotes\",\n      \"properties\": {\n        \"dtype\": \"number\",\n        \"std\": 5,\n        \"min\": 0,\n        \"max\": 122,\n        \"num_unique_values\": 82,\n        \"samples\": [\n          21,\n          0\n        ],\n        \"semantic_type\": \"\",\n        \"description\": \"\"\n      }\n    }\n  ]\n}"
            }
          },
          "metadata": {},
          "execution_count": 188
        }
      ]
    },
    {
      "cell_type": "markdown",
      "source": [
        "First let's visualize the using a line graph how the upvotes on a review text were distributed. In the following code cell we are going to do that."
      ],
      "metadata": {
        "id": "ydz99YtFLYcx"
      }
    },
    {
      "source": [
        "plt.figure(figsize=(4, 4))\n",
        "dataframe['upvotes'].plot(kind='line', figsize=(8, 4), title='upvotes', color='#219C90')\n",
        "plt.gca().spines[['top', 'right']].set_visible(False)"
      ],
      "cell_type": "code",
      "execution_count": 189,
      "outputs": [
        {
          "output_type": "display_data",
          "data": {
            "text/plain": [
              "<Figure size 800x400 with 1 Axes>"
            ],
            "image/png": "[encoded data removed]"
          },
          "metadata": {}
        }
      ],
      "metadata": {
        "colab": {
          "base_uri": "https://localhost:8080/",
          "height": 391
        },
        "id": "j5ILtoPdKfKK",
        "outputId": "6f5a1e7a-4780-4426-fd45-71129fd4e72a"
      }
    },
    {
      "cell_type": "markdown",
      "source": [
        "The above line graph shows the distribution of upvotes form a minimum of `0` on a review text to a maximum of `122`."
      ],
      "metadata": {
        "id": "iLnMmBBCK_iN"
      }
    },
    {
      "cell_type": "markdown",
      "source": [
        "Next we are going to visualize how the ratings are distributed using a pie chat.\n"
      ],
      "metadata": {
        "id": "jwBoKmsnFGZl"
      }
    },
    {
      "cell_type": "code",
      "source": [
        "dist_rating\t= {i:0 for i in dataframe.rating.unique()}\n",
        "for rating in dataframe.rating:\n",
        "  dist_rating[rating] += 1\n",
        "\n",
        "plt.figure(figsize=(4, 4))\n",
        "plt.pie(dist_rating.values(), labels=dist_rating.keys(),\n",
        "        pctdistance=0.6, shadow=True, autopct='%1.1f%%', textprops={'color': 'white', 'fontsize':8}, radius=.6,\n",
        "        colors=['#219C90', '#80C4E9', '#604CC3', '#C80036', '#365E32'])\n",
        "plt.legend(fontsize=8, labels=list(dist_rating.keys()), bbox_to_anchor=(1, 1), loc='upper left')\n",
        "plt.show()"
      ],
      "metadata": {
        "colab": {
          "base_uri": "https://localhost:8080/",
          "height": 345
        },
        "id": "d-H8w2TyCVeo",
        "outputId": "c12741c5-ae09-4c63-c8b5-9a6ab3b8ff4a"
      },
      "execution_count": 190,
      "outputs": [
        {
          "output_type": "display_data",
          "data": {
            "text/plain": [
              "<Figure size 400x400 with 1 Axes>"
            ],
            "image/png": "[encoded data removed]"
          },
          "metadata": {}
        }
      ]
    },
    {
      "cell_type": "markdown",
      "source": [
        "From the above pie chat we can conclude that there are more `5` star ratted products that were reviewed. Only a fraction of `3.6%` were lowly rated. Since we will will be predicting the rating and we canm see that there is misbalance of labels accuracy metric will not be a good measure of how the model will perform. We are going to measure our model performance using other metrics such as the confusion matrix, f1_score, etc.\n",
        "\n",
        "\n",
        "\n",
        "Next we are going to check how the labels were distributed interms of product recommentations."
      ],
      "metadata": {
        "id": "-yf_I2j_LyjP"
      }
    },
    {
      "cell_type": "code",
      "source": [
        "dist_recommended\t= {'recommended': 0, 'not recommended': 0}\n",
        "for recommended in dataframe.recommended:\n",
        "  if recommended == 1:\n",
        "    dist_recommended['recommended'] += 1\n",
        "  else:\n",
        "    dist_recommended['not recommended'] += 1\n",
        "\n",
        "plt.figure(figsize=(4, 4))\n",
        "plt.bar(dist_recommended.keys(), dist_recommended.values(), width=.4,label=dist_recommended.keys(),\n",
        "        color=['#219C90', '#365E32'])\n",
        "plt.legend(fontsize=8, labels=list(dist_recommended.keys()), bbox_to_anchor=(1, 1), loc='upper left')\n",
        "plt.show()"
      ],
      "metadata": {
        "colab": {
          "base_uri": "https://localhost:8080/",
          "height": 368
        },
        "id": "SDgQDx8sCViI",
        "outputId": "02278fee-beea-4d04-8f9a-de9404e9cc62"
      },
      "execution_count": 191,
      "outputs": [
        {
          "output_type": "display_data",
          "data": {
            "text/plain": [
              "<Figure size 400x400 with 1 Axes>"
            ],
            "image/png": "[encoded data removed]"
          },
          "metadata": {}
        }
      ]
    },
    {
      "cell_type": "markdown",
      "source": [
        "Most of the products that was reviewed by customers were recommended. We can see that there is a huge misbalance of data. What we want to do is to make sure that the labels will be balanced for recommended or not recommended, so our dataset will be trimmed a bit.\n",
        "\n",
        "\n",
        "Let's check the context of the product reviews on women clothes. For that we are going to use a word cloud as a visualization to check which words were frequently appearing in the review text a lot based on the first `10_000` words in the review text."
      ],
      "metadata": {
        "id": "f9eoo9sfMaP-"
      }
    },
    {
      "cell_type": "code",
      "source": [
        "review_text = ' '.join(dataframe.text.values)\n",
        "\n",
        "def transform_format(val):\n",
        "    if val == 0:\n",
        "        return 255\n",
        "    else:\n",
        "        return val\n",
        "\n",
        "wine_mask = np.array(Image.open('wine.png')).astype(np.int32)\n",
        "for i in range(len(wine_mask)):\n",
        "    wine_mask[i] = list(map(transform_format, wine_mask[i]))\n",
        "\n",
        "image = wc.WordCloud(background_color=\"white\", max_words=10_000, mask=wine_mask,\n",
        "                contour_width=3, contour_color='firebrick').generate(review_text)\n",
        "\n",
        "plt.figure(figsize=(4, 4))\n",
        "plt.imshow(image)\n",
        "plt.axis(\"off\")\n",
        "plt.show()"
      ],
      "metadata": {
        "colab": {
          "base_uri": "https://localhost:8080/",
          "height": 345
        },
        "id": "mLiFp6fcH4ae",
        "outputId": "fd25db73-027b-4ab7-e151-af9b9db92921"
      },
      "execution_count": 192,
      "outputs": [
        {
          "output_type": "display_data",
          "data": {
            "text/plain": [
              "<Figure size 400x400 with 1 Axes>"
            ],
            "image/png": "[encoded data removed]"
          },
          "metadata": {}
        }
      ]
    },
    {
      "cell_type": "markdown",
      "source": [
        "We can see and conclude that the words like `dress`, `fabric`, `top` and `love` are frequently appearing in the review text. We can tell that these reviews was based on women clothing.\n",
        "\n",
        "\n",
        "### Balancing labels\n",
        "\n",
        "As i have mentioned we want to balance the rows of the recommended column. And check so that we can use a training accuracy as a measure of how our model will be good in predicting weather a product can be recommended to a customer or not based on the review text and review upvotes."
      ],
      "metadata": {
        "id": "gXOAIoQjH4Lf"
      }
    },
    {
      "cell_type": "code",
      "source": [
        "max_recommended = dataframe.recommended.where(dataframe.recommended == 0).count()\n",
        "max_recommended"
      ],
      "metadata": {
        "colab": {
          "base_uri": "https://localhost:8080/"
        },
        "id": "dhMjy6ObwrlQ",
        "outputId": "60a64ae6-fb6c-4cce-fc52-984743481651"
      },
      "execution_count": 193,
      "outputs": [
        {
          "output_type": "execute_result",
          "data": {
            "text/plain": [
              "4101"
            ]
          },
          "metadata": {},
          "execution_count": 193
        }
      ]
    },
    {
      "cell_type": "markdown",
      "source": [
        "We are going to balance our recommended labels to be equal."
      ],
      "metadata": {
        "id": "He3WHCOfxuuf"
      }
    },
    {
      "cell_type": "code",
      "source": [
        "dataframe = dataframe.groupby('recommended', as_index=False).apply(lambda x: x.sample(n=max_recommended)).reset_index(drop=True)\n",
        "dataframe.head()"
      ],
      "metadata": {
        "colab": {
          "base_uri": "https://localhost:8080/",
          "height": 206
        },
        "id": "lHxHTeF2x2pf",
        "outputId": "b5ff37c0-7a63-4d07-a9dd-fb37eaf90a35"
      },
      "execution_count": 194,
      "outputs": [
        {
          "output_type": "execute_result",
          "data": {
            "text/plain": [
              "                                                text  rating  recommended  \\\n",
              "0  luckily i bought this on sale i now see the in...       1            0   \n",
              "1  this dress is absolutely lovely i could not le...       5            0   \n",
              "2  i love love love byron lars dresses they fit m...       3            0   \n",
              "3  i tried this on today because when i touched i...       4            0   \n",
              "4  i love this dress but when i put it on i was a...       3            0   \n",
              "\n",
              "   upvotes  \n",
              "0        2  \n",
              "1        8  \n",
              "2        3  \n",
              "3        2  \n",
              "4        1  "
            ],
            "text/html": [
              "\n",
              "  <div id=\"df-2ff66803-d086-4cbe-a5fa-48f9c4a5b750\" class=\"colab-df-container\">\n",
              "    <div>\n",
              "<style scoped>\n",
              "    .dataframe tbody tr th:only-of-type {\n",
              "        vertical-align: middle;\n",
              "    }\n",
              "\n",
              "    .dataframe tbody tr th {\n",
              "        vertical-align: top;\n",
              "    }\n",
              "\n",
              "    .dataframe thead th {\n",
              "        text-align: right;\n",
              "    }\n",
              "</style>\n",
              "<table border=\"1\" class=\"dataframe\">\n",
              "  <thead>\n",
              "    <tr style=\"text-align: right;\">\n",
              "      <th></th>\n",
              "      <th>text</th>\n",
              "      <th>rating</th>\n",
              "      <th>recommended</th>\n",
              "      <th>upvotes</th>\n",
              "    </tr>\n",
              "  </thead>\n",
              "  <tbody>\n",
              "    <tr>\n",
              "      <th>0</th>\n",
              "      <td>luckily i bought this on sale i now see the in...</td>\n",
              "      <td>1</td>\n",
              "      <td>0</td>\n",
              "      <td>2</td>\n",
              "    </tr>\n",
              "    <tr>\n",
              "      <th>1</th>\n",
              "      <td>this dress is absolutely lovely i could not le...</td>\n",
              "      <td>5</td>\n",
              "      <td>0</td>\n",
              "      <td>8</td>\n",
              "    </tr>\n",
              "    <tr>\n",
              "      <th>2</th>\n",
              "      <td>i love love love byron lars dresses they fit m...</td>\n",
              "      <td>3</td>\n",
              "      <td>0</td>\n",
              "      <td>3</td>\n",
              "    </tr>\n",
              "    <tr>\n",
              "      <th>3</th>\n",
              "      <td>i tried this on today because when i touched i...</td>\n",
              "      <td>4</td>\n",
              "      <td>0</td>\n",
              "      <td>2</td>\n",
              "    </tr>\n",
              "    <tr>\n",
              "      <th>4</th>\n",
              "      <td>i love this dress but when i put it on i was a...</td>\n",
              "      <td>3</td>\n",
              "      <td>0</td>\n",
              "      <td>1</td>\n",
              "    </tr>\n",
              "  </tbody>\n",
              "</table>\n",
              "</div>\n",
              "    <div class=\"colab-df-buttons\">\n",
              "\n",
              "  <div class=\"colab-df-container\">\n",
              "    <button class=\"colab-df-convert\" onclick=\"convertToInteractive('df-2ff66803-d086-4cbe-a5fa-48f9c4a5b750')\"\n",
              "            title=\"Convert this dataframe to an interactive table.\"\n",
              "            style=\"display:none;\">\n",
              "\n",
              "  <svg xmlns=\"http://www.w3.org/2000/svg\" height=\"24px\" viewBox=\"0 -960 960 960\">\n",
              "    <path d=\"M120-120v-720h720v720H120Zm60-500h600v-160H180v160Zm220 220h160v-160H400v160Zm0 220h160v-160H400v160ZM180-400h160v-160H180v160Zm440 0h160v-160H620v160ZM180-180h160v-160H180v160Zm440 0h160v-160H620v160Z\"/>\n",
              "  </svg>\n",
              "    </button>\n",
              "\n",
              "  <style>\n",
              "    .colab-df-container {\n",
              "      display:flex;\n",
              "      gap: 12px;\n",
              "    }\n",
              "\n",
              "    .colab-df-convert {\n",
              "      background-color: #E8F0FE;\n",
              "      border: none;\n",
              "      border-radius: 50%;\n",
              "      cursor: pointer;\n",
              "      display: none;\n",
              "      fill: #1967D2;\n",
              "      height: 32px;\n",
              "      padding: 0 0 0 0;\n",
              "      width: 32px;\n",
              "    }\n",
              "\n",
              "    .colab-df-convert:hover {\n",
              "      background-color: #E2EBFA;\n",
              "      box-shadow: 0px 1px 2px rgba(60, 64, 67, 0.3), 0px 1px 3px 1px rgba(60, 64, 67, 0.15);\n",
              "      fill: #174EA6;\n",
              "    }\n",
              "\n",
              "    .colab-df-buttons div {\n",
              "      margin-bottom: 4px;\n",
              "    }\n",
              "\n",
              "    [theme=dark] .colab-df-convert {\n",
              "      background-color: #3B4455;\n",
              "      fill: #D2E3FC;\n",
              "    }\n",
              "\n",
              "    [theme=dark] .colab-df-convert:hover {\n",
              "      background-color: #434B5C;\n",
              "      box-shadow: 0px 1px 3px 1px rgba(0, 0, 0, 0.15);\n",
              "      filter: drop-shadow(0px 1px 2px rgba(0, 0, 0, 0.3));\n",
              "      fill: #FFFFFF;\n",
              "    }\n",
              "  </style>\n",
              "\n",
              "    <script>\n",
              "      const buttonEl =\n",
              "        document.querySelector('#df-2ff66803-d086-4cbe-a5fa-48f9c4a5b750 button.colab-df-convert');\n",
              "      buttonEl.style.display =\n",
              "        google.colab.kernel.accessAllowed ? 'block' : 'none';\n",
              "\n",
              "      async function convertToInteractive(key) {\n",
              "        const element = document.querySelector('#df-2ff66803-d086-4cbe-a5fa-48f9c4a5b750');\n",
              "        const dataTable =\n",
              "          await google.colab.kernel.invokeFunction('convertToInteractive',\n",
              "                                                    [key], {});\n",
              "        if (!dataTable) return;\n",
              "\n",
              "        const docLinkHtml = 'Like what you see? Visit the ' +\n",
              "          '<a target=\"_blank\" href=https://colab.research.google.com/notebooks/data_table.ipynb>data table notebook</a>'\n",
              "          + ' to learn more about interactive tables.';\n",
              "        element.innerHTML = '';\n",
              "        dataTable['output_type'] = 'display_data';\n",
              "        await google.colab.output.renderOutput(dataTable, element);\n",
              "        const docLink = document.createElement('div');\n",
              "        docLink.innerHTML = docLinkHtml;\n",
              "        element.appendChild(docLink);\n",
              "      }\n",
              "    </script>\n",
              "  </div>\n",
              "\n",
              "\n",
              "<div id=\"df-567f8c72-4b7c-4388-9a40-670d6280f34e\">\n",
              "  <button class=\"colab-df-quickchart\" onclick=\"quickchart('df-567f8c72-4b7c-4388-9a40-670d6280f34e')\"\n",
              "            title=\"Suggest charts\"\n",
              "            style=\"display:none;\">\n",
              "\n",
              "<svg xmlns=\"http://www.w3.org/2000/svg\" height=\"24px\"viewBox=\"0 0 24 24\"\n",
              "     width=\"24px\">\n",
              "    <g>\n",
              "        <path d=\"M19 3H5c-1.1 0-2 .9-2 2v14c0 1.1.9 2 2 2h14c1.1 0 2-.9 2-2V5c0-1.1-.9-2-2-2zM9 17H7v-7h2v7zm4 0h-2V7h2v10zm4 0h-2v-4h2v4z\"/>\n",
              "    </g>\n",
              "</svg>\n",
              "  </button>\n",
              "\n",
              "<style>\n",
              "  .colab-df-quickchart {\n",
              "      --bg-color: #E8F0FE;\n",
              "      --fill-color: #1967D2;\n",
              "      --hover-bg-color: #E2EBFA;\n",
              "      --hover-fill-color: #174EA6;\n",
              "      --disabled-fill-color: #AAA;\n",
              "      --disabled-bg-color: #DDD;\n",
              "  }\n",
              "\n",
              "  [theme=dark] .colab-df-quickchart {\n",
              "      --bg-color: #3B4455;\n",
              "      --fill-color: #D2E3FC;\n",
              "      --hover-bg-color: #434B5C;\n",
              "      --hover-fill-color: #FFFFFF;\n",
              "      --disabled-bg-color: #3B4455;\n",
              "      --disabled-fill-color: #666;\n",
              "  }\n",
              "\n",
              "  .colab-df-quickchart {\n",
              "    background-color: var(--bg-color);\n",
              "    border: none;\n",
              "    border-radius: 50%;\n",
              "    cursor: pointer;\n",
              "    display: none;\n",
              "    fill: var(--fill-color);\n",
              "    height: 32px;\n",
              "    padding: 0;\n",
              "    width: 32px;\n",
              "  }\n",
              "\n",
              "  .colab-df-quickchart:hover {\n",
              "    background-color: var(--hover-bg-color);\n",
              "    box-shadow: 0 1px 2px rgba(60, 64, 67, 0.3), 0 1px 3px 1px rgba(60, 64, 67, 0.15);\n",
              "    fill: var(--button-hover-fill-color);\n",
              "  }\n",
              "\n",
              "  .colab-df-quickchart-complete:disabled,\n",
              "  .colab-df-quickchart-complete:disabled:hover {\n",
              "    background-color: var(--disabled-bg-color);\n",
              "    fill: var(--disabled-fill-color);\n",
              "    box-shadow: none;\n",
              "  }\n",
              "\n",
              "  .colab-df-spinner {\n",
              "    border: 2px solid var(--fill-color);\n",
              "    border-color: transparent;\n",
              "    border-bottom-color: var(--fill-color);\n",
              "    animation:\n",
              "      spin 1s steps(1) infinite;\n",
              "  }\n",
              "\n",
              "  @keyframes spin {\n",
              "    0% {\n",
              "      border-color: transparent;\n",
              "      border-bottom-color: var(--fill-color);\n",
              "      border-left-color: var(--fill-color);\n",
              "    }\n",
              "    20% {\n",
              "      border-color: transparent;\n",
              "      border-left-color: var(--fill-color);\n",
              "      border-top-color: var(--fill-color);\n",
              "    }\n",
              "    30% {\n",
              "      border-color: transparent;\n",
              "      border-left-color: var(--fill-color);\n",
              "      border-top-color: var(--fill-color);\n",
              "      border-right-color: var(--fill-color);\n",
              "    }\n",
              "    40% {\n",
              "      border-color: transparent;\n",
              "      border-right-color: var(--fill-color);\n",
              "      border-top-color: var(--fill-color);\n",
              "    }\n",
              "    60% {\n",
              "      border-color: transparent;\n",
              "      border-right-color: var(--fill-color);\n",
              "    }\n",
              "    80% {\n",
              "      border-color: transparent;\n",
              "      border-right-color: var(--fill-color);\n",
              "      border-bottom-color: var(--fill-color);\n",
              "    }\n",
              "    90% {\n",
              "      border-color: transparent;\n",
              "      border-bottom-color: var(--fill-color);\n",
              "    }\n",
              "  }\n",
              "</style>\n",
              "\n",
              "  <script>\n",
              "    async function quickchart(key) {\n",
              "      const quickchartButtonEl =\n",
              "        document.querySelector('#' + key + ' button');\n",
              "      quickchartButtonEl.disabled = true;  // To prevent multiple clicks.\n",
              "      quickchartButtonEl.classList.add('colab-df-spinner');\n",
              "      try {\n",
              "        const charts = await google.colab.kernel.invokeFunction(\n",
              "            'suggestCharts', [key], {});\n",
              "      } catch (error) {\n",
              "        console.error('Error during call to suggestCharts:', error);\n",
              "      }\n",
              "      quickchartButtonEl.classList.remove('colab-df-spinner');\n",
              "      quickchartButtonEl.classList.add('colab-df-quickchart-complete');\n",
              "    }\n",
              "    (() => {\n",
              "      let quickchartButtonEl =\n",
              "        document.querySelector('#df-567f8c72-4b7c-4388-9a40-670d6280f34e button');\n",
              "      quickchartButtonEl.style.display =\n",
              "        google.colab.kernel.accessAllowed ? 'block' : 'none';\n",
              "    })();\n",
              "  </script>\n",
              "</div>\n",
              "\n",
              "    </div>\n",
              "  </div>\n"
            ],
            "application/vnd.google.colaboratory.intrinsic+json": {
              "type": "dataframe",
              "variable_name": "dataframe",
              "summary": "{\n  \"name\": \"dataframe\",\n  \"rows\": 8202,\n  \"fields\": [\n    {\n      \"column\": \"text\",\n      \"properties\": {\n        \"dtype\": \"string\",\n        \"num_unique_values\": 8199,\n        \"samples\": [\n          \"the shirt cuts too high up and is very awkward looking on sent it back would not buy even on sale\",\n          \"i loved this top it was my go to top even in the heat the fabric is light and breathes however pulled it out of the washing mashing to find that the sleeve has shredded away from the body it could not be repaired i am so disappointed as i really loved everything about it\",\n          \"i love these cozy fashionable leggings they are super flattering and thick enough to wear to yoga or out and about in the real world i will definitely be getting another pair they seem true to size i am tall and usually wear a lg\"\n        ],\n        \"semantic_type\": \"\",\n        \"description\": \"\"\n      }\n    },\n    {\n      \"column\": \"rating\",\n      \"properties\": {\n        \"dtype\": \"number\",\n        \"std\": 1,\n        \"min\": 1,\n        \"max\": 5,\n        \"num_unique_values\": 5,\n        \"samples\": [\n          5,\n          2,\n          3\n        ],\n        \"semantic_type\": \"\",\n        \"description\": \"\"\n      }\n    },\n    {\n      \"column\": \"recommended\",\n      \"properties\": {\n        \"dtype\": \"number\",\n        \"std\": 0,\n        \"min\": 0,\n        \"max\": 1,\n        \"num_unique_values\": 2,\n        \"samples\": [\n          1,\n          0\n        ],\n        \"semantic_type\": \"\",\n        \"description\": \"\"\n      }\n    },\n    {\n      \"column\": \"upvotes\",\n      \"properties\": {\n        \"dtype\": \"number\",\n        \"std\": 6,\n        \"min\": 0,\n        \"max\": 122,\n        \"num_unique_values\": 59,\n        \"samples\": [\n          2,\n          5\n        ],\n        \"semantic_type\": \"\",\n        \"description\": \"\"\n      }\n    }\n  ]\n}"
            }
          },
          "metadata": {},
          "execution_count": 194
        }
      ]
    },
    {
      "cell_type": "code",
      "source": [
        "dist_recommended\t= {'recommended': 0, 'not recommended': 0}\n",
        "for recommended in dataframe.recommended:\n",
        "  if recommended == 1:\n",
        "    dist_recommended['recommended'] += 1\n",
        "  else:\n",
        "    dist_recommended['not recommended'] += 1\n",
        "\n",
        "plt.figure(figsize=(4, 4))\n",
        "plt.bar(dist_recommended.keys(), dist_recommended.values(), width=.4,label=dist_recommended.keys(),\n",
        "        color=['#219C90', '#365E32'])\n",
        "plt.legend(fontsize=8, labels=list(dist_recommended.keys()), bbox_to_anchor=(1, 1), loc='upper left')\n",
        "plt.show()"
      ],
      "metadata": {
        "colab": {
          "base_uri": "https://localhost:8080/",
          "height": 368
        },
        "id": "AkPjO8uUzMA8",
        "outputId": "31aa363f-1eef-495a-ac03-49a67399214a"
      },
      "execution_count": 195,
      "outputs": [
        {
          "output_type": "display_data",
          "data": {
            "text/plain": [
              "<Figure size 400x400 with 1 Axes>"
            ],
            "image/png": "[encoded data removed]"
          },
          "metadata": {}
        }
      ]
    },
    {
      "cell_type": "markdown",
      "source": [
        "Now our recommended labels are balanced. Next we are going to check how the data is distributed in the ratings, upvotes and text columns."
      ],
      "metadata": {
        "id": "LvUPAlA-zyPc"
      }
    },
    {
      "cell_type": "code",
      "source": [
        "dist_rating\t= {i:0 for i in dataframe.rating.unique()}\n",
        "for rating in dataframe.rating:\n",
        "  dist_rating[rating] += 1\n",
        "\n",
        "plt.figure(figsize=(4, 4))\n",
        "plt.barh(list(dist_rating.keys()), list(dist_rating.values()), height=.4,label=dist_rating.keys(),\n",
        "        color=['#219C90', '#80C4E9', '#604CC3', '#C80036', '#365E32'])\n",
        "plt.legend(fontsize=8, labels=list(dist_rating.keys()), bbox_to_anchor=(1, 1), loc='upper left')\n",
        "plt.show()\n"
      ],
      "metadata": {
        "colab": {
          "base_uri": "https://localhost:8080/",
          "height": 368
        },
        "id": "OXEUzeFQzyK4",
        "outputId": "20f11659-6574-40cc-f7ba-41c04601b930"
      },
      "execution_count": 196,
      "outputs": [
        {
          "output_type": "display_data",
          "data": {
            "text/plain": [
              "<Figure size 400x400 with 1 Axes>"
            ],
            "image/png": "[encoded data removed]"
          },
          "metadata": {}
        }
      ]
    },
    {
      "cell_type": "markdown",
      "source": [
        "Here is how the upvotes are now distributed after we have balanced the labels."
      ],
      "metadata": {
        "id": "iTv3DrnfzyG8"
      }
    },
    {
      "cell_type": "code",
      "source": [
        "plt.figure(figsize=(4, 4))\n",
        "dataframe['upvotes'].plot(kind='line', figsize=(8, 4), title='upvotes', color='#219C90')\n",
        "plt.gca().spines[['top', 'right']].set_visible(False)"
      ],
      "metadata": {
        "colab": {
          "base_uri": "https://localhost:8080/",
          "height": 391
        },
        "id": "A1vJf6MIzyCn",
        "outputId": "b4d219c5-aaef-422c-de03-ba46d222b972"
      },
      "execution_count": 197,
      "outputs": [
        {
          "output_type": "display_data",
          "data": {
            "text/plain": [
              "<Figure size 800x400 with 1 Axes>"
            ],
            "image/png": "[encoded data removed]"
          },
          "metadata": {}
        }
      ]
    },
    {
      "cell_type": "markdown",
      "source": [
        "The above line graph shows the distribution of upvotes form a minimum of `0` on a review text to a maximum is now `117`.\n",
        "\n",
        "\n",
        "Let's look at the most frequently words that appears in this dataset using word clouds."
      ],
      "metadata": {
        "id": "F1q3ChXTzx8l"
      }
    },
    {
      "cell_type": "code",
      "source": [
        "review_text = ' '.join(dataframe.text.values)\n",
        "\n",
        "image = wc.WordCloud(background_color=\"#F7F9F2\", max_words=10_000,\n",
        "                contour_width=3, contour_color='firebrick').generate(review_text)\n",
        "\n",
        "plt.figure(figsize=(4, 4))\n",
        "plt.imshow(image)\n",
        "plt.axis(\"off\")\n",
        "plt.show()"
      ],
      "metadata": {
        "colab": {
          "base_uri": "https://localhost:8080/",
          "height": 192
        },
        "id": "seqmDJ4c2Y4k",
        "outputId": "5d41d16f-7df7-4b0b-fa75-e0ebc8a3d9d4"
      },
      "execution_count": 198,
      "outputs": [
        {
          "output_type": "display_data",
          "data": {
            "text/plain": [
              "<Figure size 400x400 with 1 Axes>"
            ],
            "image/png": "[encoded data removed]"
          },
          "metadata": {}
        }
      ]
    },
    {
      "cell_type": "markdown",
      "source": [
        "We can still see that the most occuring words in our dataset shows that for sure these reviews were based on women clothing."
      ],
      "metadata": {
        "id": "jKggIizy3YcP"
      }
    },
    {
      "cell_type": "markdown",
      "source": [
        "### Splitting into subsets\n",
        "In the following code cell we are going to split our dataset into 3 sets:\n",
        "\n",
        "1. training\n",
        "2. testing\n",
        "3. validation\n",
        "\n",
        "\n",
        "We are going to take `30%` for the test dataset and we are going to set the random state to the constant `SEED` for reproducivity and also for shuffling the rows of the dataset. On the validation set we are going to take another `50%` from the test data."
      ],
      "metadata": {
        "id": "eyj1rZefb9xU"
      }
    },
    {
      "cell_type": "code",
      "source": [
        "train_df, test_df= train_test_split(dataframe, random_state=SEED, test_size=.3)\n",
        "test_df, val_df = train_test_split(test_df, random_state=SEED, test_size=.5)"
      ],
      "metadata": {
        "id": "MoPmn9BmUVFC"
      },
      "execution_count": 199,
      "outputs": []
    },
    {
      "cell_type": "markdown",
      "source": [
        "### Counting examples\n",
        "\n",
        "In the following code cell we are going to count how many example belongs to each set and visualize them inform of a table."
      ],
      "metadata": {
        "id": "3LhNEF6Fc4Zz"
      }
    },
    {
      "cell_type": "code",
      "source": [
        "tabulate_data([\"Set\", \"Total\"],[\n",
        "   (\"training\", len(train_df)),\n",
        "    (\"testing\", len(test_df)),\n",
        "    (\"validation\", len(val_df)),\n",
        "], \"Counting examples in the dataset.\")"
      ],
      "metadata": {
        "colab": {
          "base_uri": "https://localhost:8080/"
        },
        "id": "V6F5bYwMUU-R",
        "outputId": "f3900d6f-8aa9-4f9b-b6fa-3074c8a57ce1"
      },
      "execution_count": 200,
      "outputs": [
        {
          "output_type": "stream",
          "name": "stdout",
          "text": [
            "Counting examples in the dataset.\n",
            "+------------+-------+\n",
            "| Set        | Total |\n",
            "+------------+-------+\n",
            "| training   |  5741 |\n",
            "| testing    |  1230 |\n",
            "| validation |  1231 |\n",
            "+------------+-------+\n"
          ]
        }
      ]
    },
    {
      "cell_type": "markdown",
      "source": [
        "Next we are going to check the first 5 rows in the train dataset."
      ],
      "metadata": {
        "id": "cFrqIi4_5rgd"
      }
    },
    {
      "cell_type": "code",
      "source": [
        "train_df.reset_index(inplace=True, drop=True)\n",
        "test_df.reset_index(inplace=True, drop=True)\n",
        "val_df.reset_index(inplace=True, drop=True)\n",
        "\n",
        "train_df.head()"
      ],
      "metadata": {
        "colab": {
          "base_uri": "https://localhost:8080/",
          "height": 206
        },
        "id": "hSwMJV4W5OEQ",
        "outputId": "838d60ae-8c06-412d-e611-c677f2d92bec"
      },
      "execution_count": 201,
      "outputs": [
        {
          "output_type": "execute_result",
          "data": {
            "text/plain": [
              "                                                text  rating  recommended  \\\n",
              "0  i buy almost ever top tiny puts out and so i g...       2            0   \n",
              "1  this dress was pretty but had a weird fit the ...       3            0   \n",
              "2  i like the colors material and style of this s...       3            0   \n",
              "3  i ordered this with another sweater to compare...       4            1   \n",
              "4  i wore this for a few hours and while it i got...       2            0   \n",
              "\n",
              "   upvotes  \n",
              "0       17  \n",
              "1        4  \n",
              "2        0  \n",
              "3        2  \n",
              "4        1  "
            ],
            "text/html": [
              "\n",
              "  <div id=\"df-814ffd11-3b04-43cf-b4a2-0ce2d65aea1a\" class=\"colab-df-container\">\n",
              "    <div>\n",
              "<style scoped>\n",
              "    .dataframe tbody tr th:only-of-type {\n",
              "        vertical-align: middle;\n",
              "    }\n",
              "\n",
              "    .dataframe tbody tr th {\n",
              "        vertical-align: top;\n",
              "    }\n",
              "\n",
              "    .dataframe thead th {\n",
              "        text-align: right;\n",
              "    }\n",
              "</style>\n",
              "<table border=\"1\" class=\"dataframe\">\n",
              "  <thead>\n",
              "    <tr style=\"text-align: right;\">\n",
              "      <th></th>\n",
              "      <th>text</th>\n",
              "      <th>rating</th>\n",
              "      <th>recommended</th>\n",
              "      <th>upvotes</th>\n",
              "    </tr>\n",
              "  </thead>\n",
              "  <tbody>\n",
              "    <tr>\n",
              "      <th>0</th>\n",
              "      <td>i buy almost ever top tiny puts out and so i g...</td>\n",
              "      <td>2</td>\n",
              "      <td>0</td>\n",
              "      <td>17</td>\n",
              "    </tr>\n",
              "    <tr>\n",
              "      <th>1</th>\n",
              "      <td>this dress was pretty but had a weird fit the ...</td>\n",
              "      <td>3</td>\n",
              "      <td>0</td>\n",
              "      <td>4</td>\n",
              "    </tr>\n",
              "    <tr>\n",
              "      <th>2</th>\n",
              "      <td>i like the colors material and style of this s...</td>\n",
              "      <td>3</td>\n",
              "      <td>0</td>\n",
              "      <td>0</td>\n",
              "    </tr>\n",
              "    <tr>\n",
              "      <th>3</th>\n",
              "      <td>i ordered this with another sweater to compare...</td>\n",
              "      <td>4</td>\n",
              "      <td>1</td>\n",
              "      <td>2</td>\n",
              "    </tr>\n",
              "    <tr>\n",
              "      <th>4</th>\n",
              "      <td>i wore this for a few hours and while it i got...</td>\n",
              "      <td>2</td>\n",
              "      <td>0</td>\n",
              "      <td>1</td>\n",
              "    </tr>\n",
              "  </tbody>\n",
              "</table>\n",
              "</div>\n",
              "    <div class=\"colab-df-buttons\">\n",
              "\n",
              "  <div class=\"colab-df-container\">\n",
              "    <button class=\"colab-df-convert\" onclick=\"convertToInteractive('df-814ffd11-3b04-43cf-b4a2-0ce2d65aea1a')\"\n",
              "            title=\"Convert this dataframe to an interactive table.\"\n",
              "            style=\"display:none;\">\n",
              "\n",
              "  <svg xmlns=\"http://www.w3.org/2000/svg\" height=\"24px\" viewBox=\"0 -960 960 960\">\n",
              "    <path d=\"M120-120v-720h720v720H120Zm60-500h600v-160H180v160Zm220 220h160v-160H400v160Zm0 220h160v-160H400v160ZM180-400h160v-160H180v160Zm440 0h160v-160H620v160ZM180-180h160v-160H180v160Zm440 0h160v-160H620v160Z\"/>\n",
              "  </svg>\n",
              "    </button>\n",
              "\n",
              "  <style>\n",
              "    .colab-df-container {\n",
              "      display:flex;\n",
              "      gap: 12px;\n",
              "    }\n",
              "\n",
              "    .colab-df-convert {\n",
              "      background-color: #E8F0FE;\n",
              "      border: none;\n",
              "      border-radius: 50%;\n",
              "      cursor: pointer;\n",
              "      display: none;\n",
              "      fill: #1967D2;\n",
              "      height: 32px;\n",
              "      padding: 0 0 0 0;\n",
              "      width: 32px;\n",
              "    }\n",
              "\n",
              "    .colab-df-convert:hover {\n",
              "      background-color: #E2EBFA;\n",
              "      box-shadow: 0px 1px 2px rgba(60, 64, 67, 0.3), 0px 1px 3px 1px rgba(60, 64, 67, 0.15);\n",
              "      fill: #174EA6;\n",
              "    }\n",
              "\n",
              "    .colab-df-buttons div {\n",
              "      margin-bottom: 4px;\n",
              "    }\n",
              "\n",
              "    [theme=dark] .colab-df-convert {\n",
              "      background-color: #3B4455;\n",
              "      fill: #D2E3FC;\n",
              "    }\n",
              "\n",
              "    [theme=dark] .colab-df-convert:hover {\n",
              "      background-color: #434B5C;\n",
              "      box-shadow: 0px 1px 3px 1px rgba(0, 0, 0, 0.15);\n",
              "      filter: drop-shadow(0px 1px 2px rgba(0, 0, 0, 0.3));\n",
              "      fill: #FFFFFF;\n",
              "    }\n",
              "  </style>\n",
              "\n",
              "    <script>\n",
              "      const buttonEl =\n",
              "        document.querySelector('#df-814ffd11-3b04-43cf-b4a2-0ce2d65aea1a button.colab-df-convert');\n",
              "      buttonEl.style.display =\n",
              "        google.colab.kernel.accessAllowed ? 'block' : 'none';\n",
              "\n",
              "      async function convertToInteractive(key) {\n",
              "        const element = document.querySelector('#df-814ffd11-3b04-43cf-b4a2-0ce2d65aea1a');\n",
              "        const dataTable =\n",
              "          await google.colab.kernel.invokeFunction('convertToInteractive',\n",
              "                                                    [key], {});\n",
              "        if (!dataTable) return;\n",
              "\n",
              "        const docLinkHtml = 'Like what you see? Visit the ' +\n",
              "          '<a target=\"_blank\" href=https://colab.research.google.com/notebooks/data_table.ipynb>data table notebook</a>'\n",
              "          + ' to learn more about interactive tables.';\n",
              "        element.innerHTML = '';\n",
              "        dataTable['output_type'] = 'display_data';\n",
              "        await google.colab.output.renderOutput(dataTable, element);\n",
              "        const docLink = document.createElement('div');\n",
              "        docLink.innerHTML = docLinkHtml;\n",
              "        element.appendChild(docLink);\n",
              "      }\n",
              "    </script>\n",
              "  </div>\n",
              "\n",
              "\n",
              "<div id=\"df-6774c450-6426-4b4b-9b8f-d92ead82f9c2\">\n",
              "  <button class=\"colab-df-quickchart\" onclick=\"quickchart('df-6774c450-6426-4b4b-9b8f-d92ead82f9c2')\"\n",
              "            title=\"Suggest charts\"\n",
              "            style=\"display:none;\">\n",
              "\n",
              "<svg xmlns=\"http://www.w3.org/2000/svg\" height=\"24px\"viewBox=\"0 0 24 24\"\n",
              "     width=\"24px\">\n",
              "    <g>\n",
              "        <path d=\"M19 3H5c-1.1 0-2 .9-2 2v14c0 1.1.9 2 2 2h14c1.1 0 2-.9 2-2V5c0-1.1-.9-2-2-2zM9 17H7v-7h2v7zm4 0h-2V7h2v10zm4 0h-2v-4h2v4z\"/>\n",
              "    </g>\n",
              "</svg>\n",
              "  </button>\n",
              "\n",
              "<style>\n",
              "  .colab-df-quickchart {\n",
              "      --bg-color: #E8F0FE;\n",
              "      --fill-color: #1967D2;\n",
              "      --hover-bg-color: #E2EBFA;\n",
              "      --hover-fill-color: #174EA6;\n",
              "      --disabled-fill-color: #AAA;\n",
              "      --disabled-bg-color: #DDD;\n",
              "  }\n",
              "\n",
              "  [theme=dark] .colab-df-quickchart {\n",
              "      --bg-color: #3B4455;\n",
              "      --fill-color: #D2E3FC;\n",
              "      --hover-bg-color: #434B5C;\n",
              "      --hover-fill-color: #FFFFFF;\n",
              "      --disabled-bg-color: #3B4455;\n",
              "      --disabled-fill-color: #666;\n",
              "  }\n",
              "\n",
              "  .colab-df-quickchart {\n",
              "    background-color: var(--bg-color);\n",
              "    border: none;\n",
              "    border-radius: 50%;\n",
              "    cursor: pointer;\n",
              "    display: none;\n",
              "    fill: var(--fill-color);\n",
              "    height: 32px;\n",
              "    padding: 0;\n",
              "    width: 32px;\n",
              "  }\n",
              "\n",
              "  .colab-df-quickchart:hover {\n",
              "    background-color: var(--hover-bg-color);\n",
              "    box-shadow: 0 1px 2px rgba(60, 64, 67, 0.3), 0 1px 3px 1px rgba(60, 64, 67, 0.15);\n",
              "    fill: var(--button-hover-fill-color);\n",
              "  }\n",
              "\n",
              "  .colab-df-quickchart-complete:disabled,\n",
              "  .colab-df-quickchart-complete:disabled:hover {\n",
              "    background-color: var(--disabled-bg-color);\n",
              "    fill: var(--disabled-fill-color);\n",
              "    box-shadow: none;\n",
              "  }\n",
              "\n",
              "  .colab-df-spinner {\n",
              "    border: 2px solid var(--fill-color);\n",
              "    border-color: transparent;\n",
              "    border-bottom-color: var(--fill-color);\n",
              "    animation:\n",
              "      spin 1s steps(1) infinite;\n",
              "  }\n",
              "\n",
              "  @keyframes spin {\n",
              "    0% {\n",
              "      border-color: transparent;\n",
              "      border-bottom-color: var(--fill-color);\n",
              "      border-left-color: var(--fill-color);\n",
              "    }\n",
              "    20% {\n",
              "      border-color: transparent;\n",
              "      border-left-color: var(--fill-color);\n",
              "      border-top-color: var(--fill-color);\n",
              "    }\n",
              "    30% {\n",
              "      border-color: transparent;\n",
              "      border-left-color: var(--fill-color);\n",
              "      border-top-color: var(--fill-color);\n",
              "      border-right-color: var(--fill-color);\n",
              "    }\n",
              "    40% {\n",
              "      border-color: transparent;\n",
              "      border-right-color: var(--fill-color);\n",
              "      border-top-color: var(--fill-color);\n",
              "    }\n",
              "    60% {\n",
              "      border-color: transparent;\n",
              "      border-right-color: var(--fill-color);\n",
              "    }\n",
              "    80% {\n",
              "      border-color: transparent;\n",
              "      border-right-color: var(--fill-color);\n",
              "      border-bottom-color: var(--fill-color);\n",
              "    }\n",
              "    90% {\n",
              "      border-color: transparent;\n",
              "      border-bottom-color: var(--fill-color);\n",
              "    }\n",
              "  }\n",
              "</style>\n",
              "\n",
              "  <script>\n",
              "    async function quickchart(key) {\n",
              "      const quickchartButtonEl =\n",
              "        document.querySelector('#' + key + ' button');\n",
              "      quickchartButtonEl.disabled = true;  // To prevent multiple clicks.\n",
              "      quickchartButtonEl.classList.add('colab-df-spinner');\n",
              "      try {\n",
              "        const charts = await google.colab.kernel.invokeFunction(\n",
              "            'suggestCharts', [key], {});\n",
              "      } catch (error) {\n",
              "        console.error('Error during call to suggestCharts:', error);\n",
              "      }\n",
              "      quickchartButtonEl.classList.remove('colab-df-spinner');\n",
              "      quickchartButtonEl.classList.add('colab-df-quickchart-complete');\n",
              "    }\n",
              "    (() => {\n",
              "      let quickchartButtonEl =\n",
              "        document.querySelector('#df-6774c450-6426-4b4b-9b8f-d92ead82f9c2 button');\n",
              "      quickchartButtonEl.style.display =\n",
              "        google.colab.kernel.accessAllowed ? 'block' : 'none';\n",
              "    })();\n",
              "  </script>\n",
              "</div>\n",
              "\n",
              "    </div>\n",
              "  </div>\n"
            ],
            "application/vnd.google.colaboratory.intrinsic+json": {
              "type": "dataframe",
              "variable_name": "train_df",
              "summary": "{\n  \"name\": \"train_df\",\n  \"rows\": 5741,\n  \"fields\": [\n    {\n      \"column\": \"text\",\n      \"properties\": {\n        \"dtype\": \"string\",\n        \"num_unique_values\": 5738,\n        \"samples\": [\n          \"with all of the glowing reviews of this dress i so badly wanted to adore this very special cocktail dress it fit nicely the quality was great but there is a decorative line of hook and eyes down the front which come undone with the slightest movement i wore the dress out one time and was paranoid the entire time kept glancing down to make sure i had not come undressed i suppose i could have gotten out the needlenose and crimped them all shut but decided to take it back i did not see tha\",\n          \"i bought this in size xl and it ran small along the waist bottom hemline i am pearshaped so it is an awkward fit i will wear it tucked in or belted they used a lot of material in the sleeves through the top portion i wish they had not made it such a narrow cut along the bottom the sleeves are very pretty the embroidery they used for the cutouts is a little rough scratchy since i got it on sale like the color i am keeping it i recommend trying this on if you can\",\n          \"i love this feminine blouse and the gorgeous colors on it is a fresh shape that is truly flattering i like that it comes in specific sizes so the proportions seem accurate i bought the in peach all the colors are very pretty i am a usual medium and am f so the regular brafriendliness is essential this is a new fuller shape for me i am on a quest at this time of year for clothing that feels comfortable in the beginning heat of summer and this is a lovely choice you could pair it w\"\n        ],\n        \"semantic_type\": \"\",\n        \"description\": \"\"\n      }\n    },\n    {\n      \"column\": \"rating\",\n      \"properties\": {\n        \"dtype\": \"number\",\n        \"std\": 1,\n        \"min\": 1,\n        \"max\": 5,\n        \"num_unique_values\": 5,\n        \"samples\": [\n          3,\n          1,\n          4\n        ],\n        \"semantic_type\": \"\",\n        \"description\": \"\"\n      }\n    },\n    {\n      \"column\": \"recommended\",\n      \"properties\": {\n        \"dtype\": \"number\",\n        \"std\": 0,\n        \"min\": 0,\n        \"max\": 1,\n        \"num_unique_values\": 2,\n        \"samples\": [\n          1,\n          0\n        ],\n        \"semantic_type\": \"\",\n        \"description\": \"\"\n      }\n    },\n    {\n      \"column\": \"upvotes\",\n      \"properties\": {\n        \"dtype\": \"number\",\n        \"std\": 6,\n        \"min\": 0,\n        \"max\": 108,\n        \"num_unique_values\": 57,\n        \"samples\": [\n          17,\n          8\n        ],\n        \"semantic_type\": \"\",\n        \"description\": \"\"\n      }\n    }\n  ]\n}"
            }
          },
          "metadata": {},
          "execution_count": 201
        }
      ]
    },
    {
      "cell_type": "markdown",
      "source": [
        "### Features and Lables\n",
        "We have 2 features and 2 labels in our case. We are going to do some kind of preprocessing for these features and labels. First let's store all the values of features and labels in numpy arrays."
      ],
      "metadata": {
        "id": "u4Ezx8Vwdw_1"
      }
    },
    {
      "cell_type": "code",
      "source": [
        "# Training\n",
        "train_text = train_df.text.values\n",
        "train_up_votes = train_df.upvotes.values\n",
        "train_ratings = train_df.rating.values\n",
        "train_recommends = train_df.recommended.values\n",
        "\n",
        "# Validation\n",
        "val_text = val_df.text.values\n",
        "val_up_votes = val_df.upvotes.values\n",
        "val_ratings = val_df.rating.values\n",
        "val_recommends = val_df.recommended.values\n",
        "\n",
        "# Testing\n",
        "test_text = test_df.text.values\n",
        "test_up_votes = test_df.upvotes.values\n",
        "test_ratings = test_df.rating.values\n",
        "test_recommends = test_df.recommended.values"
      ],
      "metadata": {
        "id": "plZOR2LDUU7D"
      },
      "execution_count": 202,
      "outputs": []
    },
    {
      "cell_type": "markdown",
      "source": [
        "### Labels processing\n",
        "\n",
        "We are going to start by processing the labels. The labels are proccessed differently because we are doing both a binary classification and multi-label classification so they will have different activation functions.\n",
        "\n",
        "### Ratings\n",
        "\n",
        "Ratings start from `1` to `5` we want them to start from `0` to `4` and then `one_hot_encode` them. So that if the class label is `1` then the following will be the `one_hot_vector` for this label:\n",
        "\n",
        "```\n",
        "[0., 1., 0., 0., 0.]\n",
        "```"
      ],
      "metadata": {
        "id": "r9CKc0SHfIyH"
      }
    },
    {
      "cell_type": "code",
      "source": [
        "train_ratings =  np.apply_along_axis(lambda x: x-1, 0, train_ratings)\n",
        "val_ratings =  np.apply_along_axis(lambda x: x-1, 0, val_ratings)\n",
        "test_ratings =  np.apply_along_axis(lambda x: x-1, 0, test_ratings)"
      ],
      "metadata": {
        "id": "FKoC841hUU3v"
      },
      "execution_count": 203,
      "outputs": []
    },
    {
      "cell_type": "code",
      "source": [
        "one_hot_encode = lambda x: np.eye(5)[x]\n",
        "one_hot_encode(1)"
      ],
      "metadata": {
        "colab": {
          "base_uri": "https://localhost:8080/"
        },
        "id": "gtRXyt2JgiRQ",
        "outputId": "d7d6a62a-7a43-469e-d286-0bcce412c1f3"
      },
      "execution_count": 204,
      "outputs": [
        {
          "output_type": "execute_result",
          "data": {
            "text/plain": [
              "array([0., 1., 0., 0., 0.])"
            ]
          },
          "metadata": {},
          "execution_count": 204
        }
      ]
    },
    {
      "cell_type": "code",
      "source": [
        "train_ratings =  np.apply_along_axis(one_hot_encode, 0, train_ratings)\n",
        "val_ratings =  np.apply_along_axis(one_hot_encode, 0, val_ratings)\n",
        "test_ratings =  np.apply_along_axis(one_hot_encode, 0, test_ratings)"
      ],
      "metadata": {
        "id": "_JFonbNih82U"
      },
      "execution_count": 205,
      "outputs": []
    },
    {
      "cell_type": "code",
      "source": [
        "train_ratings[:5]"
      ],
      "metadata": {
        "colab": {
          "base_uri": "https://localhost:8080/"
        },
        "id": "a73qbEbliHK9",
        "outputId": "3b05367c-af4f-450e-977b-b411672a5ab7"
      },
      "execution_count": 206,
      "outputs": [
        {
          "output_type": "execute_result",
          "data": {
            "text/plain": [
              "array([[0., 1., 0., 0., 0.],\n",
              "       [0., 0., 1., 0., 0.],\n",
              "       [0., 0., 1., 0., 0.],\n",
              "       [0., 0., 0., 1., 0.],\n",
              "       [0., 1., 0., 0., 0.]])"
            ]
          },
          "metadata": {},
          "execution_count": 206
        }
      ]
    },
    {
      "cell_type": "markdown",
      "source": [
        "### Recommends\n",
        "\n",
        "Recoments labels are fine we don't need to do anything on them. We can check the few examples in the train set just to see if they are numbers `0` or `1`."
      ],
      "metadata": {
        "id": "OqbSKS3tiLwL"
      }
    },
    {
      "cell_type": "code",
      "source": [
        "train_recommends[:5]"
      ],
      "metadata": {
        "colab": {
          "base_uri": "https://localhost:8080/"
        },
        "id": "XqejWJPAiJIA",
        "outputId": "9cff992d-87a1-4d0d-c6d1-a8c0d2439dfe"
      },
      "execution_count": 207,
      "outputs": [
        {
          "output_type": "execute_result",
          "data": {
            "text/plain": [
              "array([0, 0, 0, 1, 0])"
            ]
          },
          "metadata": {},
          "execution_count": 207
        }
      ]
    },
    {
      "cell_type": "markdown",
      "source": [
        "### Text\n",
        "Computers does not process text directly, we need to change the text to numbers by building a vocabulary which is a word to index mapping. After that we then going to pad the sequences of numbers or trancate the sequences that are longer so that by the end all the sequences should have the same size."
      ],
      "metadata": {
        "id": "s9tPKFcmirL9"
      }
    },
    {
      "cell_type": "code",
      "source": [
        "counter = Counter()\n",
        "for sent in train_text:\n",
        "  counter.update(word_tokenize(sent))"
      ],
      "metadata": {
        "id": "hxCH7eqmiqru"
      },
      "execution_count": 208,
      "outputs": []
    },
    {
      "cell_type": "markdown",
      "source": [
        "Checking the most common words"
      ],
      "metadata": {
        "id": "yeTdf68ZjnWD"
      }
    },
    {
      "cell_type": "code",
      "source": [
        "counter.most_common(10)"
      ],
      "metadata": {
        "colab": {
          "base_uri": "https://localhost:8080/"
        },
        "id": "WEem60asiqnM",
        "outputId": "895315ea-1bdc-437d-bb6e-bbf958617273"
      },
      "execution_count": 209,
      "outputs": [
        {
          "output_type": "execute_result",
          "data": {
            "text/plain": [
              "[('the', 20449),\n",
              " ('i', 16818),\n",
              " ('it', 12716),\n",
              " ('and', 11842),\n",
              " ('a', 10290),\n",
              " ('is', 9294),\n",
              " ('this', 6661),\n",
              " ('to', 6274),\n",
              " ('in', 5223),\n",
              " ('not', 5220)]"
            ]
          },
          "metadata": {},
          "execution_count": 209
        }
      ]
    },
    {
      "cell_type": "markdown",
      "source": [
        "### The vocabulary size\n",
        "We are going to use the train words to count how many unique words are there in the `counter` objects so that we can adapt to this."
      ],
      "metadata": {
        "id": "WzBAsjXvjv1K"
      }
    },
    {
      "cell_type": "code",
      "source": [
        "vocab_size = len(counter)\n",
        "vocab_size"
      ],
      "metadata": {
        "colab": {
          "base_uri": "https://localhost:8080/"
        },
        "id": "sw2pBhnpiqkA",
        "outputId": "2bb40db4-22d9-4efe-b336-f51a8a721846"
      },
      "execution_count": 210,
      "outputs": [
        {
          "output_type": "execute_result",
          "data": {
            "text/plain": [
              "9173"
            ]
          },
          "metadata": {},
          "execution_count": 210
        }
      ]
    },
    {
      "cell_type": "markdown",
      "source": [
        "We have `~9K` unique words in our dictionary. In the following code cell we are going to create a tokenizer based on the vocab size that we obtained in the train data and make it adapt on our train text."
      ],
      "metadata": {
        "id": "_PXPxQ0qkQkI"
      }
    },
    {
      "cell_type": "code",
      "source": [
        "tokenizer = keras.preprocessing.text.Tokenizer(\n",
        "    num_words = vocab_size\n",
        ")\n",
        "tokenizer.fit_on_texts(train_text)"
      ],
      "metadata": {
        "id": "Xzop57apjugF"
      },
      "execution_count": 211,
      "outputs": []
    },
    {
      "cell_type": "code",
      "source": [
        "word_indices = tokenizer.word_index\n",
        "word_indices_reversed = dict([(v, k) for (k, v) in word_indices.items()])"
      ],
      "metadata": {
        "id": "1NU-rnaYjucs"
      },
      "execution_count": 212,
      "outputs": []
    },
    {
      "cell_type": "markdown",
      "source": [
        "### Helper functions\n",
        "1. `sequence_to_text`\n",
        "\n",
        "This helper function will convert a sequence of integers to a sequence of text.\n",
        "\n",
        "2. `text_to_sequence`\n",
        "\n",
        "This helper function will convert the sequence of text to sequence of integers."
      ],
      "metadata": {
        "id": "mx8023iikogR"
      }
    },
    {
      "cell_type": "code",
      "source": [
        "def sequence_to_text(sequences):\n",
        "    return \" \".join(word_indices_reversed[i] for i in sequences)\n",
        "\n",
        "def text_to_sequence(sent):\n",
        "  words = word_tokenize(sent.lower())\n",
        "  sequences = []\n",
        "  for word in words:\n",
        "    try:\n",
        "      sequences.append(word_indices[word])\n",
        "    except:\n",
        "      sequences.append(0)\n",
        "  return sequences"
      ],
      "metadata": {
        "id": "bGxVwbjqjuZQ"
      },
      "execution_count": 213,
      "outputs": []
    },
    {
      "cell_type": "markdown",
      "source": [
        "### Creating sequences\n",
        "\n",
        "We are then going to create sequences for all our 3 sets for the text in the following code cell."
      ],
      "metadata": {
        "id": "AXeZW746k72u"
      }
    },
    {
      "cell_type": "code",
      "source": [
        "train_sequence_tokens = tokenizer.texts_to_sequences(train_text)\n",
        "test_sequence_tokens = tokenizer.texts_to_sequences(test_text)\n",
        "val_sequence_tokens = tokenizer.texts_to_sequences(val_text)"
      ],
      "metadata": {
        "id": "5MjtqFAljuVy"
      },
      "execution_count": 214,
      "outputs": []
    },
    {
      "cell_type": "code",
      "source": [
        "sequence_to_text(train_sequence_tokens[1])"
      ],
      "metadata": {
        "colab": {
          "base_uri": "https://localhost:8080/",
          "height": 53
        },
        "id": "cwr7aklclzqk",
        "outputId": "3d0caf39-4a60-4c1c-8353-fc260245ba94"
      },
      "execution_count": 215,
      "outputs": [
        {
          "output_type": "execute_result",
          "data": {
            "text/plain": [
              "'this dress was pretty but had a weird fit the waist droops down in the middle instead of going straight across which i found unflattering i ended up returning it'"
            ],
            "application/vnd.google.colaboratory.intrinsic+json": {
              "type": "string"
            }
          },
          "metadata": {},
          "execution_count": 215
        }
      ]
    },
    {
      "cell_type": "code",
      "source": [
        "sequence_to_text(test_sequence_tokens[1])"
      ],
      "metadata": {
        "colab": {
          "base_uri": "https://localhost:8080/",
          "height": 70
        },
        "id": "dmKuJ_Z0lzld",
        "outputId": "36320c65-ab23-4829-b7fe-3b4939bba023"
      },
      "execution_count": 216,
      "outputs": [
        {
          "output_type": "execute_result",
          "data": {
            "text/plain": [
              "'i really want to love this shirt but the small is just way too big on me for reference i am a d which is why i did not want to size down much more than a small and and i am drowning in this i am going to try it with different bottoms and ultimately will keep it because i do love the quality just size down a couple of sizes'"
            ],
            "application/vnd.google.colaboratory.intrinsic+json": {
              "type": "string"
            }
          },
          "metadata": {},
          "execution_count": 216
        }
      ]
    },
    {
      "cell_type": "code",
      "source": [
        "sequence_to_text(val_sequence_tokens[1])"
      ],
      "metadata": {
        "colab": {
          "base_uri": "https://localhost:8080/",
          "height": 53
        },
        "id": "tZjb71Hslzh6",
        "outputId": "3d7c856e-eaec-4b8d-9715-09a7ec28148c"
      },
      "execution_count": 217,
      "outputs": [
        {
          "output_type": "execute_result",
          "data": {
            "text/plain": [
              "'this sweater is big and box it looks very similar on as it does on the model as other reviewers have mentioned the embroidery on the shoulders is a bit itchy'"
            ],
            "application/vnd.google.colaboratory.intrinsic+json": {
              "type": "string"
            }
          },
          "metadata": {},
          "execution_count": 217
        }
      ]
    },
    {
      "cell_type": "markdown",
      "source": [
        "Having a closer look on these sequences they have different lenghts of which they must be padded or truncated so that they will have the same sequence length.This is done in the following code cell."
      ],
      "metadata": {
        "id": "RKslPT49lQXO"
      }
    },
    {
      "cell_type": "code",
      "source": [
        "max_words = 100\n",
        "train_tokens_sequence_padded = keras.preprocessing.sequence.pad_sequences(\n",
        "                                       train_sequence_tokens,\n",
        "                                       maxlen=max_words,\n",
        "                                       padding=\"post\",\n",
        "                                       truncating=\"post\"\n",
        "                                       )\n",
        "test_tokens_sequence_padded = keras.preprocessing.sequence.pad_sequences(\n",
        "                                       test_sequence_tokens,\n",
        "                                       maxlen=max_words,\n",
        "                                       padding=\"post\",\n",
        "                                       truncating=\"post\"\n",
        "                                       )\n",
        "val_tokens_sequence_padded = keras.preprocessing.sequence.pad_sequences(\n",
        "                                       val_sequence_tokens,\n",
        "                                       maxlen=max_words,\n",
        "                                       padding=\"post\",\n",
        "                                       truncating=\"post\"\n",
        "                                       )"
      ],
      "metadata": {
        "id": "l5Gic_R5juSQ"
      },
      "execution_count": 218,
      "outputs": []
    },
    {
      "cell_type": "markdown",
      "source": [
        "### Upvotes\n",
        "\n",
        "Upvotes is a single number so we need to process them as inputs by doing the following.\n",
        "\n",
        "1. first of all we need to expand the dimensions using numpy\n",
        "2. we need to scale our upvotes features using `MinMaxScaler` from sklearn library"
      ],
      "metadata": {
        "id": "74g79nNGmqHp"
      }
    },
    {
      "cell_type": "code",
      "source": [
        "train_up_votes = np.expand_dims(train_up_votes, 1)\n",
        "test_up_votes = np.expand_dims(test_up_votes, 1)\n",
        "val_up_votes = np.expand_dims(val_up_votes, 1)"
      ],
      "metadata": {
        "id": "KHneT2zNjuO-"
      },
      "execution_count": 219,
      "outputs": []
    },
    {
      "cell_type": "code",
      "source": [
        "train_up_votes[:2]"
      ],
      "metadata": {
        "colab": {
          "base_uri": "https://localhost:8080/"
        },
        "id": "51BxCxqCiqg5",
        "outputId": "10a8fe3c-924b-4574-f4f7-b084a9970168"
      },
      "execution_count": 220,
      "outputs": [
        {
          "output_type": "execute_result",
          "data": {
            "text/plain": [
              "array([[17],\n",
              "       [ 4]])"
            ]
          },
          "metadata": {},
          "execution_count": 220
        }
      ]
    },
    {
      "cell_type": "code",
      "source": [
        "scaler = MinMaxScaler()\n",
        "scaler.fit(train_up_votes)"
      ],
      "metadata": {
        "colab": {
          "base_uri": "https://localhost:8080/",
          "height": 74
        },
        "id": "Hn4KSV5kiqd5",
        "outputId": "d4331abd-a20b-494d-cd9c-3b53ddc47f1c"
      },
      "execution_count": 221,
      "outputs": [
        {
          "output_type": "execute_result",
          "data": {
            "text/plain": [
              "MinMaxScaler()"
            ],
            "text/html": [
              "<style>#sk-container-id-2 {color: black;background-color: white;}#sk-container-id-2 pre{padding: 0;}#sk-container-id-2 div.sk-toggleable {background-color: white;}#sk-container-id-2 label.sk-toggleable__label {cursor: pointer;display: block;width: 100%;margin-bottom: 0;padding: 0.3em;box-sizing: border-box;text-align: center;}#sk-container-id-2 label.sk-toggleable__label-arrow:before {content: \"▸\";float: left;margin-right: 0.25em;color: #696969;}#sk-container-id-2 label.sk-toggleable__label-arrow:hover:before {color: black;}#sk-container-id-2 div.sk-estimator:hover label.sk-toggleable__label-arrow:before {color: black;}#sk-container-id-2 div.sk-toggleable__content {max-height: 0;max-width: 0;overflow: hidden;text-align: left;background-color: #f0f8ff;}#sk-container-id-2 div.sk-toggleable__content pre {margin: 0.2em;color: black;border-radius: 0.25em;background-color: #f0f8ff;}#sk-container-id-2 input.sk-toggleable__control:checked~div.sk-toggleable__content {max-height: 200px;max-width: 100%;overflow: auto;}#sk-container-id-2 input.sk-toggleable__control:checked~label.sk-toggleable__label-arrow:before {content: \"▾\";}#sk-container-id-2 div.sk-estimator input.sk-toggleable__control:checked~label.sk-toggleable__label {background-color: #d4ebff;}#sk-container-id-2 div.sk-label input.sk-toggleable__control:checked~label.sk-toggleable__label {background-color: #d4ebff;}#sk-container-id-2 input.sk-hidden--visually {border: 0;clip: rect(1px 1px 1px 1px);clip: rect(1px, 1px, 1px, 1px);height: 1px;margin: -1px;overflow: hidden;padding: 0;position: absolute;width: 1px;}#sk-container-id-2 div.sk-estimator {font-family: monospace;background-color: #f0f8ff;border: 1px dotted black;border-radius: 0.25em;box-sizing: border-box;margin-bottom: 0.5em;}#sk-container-id-2 div.sk-estimator:hover {background-color: #d4ebff;}#sk-container-id-2 div.sk-parallel-item::after {content: \"\";width: 100%;border-bottom: 1px solid gray;flex-grow: 1;}#sk-container-id-2 div.sk-label:hover label.sk-toggleable__label {background-color: #d4ebff;}#sk-container-id-2 div.sk-serial::before {content: \"\";position: absolute;border-left: 1px solid gray;box-sizing: border-box;top: 0;bottom: 0;left: 50%;z-index: 0;}#sk-container-id-2 div.sk-serial {display: flex;flex-direction: column;align-items: center;background-color: white;padding-right: 0.2em;padding-left: 0.2em;position: relative;}#sk-container-id-2 div.sk-item {position: relative;z-index: 1;}#sk-container-id-2 div.sk-parallel {display: flex;align-items: stretch;justify-content: center;background-color: white;position: relative;}#sk-container-id-2 div.sk-item::before, #sk-container-id-2 div.sk-parallel-item::before {content: \"\";position: absolute;border-left: 1px solid gray;box-sizing: border-box;top: 0;bottom: 0;left: 50%;z-index: -1;}#sk-container-id-2 div.sk-parallel-item {display: flex;flex-direction: column;z-index: 1;position: relative;background-color: white;}#sk-container-id-2 div.sk-parallel-item:first-child::after {align-self: flex-end;width: 50%;}#sk-container-id-2 div.sk-parallel-item:last-child::after {align-self: flex-start;width: 50%;}#sk-container-id-2 div.sk-parallel-item:only-child::after {width: 0;}#sk-container-id-2 div.sk-dashed-wrapped {border: 1px dashed gray;margin: 0 0.4em 0.5em 0.4em;box-sizing: border-box;padding-bottom: 0.4em;background-color: white;}#sk-container-id-2 div.sk-label label {font-family: monospace;font-weight: bold;display: inline-block;line-height: 1.2em;}#sk-container-id-2 div.sk-label-container {text-align: center;}#sk-container-id-2 div.sk-container {/* jupyter's `normalize.less` sets `[hidden] { display: none; }` but bootstrap.min.css set `[hidden] { display: none !important; }` so we also need the `!important` here to be able to override the default hidden behavior on the sphinx rendered scikit-learn.org. See: https://github.com/scikit-learn/scikit-learn/issues/21755 */display: inline-block !important;position: relative;}#sk-container-id-2 div.sk-text-repr-fallback {display: none;}</style><div id=\"sk-container-id-2\" class=\"sk-top-container\"><div class=\"sk-text-repr-fallback\"><pre>MinMaxScaler()</pre><b>In a Jupyter environment, please rerun this cell to show the HTML representation or trust the notebook. <br />On GitHub, the HTML representation is unable to render, please try loading this page with nbviewer.org.</b></div><div class=\"sk-container\" hidden><div class=\"sk-item\"><div class=\"sk-estimator sk-toggleable\"><input class=\"sk-toggleable__control sk-hidden--visually\" id=\"sk-estimator-id-2\" type=\"checkbox\" checked><label for=\"sk-estimator-id-2\" class=\"sk-toggleable__label sk-toggleable__label-arrow\">MinMaxScaler</label><div class=\"sk-toggleable__content\"><pre>MinMaxScaler()</pre></div></div></div></div></div>"
            ]
          },
          "metadata": {},
          "execution_count": 221
        }
      ]
    },
    {
      "cell_type": "code",
      "source": [
        "train_up_votes_scaled = scaler.transform(train_up_votes)\n",
        "test_up_votes_scaled = scaler.transform(test_up_votes)\n",
        "val_up_votes_scaled = scaler.transform(val_up_votes)"
      ],
      "metadata": {
        "id": "B0SnEXxFiqaY"
      },
      "execution_count": 222,
      "outputs": []
    },
    {
      "cell_type": "code",
      "source": [
        "val_up_votes_scaled[:5]"
      ],
      "metadata": {
        "colab": {
          "base_uri": "https://localhost:8080/"
        },
        "id": "kcomDriCiqXJ",
        "outputId": "5388d57d-8c71-48f6-e94c-7027f74fc534"
      },
      "execution_count": 223,
      "outputs": [
        {
          "output_type": "execute_result",
          "data": {
            "text/plain": [
              "array([[0.        ],\n",
              "       [0.00925926],\n",
              "       [0.        ],\n",
              "       [0.        ],\n",
              "       [0.        ]])"
            ]
          },
          "metadata": {},
          "execution_count": 223
        }
      ]
    },
    {
      "cell_type": "markdown",
      "source": [
        "### Pretrained word Embeddings\n",
        "We are going to load the `Glove.6B.100d` word vectors that was uploaded in the google drive as a `txt` file. These word embeddings vectors was trained on `~6B` words and are `100` dimension."
      ],
      "metadata": {
        "id": "dv8ZZesooul-"
      }
    },
    {
      "cell_type": "code",
      "source": [
        "embedding_path = \"/content/drive/MyDrive/NLP Data/glove.6B/glove.6B.100d.txt\"\n",
        "assert os.path.exists(embedding_path) == True, \"The path does not exists\""
      ],
      "metadata": {
        "id": "hDcfTFu3iqT_"
      },
      "execution_count": 224,
      "outputs": []
    },
    {
      "cell_type": "code",
      "source": [
        "embeddings_dictionary = dict()\n",
        "with open(embedding_path, encoding='utf8') as glove_file:\n",
        "  for line in glove_file:\n",
        "    records = line.split()\n",
        "    word  = records[0]\n",
        "    vectors = np.asarray(records[1:], dtype='float32')\n",
        "    embeddings_dictionary[word] = vectors"
      ],
      "metadata": {
        "id": "fZFHH4y5iqQ3"
      },
      "execution_count": 225,
      "outputs": []
    },
    {
      "cell_type": "markdown",
      "source": [
        "Next we are going to create the embedding matrix that suits our data."
      ],
      "metadata": {
        "id": "GXWtPdEupJ_m"
      }
    },
    {
      "cell_type": "code",
      "source": [
        "embedding_matrix = np.zeros((vocab_size, 100))\n",
        "for word, index in tokenizer.word_index.items():\n",
        "  vector = embeddings_dictionary.get(word)\n",
        "  if vector is not None:\n",
        "    try:\n",
        "      embedding_matrix[index] = vector\n",
        "    except:\n",
        "      pass"
      ],
      "metadata": {
        "id": "a01io5sZiqNa"
      },
      "execution_count": 226,
      "outputs": []
    },
    {
      "cell_type": "markdown",
      "source": [
        "### Model\n",
        "\n",
        "We are going to create a model using the `Sub Class API` from keras.\n"
      ],
      "metadata": {
        "id": "EYAJS_2OpWaf"
      }
    },
    {
      "cell_type": "code",
      "source": [
        "class APR(keras.Model):\n",
        "  def __init__(self):\n",
        "    super(APR, self).__init__()\n",
        "    # layers for bidirectional\n",
        "    forward_layer = keras.layers.GRU(\n",
        "      128, return_sequences=True, dropout=.5,\n",
        "      name=\"gru_forward_layer\"\n",
        "    )\n",
        "    backward_layer = keras.layers.LSTM(\n",
        "      128, return_sequences=True, dropout=.5,\n",
        "      go_backwards=True, name=\"lstm_backward_layer\"\n",
        "    )\n",
        "    self.embedding = keras.layers.Embedding(\n",
        "          vocab_size, 100,\n",
        "          input_length=max_words,\n",
        "          weights=[embedding_matrix],\n",
        "          trainable=True,\n",
        "          name = \"embedding_layer\"\n",
        "    )\n",
        "    self.bidirectional = keras.layers.Bidirectional(\n",
        "        forward_layer,\n",
        "        backward_layer = backward_layer,\n",
        "        name= \"bidirectional_layer\"\n",
        "    )\n",
        "    self.gru_layer = keras.layers.GRU(\n",
        "              512, return_sequences=True,\n",
        "              dropout=.5,\n",
        "              name= \"gru_layer\"\n",
        "      )\n",
        "    self.lstm_layer = keras.layers.LSTM(\n",
        "              512, return_sequences=True,\n",
        "              dropout=.5,\n",
        "              name=\"lstm_layer\"\n",
        "    )\n",
        "    self.fc_1 = keras.layers.Dense(512, activation=\"relu\", name=\"upvote_fc1\")\n",
        "    self.pooling_layer = keras.layers.GlobalAveragePooling1D(\n",
        "          name=\"average_pooling_layer\"\n",
        "    )\n",
        "    self.concatenate_layer = keras.layers.Concatenate(name=\"concatenate_layer_layer\")\n",
        "\n",
        "    self.dense_1 = keras.layers.Dense(64, activation='relu', name=\"dense_1\")\n",
        "    self.dropout_1 = keras.layers.Dropout(rate= .5, name=\"dropout_layer_0\")\n",
        "    self.dense_2 = keras.layers.Dense(512, activation='relu', name=\"dense_2\")\n",
        "    self.dropout_2 =  keras.layers.Dropout(rate= .5, name=\"dropout_layer_1\")\n",
        "    self.dense_3 = keras.layers.Dense(128, activation='relu', name=\"dense_3\")\n",
        "    self.dropout_3 = keras.layers.Dropout(rate= .5, name=\"dropout_layer_2\")\n",
        "    self.rating_output = keras.layers.Dense(5, activation='softmax', name=\"rating_output\")\n",
        "    self.recommend_output = keras.layers.Dense(1, activation='sigmoid', name=\"recommend_output\")\n",
        "\n",
        "  def call(self, inputs):\n",
        "    text, upvote = inputs\n",
        "    # Leaning the text features\n",
        "    x_1 = self.embedding(text)\n",
        "    x_1 = self.bidirectional(x_1)\n",
        "    x_1 = self.gru_layer(x_1)\n",
        "    x_1 = self.lstm_layer(x_1)\n",
        "    x_1 = self.pooling_layer(x_1)\n",
        "\n",
        "    # Learning the upvotes\n",
        "    x_2 = self.fc_1(upvote)\n",
        "\n",
        "    # concatenation\n",
        "    x = self.concatenate_layer([x_1, x_2])\n",
        "\n",
        "    # leaning combinned features\n",
        "    x = self.dense_1(self.dropout_1(x))\n",
        "    x = self.dense_2(self.dropout_2(x))\n",
        "    x = self.dense_3(self.dropout_3(x))\n",
        "\n",
        "    # outputs\n",
        "    rating = self.rating_output(x)\n",
        "    recommend = self.recommend_output(x)\n",
        "    return rating, recommend"
      ],
      "metadata": {
        "id": "m5PuAg-_iqKR"
      },
      "execution_count": 227,
      "outputs": []
    },
    {
      "cell_type": "code",
      "source": [
        "apr_model = APR()\n",
        "apr_model.build([(None, 100), (None, 1)])\n",
        "apr_model.summary()"
      ],
      "metadata": {
        "colab": {
          "base_uri": "https://localhost:8080/"
        },
        "id": "Z3ipwVxViqHO",
        "outputId": "68cf8140-aea7-4cd7-8f52-6938df74f0de"
      },
      "execution_count": 228,
      "outputs": [
        {
          "output_type": "stream",
          "name": "stdout",
          "text": [
            "Model: \"apr_1\"\n",
            "_________________________________________________________________\n",
            " Layer (type)                Output Shape              Param #   \n",
            "=================================================================\n",
            " embedding_layer (Embedding  multiple                  917300    \n",
            " )                                                               \n",
            "                                                                 \n",
            " bidirectional_layer (Bidir  multiple                  205568    \n",
            " ectional)                                                       \n",
            "                                                                 \n",
            " gru_layer (GRU)             multiple                  1182720   \n",
            "                                                                 \n",
            " lstm_layer (LSTM)           multiple                  2099200   \n",
            "                                                                 \n",
            " upvote_fc1 (Dense)          multiple                  1024      \n",
            "                                                                 \n",
            " average_pooling_layer (Glo  multiple                  0         \n",
            " balAveragePooling1D)                                            \n",
            "                                                                 \n",
            " concatenate_layer_layer (C  multiple                  0         \n",
            " oncatenate)                                                     \n",
            "                                                                 \n",
            " dense_1 (Dense)             multiple                  65600     \n",
            "                                                                 \n",
            " dropout_layer_0 (Dropout)   multiple                  0         \n",
            "                                                                 \n",
            " dense_2 (Dense)             multiple                  33280     \n",
            "                                                                 \n",
            " dropout_layer_1 (Dropout)   multiple                  0         \n",
            "                                                                 \n",
            " dense_3 (Dense)             multiple                  65664     \n",
            "                                                                 \n",
            " dropout_layer_2 (Dropout)   multiple                  0         \n",
            "                                                                 \n",
            " rating_output (Dense)       multiple                  645       \n",
            "                                                                 \n",
            " recommend_output (Dense)    multiple                  129       \n",
            "                                                                 \n",
            "=================================================================\n",
            "Total params: 4571130 (17.44 MB)\n",
            "Trainable params: 4571130 (17.44 MB)\n",
            "Non-trainable params: 0 (0.00 Byte)\n",
            "_________________________________________________________________\n"
          ]
        }
      ]
    },
    {
      "cell_type": "markdown",
      "source": [
        "### Combiling the model\n",
        "In the following code cell we are going to combile our model. Note that we have multiple labels which means we require 2 different activation functions. We are going to use the following loss functions:\n",
        "\n",
        "1. `recommend_output` - `BinaryCrossentropy`\n",
        "2. `rating_output` - `CategoricalCrossentropy`\n",
        "\n",
        "For the optimizer we are going to use the `Adam` with default paramaters.\n",
        "\n",
        "\n",
        "### Early Stopping\n",
        "Early Stopping is a regularization technique that improves classification accuracy by intentionally stopping the training when `validation` loss increases. Training is stopped as training a model for too many epochs sometimes causes `Overfitting`. In Early Stopping, the number of epochs becomes a tunable hyperparameter."
      ],
      "metadata": {
        "id": "_H7U-zxuxLZz"
      }
    },
    {
      "cell_type": "code",
      "source": [
        "recommend_output_early_stoping = keras.callbacks.EarlyStopping(\n",
        "    monitor='val_output_2_loss',\n",
        "    min_delta=0,\n",
        "    patience=5,\n",
        "    verbose=1,\n",
        "    mode='auto',\n",
        "    baseline=None,\n",
        "    restore_best_weights=False,\n",
        ")\n",
        "rating_output_early_stoping = keras.callbacks.EarlyStopping(\n",
        "    monitor='val_output_1_loss',\n",
        "    min_delta=0,\n",
        "    patience=5,\n",
        "    verbose=1,\n",
        "    mode='auto',\n",
        "    baseline=None,\n",
        "    restore_best_weights=False,\n",
        ")\n",
        "\n",
        "apr_model.compile(\n",
        "    loss = {\n",
        "        \"output_2\" : keras.losses.BinaryCrossentropy(from_logits=False),\n",
        "        \"output_1\" : keras.losses.CategoricalCrossentropy(from_logits=False)\n",
        "    },\n",
        "    metrics = ['accuracy'],\n",
        "    optimizer = keras.optimizers.Adam()\n",
        ")"
      ],
      "metadata": {
        "id": "5tWDc7RDiqAQ"
      },
      "execution_count": 229,
      "outputs": []
    },
    {
      "cell_type": "markdown",
      "source": [
        "### Training the model\n",
        "\n",
        "In the following code cell we are going to train our model.\n"
      ],
      "metadata": {
        "id": "Fs9wL3nWip0q"
      }
    },
    {
      "cell_type": "code",
      "source": [
        "BATCH_SIZE = 128\n",
        "EPOCHS = 50\n",
        "\n",
        "history = apr_model.fit(\n",
        "    x = [train_tokens_sequence_padded, train_up_votes_scaled],\n",
        "    y = [train_ratings, train_recommends.astype('int32')],\n",
        "    epochs = EPOCHS,\n",
        "    verbose = 1,\n",
        "    shuffle=True,\n",
        "    batch_size= BATCH_SIZE,\n",
        "    validation_data=([val_tokens_sequence_padded, val_up_votes_scaled], [val_ratings, val_recommends.astype('int32')]),\n",
        "    validation_batch_size = BATCH_SIZE//2,\n",
        "    callbacks =[recommend_output_early_stoping, rating_output_early_stoping]\n",
        ")"
      ],
      "metadata": {
        "colab": {
          "base_uri": "https://localhost:8080/"
        },
        "id": "qq759qUJipxa",
        "outputId": "cfe79a83-cb2a-4e65-bb9c-325ec006aeeb"
      },
      "execution_count": 230,
      "outputs": [
        {
          "output_type": "stream",
          "name": "stdout",
          "text": [
            "Epoch 1/50\n",
            "45/45 [==============================] - 22s 291ms/step - loss: 2.2151 - output_1_loss: 1.5269 - output_2_loss: 0.6881 - output_1_accuracy: 0.3379 - output_2_accuracy: 0.5307 - val_loss: 1.9817 - val_output_1_loss: 1.4029 - val_output_2_loss: 0.5788 - val_output_1_accuracy: 0.4167 - val_output_2_accuracy: 0.7465\n",
            "Epoch 2/50\n",
            "45/45 [==============================] - 8s 180ms/step - loss: 1.9460 - output_1_loss: 1.3873 - output_2_loss: 0.5587 - output_1_accuracy: 0.4335 - output_2_accuracy: 0.7354 - val_loss: 1.7254 - val_output_1_loss: 1.2706 - val_output_2_loss: 0.4547 - val_output_1_accuracy: 0.4639 - val_output_2_accuracy: 0.8067\n",
            "Epoch 3/50\n",
            "45/45 [==============================] - 8s 170ms/step - loss: 1.7204 - output_1_loss: 1.2626 - output_2_loss: 0.4578 - output_1_accuracy: 0.4677 - output_2_accuracy: 0.7898 - val_loss: 1.7745 - val_output_1_loss: 1.3228 - val_output_2_loss: 0.4517 - val_output_1_accuracy: 0.4549 - val_output_2_accuracy: 0.7904\n",
            "Epoch 4/50\n",
            "45/45 [==============================] - 8s 177ms/step - loss: 1.6137 - output_1_loss: 1.2062 - output_2_loss: 0.4076 - output_1_accuracy: 0.4994 - output_2_accuracy: 0.8302 - val_loss: 1.5472 - val_output_1_loss: 1.1756 - val_output_2_loss: 0.3716 - val_output_1_accuracy: 0.4842 - val_output_2_accuracy: 0.8408\n",
            "Epoch 5/50\n",
            "45/45 [==============================] - 7s 149ms/step - loss: 1.5120 - output_1_loss: 1.1480 - output_2_loss: 0.3640 - output_1_accuracy: 0.5102 - output_2_accuracy: 0.8464 - val_loss: 1.4575 - val_output_1_loss: 1.1377 - val_output_2_loss: 0.3198 - val_output_1_accuracy: 0.4931 - val_output_2_accuracy: 0.8611\n",
            "Epoch 6/50\n",
            "45/45 [==============================] - 7s 148ms/step - loss: 1.4530 - output_1_loss: 1.1223 - output_2_loss: 0.3307 - output_1_accuracy: 0.5128 - output_2_accuracy: 0.8645 - val_loss: 1.4456 - val_output_1_loss: 1.1400 - val_output_2_loss: 0.3056 - val_output_1_accuracy: 0.4972 - val_output_2_accuracy: 0.8725\n",
            "Epoch 7/50\n",
            "45/45 [==============================] - 6s 137ms/step - loss: 1.4082 - output_1_loss: 1.0965 - output_2_loss: 0.3117 - output_1_accuracy: 0.5210 - output_2_accuracy: 0.8791 - val_loss: 1.4411 - val_output_1_loss: 1.1265 - val_output_2_loss: 0.3146 - val_output_1_accuracy: 0.5012 - val_output_2_accuracy: 0.8765\n",
            "Epoch 8/50\n",
            "45/45 [==============================] - 7s 147ms/step - loss: 1.3650 - output_1_loss: 1.0746 - output_2_loss: 0.2904 - output_1_accuracy: 0.5262 - output_2_accuracy: 0.8889 - val_loss: 1.3819 - val_output_1_loss: 1.1005 - val_output_2_loss: 0.2814 - val_output_1_accuracy: 0.5053 - val_output_2_accuracy: 0.8781\n",
            "Epoch 9/50\n",
            "45/45 [==============================] - 6s 139ms/step - loss: 1.3133 - output_1_loss: 1.0441 - output_2_loss: 0.2692 - output_1_accuracy: 0.5339 - output_2_accuracy: 0.8969 - val_loss: 1.3962 - val_output_1_loss: 1.0991 - val_output_2_loss: 0.2972 - val_output_1_accuracy: 0.5069 - val_output_2_accuracy: 0.8806\n",
            "Epoch 10/50\n",
            "45/45 [==============================] - 6s 135ms/step - loss: 1.2575 - output_1_loss: 1.0139 - output_2_loss: 0.2436 - output_1_accuracy: 0.5428 - output_2_accuracy: 0.9084 - val_loss: 1.4114 - val_output_1_loss: 1.1117 - val_output_2_loss: 0.2997 - val_output_1_accuracy: 0.5183 - val_output_2_accuracy: 0.8798\n",
            "Epoch 11/50\n",
            "45/45 [==============================] - 6s 124ms/step - loss: 1.2283 - output_1_loss: 1.0025 - output_2_loss: 0.2258 - output_1_accuracy: 0.5379 - output_2_accuracy: 0.9152 - val_loss: 1.3801 - val_output_1_loss: 1.0982 - val_output_2_loss: 0.2819 - val_output_1_accuracy: 0.5183 - val_output_2_accuracy: 0.8895\n",
            "Epoch 12/50\n",
            "45/45 [==============================] - 6s 129ms/step - loss: 1.2288 - output_1_loss: 1.0006 - output_2_loss: 0.2282 - output_1_accuracy: 0.5464 - output_2_accuracy: 0.9129 - val_loss: 1.3847 - val_output_1_loss: 1.0982 - val_output_2_loss: 0.2865 - val_output_1_accuracy: 0.5305 - val_output_2_accuracy: 0.8903\n",
            "Epoch 13/50\n",
            "45/45 [==============================] - 6s 145ms/step - loss: 1.1946 - output_1_loss: 0.9808 - output_2_loss: 0.2137 - output_1_accuracy: 0.5576 - output_2_accuracy: 0.9159 - val_loss: 1.4173 - val_output_1_loss: 1.1174 - val_output_2_loss: 0.2999 - val_output_1_accuracy: 0.5191 - val_output_2_accuracy: 0.8863\n",
            "Epoch 13: early stopping\n"
          ]
        }
      ]
    },
    {
      "cell_type": "markdown",
      "source": [
        "### Training history visualization\n",
        "In the next code cell we are going to visualize the training history of our model interms of loss and accuracy."
      ],
      "metadata": {
        "id": "70wuNxDH6PZJ"
      }
    },
    {
      "cell_type": "code",
      "source": [
        "\n",
        "history = history.history\n",
        "N_EPOCHS = len(history['loss'])\n",
        "epochs = np.arange(1, N_EPOCHS + 1)\n",
        "plt.figure(figsize=(5, 3), dpi=80)\n",
        "plt.plot(epochs, history['loss'], label=\"train loss\", color=\"#FF9EAA\")\n",
        "plt.plot(epochs, history['val_loss'], label=\"validation loss\", color=\"#FD9B63\")\n",
        "plt.title(\"MODEL TOTAL TRAINING LOSS\", color=\"k\", fontsize=12)\n",
        "plt.legend(fontsize=10, bbox_to_anchor=(1, 1), loc='upper left')\n",
        "plt.xlabel = \"epochs\"\n",
        "plt.show()\n",
        ""
      ],
      "metadata": {
        "colab": {
          "base_uri": "https://localhost:8080/",
          "height": 252
        },
        "id": "W8XB5EJw_ZBc",
        "outputId": "d8a993dc-98f1-4c3b-d0ee-9ac09fc704a1"
      },
      "execution_count": 232,
      "outputs": [
        {
          "output_type": "display_data",
          "data": {
            "text/plain": [
              "<Figure size 400x240 with 1 Axes>"
            ],
            "image/png": "[encoded data removed]"
          },
          "metadata": {}
        }
      ]
    },
    {
      "cell_type": "markdown",
      "source": [
        "Next let's visualize the output train loss for the `recommended` and `rating` labels."
      ],
      "metadata": {
        "id": "PO3ink1Y_ZyY"
      }
    },
    {
      "cell_type": "code",
      "source": [
        "epochs = np.arange(1, N_EPOCHS + 1)\n",
        "plt.figure(figsize=(5, 3), dpi=80)\n",
        "plt.plot(epochs, history['output_1_loss'], label=\"rating\", color=\"#BC5A94\")\n",
        "plt.plot(epochs, history['output_2_loss'], label=\"recommended\", color=\"#AF47D2\")\n",
        "plt.title(\"MODEL TRAINING LOSSES\", color=\"k\", fontsize=12)\n",
        "plt.legend(fontsize=10, bbox_to_anchor=(1, 1), loc='upper left')\n",
        "plt.xlabel = \"epochs\"\n",
        "plt.show()"
      ],
      "metadata": {
        "colab": {
          "base_uri": "https://localhost:8080/",
          "height": 252
        },
        "id": "tIuTGEbt_ZtD",
        "outputId": "3d573dab-9e33-404f-c442-9d1bcf72e6fe"
      },
      "execution_count": 233,
      "outputs": [
        {
          "output_type": "display_data",
          "data": {
            "text/plain": [
              "<Figure size 400x240 with 1 Axes>"
            ],
            "image/png": "[encoded data removed]"
          },
          "metadata": {}
        }
      ]
    },
    {
      "cell_type": "markdown",
      "source": [
        "Let's do the same for the `validation_loss`."
      ],
      "metadata": {
        "id": "C_iNGGKC_Znc"
      }
    },
    {
      "cell_type": "code",
      "source": [
        "epochs = np.arange(1, N_EPOCHS + 1)\n",
        "plt.figure(figsize=(5, 3), dpi=80)\n",
        "plt.plot(epochs, history['val_output_1_loss'], label=\"rating\", color=\"#BC5A94\")\n",
        "plt.plot(epochs, history['val_output_2_loss'], label=\"recommended\", color=\"#AF47D2\")\n",
        "plt.title(\"MODEL VALIDATION LOSSES\", color=\"k\", fontsize=12)\n",
        "plt.legend(fontsize=10,  bbox_to_anchor=(1, 1), loc='upper left')\n",
        "plt.xlabel = \"epochs\"\n",
        "plt.show()"
      ],
      "metadata": {
        "colab": {
          "base_uri": "https://localhost:8080/",
          "height": 252
        },
        "id": "YtqxRvBaCKjl",
        "outputId": "639d0662-2880-456f-9105-67b0f57c87a0"
      },
      "execution_count": 234,
      "outputs": [
        {
          "output_type": "display_data",
          "data": {
            "text/plain": [
              "<Figure size 400x240 with 1 Axes>"
            ],
            "image/png": "[encoded data removed]"
          },
          "metadata": {}
        }
      ]
    },
    {
      "cell_type": "markdown",
      "source": [
        "Next we are going to visualize the train and validation accuracy of the `recommended` label. We don't care much about the accuracy of the `rating` label as it is not a good measure in this case because the labels were not balanced. So in that case we are going to skip visualizing it."
      ],
      "metadata": {
        "id": "QZ1Vq0h8C69_"
      }
    },
    {
      "cell_type": "code",
      "source": [
        "epochs = np.arange(1, N_EPOCHS + 1)\n",
        "plt.figure(figsize=(5, 3), dpi=80)\n",
        "plt.plot(epochs, history['output_2_accuracy'], label=\"train\", color=\"#006989\")\n",
        "plt.plot(epochs, history['val_output_2_accuracy'], label=\"validation\", color=\"#B3E2A7\")\n",
        "plt.title(\"MODEL RECOMMENED ACCURACIES\", color=\"k\", fontsize=12)\n",
        "plt.legend(fontsize=10,  bbox_to_anchor=(1, 1), loc='upper left')\n",
        "plt.xlabel = \"epochs\"\n",
        "plt.show()"
      ],
      "metadata": {
        "colab": {
          "base_uri": "https://localhost:8080/",
          "height": 252
        },
        "id": "wuIMhyZODSCc",
        "outputId": "fc2b4dea-08c4-4b21-ee08-ca5eb242ee21"
      },
      "execution_count": 235,
      "outputs": [
        {
          "output_type": "display_data",
          "data": {
            "text/plain": [
              "<Figure size 400x240 with 1 Axes>"
            ],
            "image/png": "[encoded data removed]"
          },
          "metadata": {}
        }
      ]
    },
    {
      "cell_type": "markdown",
      "source": [
        "### Evaluating the Model\n",
        "\n",
        "In the following code cell we are going to evaluate the `apr_model` based on the test dataset."
      ],
      "metadata": {
        "id": "arXEfkkg83Yy"
      }
    },
    {
      "cell_type": "code",
      "source": [
        "test_history = apr_model.evaluate(\n",
        "    x = [test_tokens_sequence_padded, test_up_votes_scaled],\n",
        "    y = [test_ratings, test_recommends.astype('int32')],\n",
        "   verbose=1, batch_size=BATCH_SIZE//2\n",
        ")"
      ],
      "metadata": {
        "colab": {
          "base_uri": "https://localhost:8080/"
        },
        "id": "ILLCHSxjipuS",
        "outputId": "2e6105c2-2d64-48ca-b9a8-8d2a42e31e7e"
      },
      "execution_count": 236,
      "outputs": [
        {
          "output_type": "stream",
          "name": "stdout",
          "text": [
            "20/20 [==============================] - 1s 28ms/step - loss: 1.5554 - output_1_loss: 1.1667 - output_2_loss: 0.3887 - output_1_accuracy: 0.5081 - output_2_accuracy: 0.8642\n"
          ]
        }
      ]
    },
    {
      "cell_type": "code",
      "source": [
        "tabulate_data([\"Metric\", \"Value\"],list(zip(\n",
        "  ['loss', 'rating loss', 'recommended loss',  'rating acc', 'recommended acc',], [f\"{i:.2f}\" for i in test_history]\n",
        ")), \"Model test metrics.\")"
      ],
      "metadata": {
        "colab": {
          "base_uri": "https://localhost:8080/"
        },
        "id": "g3NOrFdxEDlj",
        "outputId": "7435938f-b009-40b9-8446-06901d64b6fb"
      },
      "execution_count": 237,
      "outputs": [
        {
          "output_type": "stream",
          "name": "stdout",
          "text": [
            "Model test metrics.\n",
            "+------------------+-------+\n",
            "| Metric           | Value |\n",
            "+------------------+-------+\n",
            "| loss             |  1.56 |\n",
            "| rating loss      |  1.17 |\n",
            "| recommended loss |  0.39 |\n",
            "| rating acc       |  0.51 |\n",
            "| recommended acc  |  0.86 |\n",
            "+------------------+-------+\n"
          ]
        }
      ]
    },
    {
      "cell_type": "markdown",
      "source": [
        "Next lets get all the predictions from our test dataset."
      ],
      "metadata": {
        "id": "A2BLvXUcGf4B"
      }
    },
    {
      "cell_type": "code",
      "source": [
        "recommends_true = test_recommends.astype('int32')\n",
        "ratings_true =  np.argmax(test_ratings, axis=1)"
      ],
      "metadata": {
        "id": "54PYsvfJJo2O"
      },
      "execution_count": 238,
      "outputs": []
    },
    {
      "cell_type": "code",
      "source": [
        "def predict_labels(inputs: list, model):\n",
        "  rating_pred, recommend_pred = model.predict(inputs)\n",
        "  rating_label = np.argmax(rating_pred, axis=1)\n",
        "  recommended_label = np.array([1 if x >=0.5 else 0 for x in np.squeeze(recommend_pred)])\n",
        "  return rating_label, recommended_label\n",
        "\n",
        "ratings_prediction, recommends_prediction = predict_labels([test_tokens_sequence_padded, test_up_votes_scaled],apr_model)"
      ],
      "metadata": {
        "colab": {
          "base_uri": "https://localhost:8080/"
        },
        "id": "sxUW7f4QGfD1",
        "outputId": "4a48bffe-ab56-4f9a-831a-2d73c7988aad"
      },
      "execution_count": 239,
      "outputs": [
        {
          "output_type": "stream",
          "name": "stdout",
          "text": [
            "39/39 [==============================] - 2s 14ms/step\n"
          ]
        }
      ]
    },
    {
      "cell_type": "markdown",
      "source": [
        "### Confusion matrix.\n",
        "\n",
        "In the following code cells we are going to create a confusion matrix as to measure how good our model was in predicting ratings and recommendation label using a `confustion matrix`. We are going to do this on our test dataset only.\n",
        "\n",
        "\n",
        "First let's plot the confusion matrix for the recommended predictions.\n"
      ],
      "metadata": {
        "id": "AEzwqgsMGCES"
      }
    },
    {
      "cell_type": "code",
      "source": [
        "plot_complicated_confusion_matrix(recommends_true, recommends_prediction,\n",
        "  ['NOT RECOMMENDED', 'RECOMMENDED'], fontsize=10, figsize=(5, 5)\n",
        ")"
      ],
      "metadata": {
        "colab": {
          "base_uri": "https://localhost:8080/",
          "height": 427
        },
        "id": "BZHr7ZDUKcOx",
        "outputId": "1a670e75-b6dd-4c1a-8279-54b681b5638f"
      },
      "execution_count": 240,
      "outputs": [
        {
          "output_type": "display_data",
          "data": {
            "text/plain": [
              "<Figure size 500x500 with 2 Axes>"
            ],
            "image/png": "[encoded data removed]"
          },
          "metadata": {}
        }
      ]
    },
    {
      "cell_type": "markdown",
      "source": [
        "In the next code cell we are going to plot the confusion matrix for the ratings prediction on the test dataset."
      ],
      "metadata": {
        "id": "cghZfjU1LkG6"
      }
    },
    {
      "cell_type": "code",
      "source": [
        "plot_complicated_confusion_matrix(ratings_true, ratings_prediction,\n",
        "  [1, 2, 3, 4, 5], fontsize=8, figsize=(6, 6)\n",
        ")"
      ],
      "metadata": {
        "colab": {
          "base_uri": "https://localhost:8080/",
          "height": 507
        },
        "id": "DjZ366qYLEZx",
        "outputId": "10140ee9-fbdf-4926-c918-a61ed175f7aa"
      },
      "execution_count": 241,
      "outputs": [
        {
          "output_type": "display_data",
          "data": {
            "text/plain": [
              "<Figure size 600x600 with 2 Axes>"
            ],
            "image/png": "[encoded data removed]"
          },
          "metadata": {}
        }
      ]
    },
    {
      "cell_type": "markdown",
      "source": [
        "### Classification Report\n",
        "\n",
        "In the following code cell we are going to print the classification report as a way of measuring how good our model was in predicting our labels. We will start by ploting the classification report of the `recommended`."
      ],
      "metadata": {
        "id": "0mO22c6YF_SY"
      }
    },
    {
      "cell_type": "code",
      "source": [
        "cr = classification_report(recommends_true, recommends_prediction, output_dict=False\n",
        "                        )\n",
        "print(cr)"
      ],
      "metadata": {
        "colab": {
          "base_uri": "https://localhost:8080/"
        },
        "id": "rPfiNRseL7eE",
        "outputId": "1c37d518-28f1-405d-a3c1-774bd63aca7a"
      },
      "execution_count": 242,
      "outputs": [
        {
          "output_type": "stream",
          "name": "stdout",
          "text": [
            "              precision    recall  f1-score   support\n",
            "\n",
            "           0       0.88      0.84      0.86       619\n",
            "           1       0.85      0.89      0.87       611\n",
            "\n",
            "    accuracy                           0.86      1230\n",
            "   macro avg       0.86      0.86      0.86      1230\n",
            "weighted avg       0.87      0.86      0.86      1230\n",
            "\n"
          ]
        }
      ]
    },
    {
      "cell_type": "markdown",
      "source": [
        "Then we show the classification report of the `ratings`"
      ],
      "metadata": {
        "id": "v87bFogCL8FS"
      }
    },
    {
      "cell_type": "code",
      "source": [
        "cr = classification_report(ratings_true, ratings_prediction, output_dict=False)\n",
        "print(cr)"
      ],
      "metadata": {
        "colab": {
          "base_uri": "https://localhost:8080/"
        },
        "id": "NjUePCMIMLFx",
        "outputId": "da044ee2-0c4c-4c11-841f-21223761da21"
      },
      "execution_count": 243,
      "outputs": [
        {
          "output_type": "stream",
          "name": "stdout",
          "text": [
            "              precision    recall  f1-score   support\n",
            "\n",
            "           0       0.00      0.00      0.00       117\n",
            "           1       0.38      0.37      0.38       236\n",
            "           2       0.37      0.51      0.43       282\n",
            "           3       0.30      0.07      0.11       191\n",
            "           4       0.67      0.94      0.78       404\n",
            "\n",
            "    accuracy                           0.51      1230\n",
            "   macro avg       0.35      0.38      0.34      1230\n",
            "weighted avg       0.43      0.51      0.45      1230\n",
            "\n"
          ]
        },
        {
          "output_type": "stream",
          "name": "stderr",
          "text": [
            "/usr/local/lib/python3.10/dist-packages/sklearn/metrics/_classification.py:1344: UndefinedMetricWarning: Precision and F-score are ill-defined and being set to 0.0 in labels with no predicted samples. Use `zero_division` parameter to control this behavior.\n",
            "  _warn_prf(average, modifier, msg_start, len(result))\n",
            "/usr/local/lib/python3.10/dist-packages/sklearn/metrics/_classification.py:1344: UndefinedMetricWarning: Precision and F-score are ill-defined and being set to 0.0 in labels with no predicted samples. Use `zero_division` parameter to control this behavior.\n",
            "  _warn_prf(average, modifier, msg_start, len(result))\n",
            "/usr/local/lib/python3.10/dist-packages/sklearn/metrics/_classification.py:1344: UndefinedMetricWarning: Precision and F-score are ill-defined and being set to 0.0 in labels with no predicted samples. Use `zero_division` parameter to control this behavior.\n",
            "  _warn_prf(average, modifier, msg_start, len(result))\n"
          ]
        }
      ]
    },
    {
      "cell_type": "markdown",
      "source": [
        "### Model Inference\n",
        "\n",
        "In the following code cell we are going to create a function that will make product recommentations based on two inputs:\n",
        "\n",
        "1. text_review\n",
        "2. text_review_upvote\n",
        "\n",
        "So the pipeline for all our features will be the same as what we did in during training."
      ],
      "metadata": {
        "id": "dCXwk6t69STz"
      }
    },
    {
      "cell_type": "code",
      "source": [
        "def apr_predictor(text_review: str, text_review_upvote:int, model):\n",
        "  recomment_classes =[\"NOT RECOMMENDED\", \"RECOMMENDED\"]\n",
        "  recomment_emoji = [\"👎\", \"👍\"]\n",
        "  tokens = text_to_sequence(text_review)\n",
        "  padded_tokens = keras.preprocessing.sequence.pad_sequences([tokens],\n",
        "                                maxlen=max_words,\n",
        "                                padding=\"post\",\n",
        "                                truncating=\"post\"\n",
        "                                )\n",
        "\n",
        "  text_review_upvote = scaler.transform([text_review_upvote])\n",
        "  inputs = [padded_tokens, text_review_upvote]\n",
        "  rating_pred, recommend_pred = model.predict(inputs)\n",
        "\n",
        "  rating_pred = np.squeeze(rating_pred)\n",
        "  rating_label = np.argmax(rating_pred)\n",
        "  recomment_pred = tf.squeeze(recommend_pred).numpy()\n",
        "  recomment_label = 1 if recomment_pred >=0.5 else 0\n",
        "  probability = float(round(recomment_pred, 3)) if recomment_pred >= 0.5 else float(round(1 - recomment_pred, 3))\n",
        "\n",
        "  pred_obj ={\n",
        "      \"recommend\": {\n",
        "        \"label\": recomment_label,\n",
        "        \"probability\": probability,\n",
        "        \"class_\": recomment_classes[recomment_label],\n",
        "        \"emoji\": recomment_emoji[recomment_label]\n",
        "      },\n",
        "      \"rating\":{\n",
        "          \"rating\": rating_label+1,\n",
        "          \"stars\": \"⭐\" * (rating_label +1),\n",
        "          \"probability\": float(round(rating_pred[rating_label], 3))\n",
        "      }\n",
        "  }\n",
        "  return pred_obj\n",
        "\n",
        "apr_predictor(test_text[0], test_up_votes[0], apr_model)"
      ],
      "metadata": {
        "colab": {
          "base_uri": "https://localhost:8080/"
        },
        "id": "HrQXnhejipq8",
        "outputId": "44c31906-3269-434a-9bb1-2eb4d143e662"
      },
      "execution_count": 244,
      "outputs": [
        {
          "output_type": "stream",
          "name": "stdout",
          "text": [
            "1/1 [==============================] - 0s 31ms/step\n"
          ]
        },
        {
          "output_type": "execute_result",
          "data": {
            "text/plain": [
              "{'recommend': {'label': 1,\n",
              "  'probability': 0.9959999918937683,\n",
              "  'class_': 'RECOMMENDED',\n",
              "  'emoji': '👍'},\n",
              " 'rating': {'rating': 5, 'stars': '⭐⭐⭐⭐⭐', 'probability': 0.800000011920929}}"
            ]
          },
          "metadata": {},
          "execution_count": 244
        }
      ]
    },
    {
      "cell_type": "markdown",
      "source": [
        "### Saving and downloading the model.\n",
        "\n",
        "In the following code cell we are going to download and save our model as an `.h5` static file."
      ],
      "metadata": {
        "id": "5kH68DrUij1D"
      }
    },
    {
      "cell_type": "code",
      "source": [
        "MODEL_NAME = 'apr-model.h5'\n",
        "apr_model.save_weights(MODEL_NAME)"
      ],
      "metadata": {
        "id": "6-2Cix9nDTod"
      },
      "execution_count": 245,
      "outputs": []
    },
    {
      "cell_type": "code",
      "source": [
        "files.download(MODEL_NAME)"
      ],
      "metadata": {
        "colab": {
          "base_uri": "https://localhost:8080/",
          "height": 17
        },
        "id": "bYxvqfMk8eVX",
        "outputId": "a68f56f0-4d8a-4483-fa65-d37da00640b9"
      },
      "execution_count": 246,
      "outputs": [
        {
          "output_type": "display_data",
          "data": {
            "text/plain": [
              "<IPython.core.display.Javascript object>"
            ],
            "application/javascript": [
              "\n",
              "    async function download(id, filename, size) {\n",
              "      if (!google.colab.kernel.accessAllowed) {\n",
              "        return;\n",
              "      }\n",
              "      const div = document.createElement('div');\n",
              "      const label = document.createElement('label');\n",
              "      label.textContent = `Downloading \"${filename}\": `;\n",
              "      div.appendChild(label);\n",
              "      const progress = document.createElement('progress');\n",
              "      progress.max = size;\n",
              "      div.appendChild(progress);\n",
              "      document.body.appendChild(div);\n",
              "\n",
              "      const buffers = [];\n",
              "      let downloaded = 0;\n",
              "\n",
              "      const channel = await google.colab.kernel.comms.open(id);\n",
              "      // Send a message to notify the kernel that we're ready.\n",
              "      channel.send({})\n",
              "\n",
              "      for await (const message of channel.messages) {\n",
              "        // Send a message to notify the kernel that we're ready.\n",
              "        channel.send({})\n",
              "        if (message.buffers) {\n",
              "          for (const buffer of message.buffers) {\n",
              "            buffers.push(buffer);\n",
              "            downloaded += buffer.byteLength;\n",
              "            progress.value = downloaded;\n",
              "          }\n",
              "        }\n",
              "      }\n",
              "      const blob = new Blob(buffers, {type: 'application/binary'});\n",
              "      const a = document.createElement('a');\n",
              "      a.href = window.URL.createObjectURL(blob);\n",
              "      a.download = filename;\n",
              "      div.appendChild(a);\n",
              "      a.click();\n",
              "      div.remove();\n",
              "    }\n",
              "  "
            ]
          },
          "metadata": {}
        },
        {
          "output_type": "display_data",
          "data": {
            "text/plain": [
              "<IPython.core.display.Javascript object>"
            ],
            "application/javascript": [
              "download(\"download_f3eac3d2-11fc-424a-933e-9a9f1e1a53b5\", \"apr-model.h5\", 18332928)"
            ]
          },
          "metadata": {}
        }
      ]
    },
    {
      "cell_type": "markdown",
      "source": [
        "### Saving and downloading the vocabulary\n",
        "In the following code cell we are going to save and download the vocabulary that we used as a `json` file.\n"
      ],
      "metadata": {
        "id": "FwoG8fdBDe6w"
      }
    },
    {
      "cell_type": "code",
      "source": [
        "with open('vocab.json', 'w') as f:\n",
        "  json.dump(word_indices, f)\n",
        "\n",
        "files.download('vocab.json')"
      ],
      "metadata": {
        "id": "IwsQv0HSDsJQ",
        "colab": {
          "base_uri": "https://localhost:8080/",
          "height": 17
        },
        "outputId": "0be1e7aa-ca2f-4ca4-d927-c5f4e07abd56"
      },
      "execution_count": 247,
      "outputs": [
        {
          "output_type": "display_data",
          "data": {
            "text/plain": [
              "<IPython.core.display.Javascript object>"
            ],
            "application/javascript": [
              "\n",
              "    async function download(id, filename, size) {\n",
              "      if (!google.colab.kernel.accessAllowed) {\n",
              "        return;\n",
              "      }\n",
              "      const div = document.createElement('div');\n",
              "      const label = document.createElement('label');\n",
              "      label.textContent = `Downloading \"${filename}\": `;\n",
              "      div.appendChild(label);\n",
              "      const progress = document.createElement('progress');\n",
              "      progress.max = size;\n",
              "      div.appendChild(progress);\n",
              "      document.body.appendChild(div);\n",
              "\n",
              "      const buffers = [];\n",
              "      let downloaded = 0;\n",
              "\n",
              "      const channel = await google.colab.kernel.comms.open(id);\n",
              "      // Send a message to notify the kernel that we're ready.\n",
              "      channel.send({})\n",
              "\n",
              "      for await (const message of channel.messages) {\n",
              "        // Send a message to notify the kernel that we're ready.\n",
              "        channel.send({})\n",
              "        if (message.buffers) {\n",
              "          for (const buffer of message.buffers) {\n",
              "            buffers.push(buffer);\n",
              "            downloaded += buffer.byteLength;\n",
              "            progress.value = downloaded;\n",
              "          }\n",
              "        }\n",
              "      }\n",
              "      const blob = new Blob(buffers, {type: 'application/binary'});\n",
              "      const a = document.createElement('a');\n",
              "      a.href = window.URL.createObjectURL(blob);\n",
              "      a.download = filename;\n",
              "      div.appendChild(a);\n",
              "      a.click();\n",
              "      div.remove();\n",
              "    }\n",
              "  "
            ]
          },
          "metadata": {}
        },
        {
          "output_type": "display_data",
          "data": {
            "text/plain": [
              "<IPython.core.display.Javascript object>"
            ],
            "application/javascript": [
              "download(\"download_ae1f6499-26b5-492d-8024-54fc8f81fb55\", \"vocab.json\", 155434)"
            ]
          },
          "metadata": {}
        }
      ]
    },
    {
      "cell_type": "code",
      "source": [
        "len(word_indices)"
      ],
      "metadata": {
        "colab": {
          "base_uri": "https://localhost:8080/"
        },
        "id": "Kt8f0XwdDfwT",
        "outputId": "40703643-ed0c-4a88-c626-a72d7116e05b"
      },
      "execution_count": 248,
      "outputs": [
        {
          "output_type": "execute_result",
          "data": {
            "text/plain": [
              "9168"
            ]
          },
          "metadata": {},
          "execution_count": 248
        }
      ]
    },
    {
      "cell_type": "code",
      "source": [
        "vocab_size"
      ],
      "metadata": {
        "colab": {
          "base_uri": "https://localhost:8080/"
        },
        "id": "hjOBX73WDina",
        "outputId": "a18a8dde-35ab-4e03-8a25-2da7867a25ce"
      },
      "execution_count": 249,
      "outputs": [
        {
          "output_type": "execute_result",
          "data": {
            "text/plain": [
              "9173"
            ]
          },
          "metadata": {},
          "execution_count": 249
        }
      ]
    },
    {
      "cell_type": "markdown",
      "source": [
        "### Saving and downloading the `train_up_votes`\n",
        "\n",
        "We need to save and download `train_up_votes` so that we will create a `scaler` that we will use during `up_votes` preprocessing."
      ],
      "metadata": {
        "id": "-ukIdPNUDzvY"
      }
    },
    {
      "cell_type": "code",
      "source": [
        "np.save('upvotes.npy', train_up_votes)\n",
        "files.download('upvotes.npy')"
      ],
      "metadata": {
        "id": "2Uj24Wn0ENQ8",
        "colab": {
          "base_uri": "https://localhost:8080/",
          "height": 17
        },
        "outputId": "5f4c4a81-c457-4a05-aecd-9a5899daa4fd"
      },
      "execution_count": 250,
      "outputs": [
        {
          "output_type": "display_data",
          "data": {
            "text/plain": [
              "<IPython.core.display.Javascript object>"
            ],
            "application/javascript": [
              "\n",
              "    async function download(id, filename, size) {\n",
              "      if (!google.colab.kernel.accessAllowed) {\n",
              "        return;\n",
              "      }\n",
              "      const div = document.createElement('div');\n",
              "      const label = document.createElement('label');\n",
              "      label.textContent = `Downloading \"${filename}\": `;\n",
              "      div.appendChild(label);\n",
              "      const progress = document.createElement('progress');\n",
              "      progress.max = size;\n",
              "      div.appendChild(progress);\n",
              "      document.body.appendChild(div);\n",
              "\n",
              "      const buffers = [];\n",
              "      let downloaded = 0;\n",
              "\n",
              "      const channel = await google.colab.kernel.comms.open(id);\n",
              "      // Send a message to notify the kernel that we're ready.\n",
              "      channel.send({})\n",
              "\n",
              "      for await (const message of channel.messages) {\n",
              "        // Send a message to notify the kernel that we're ready.\n",
              "        channel.send({})\n",
              "        if (message.buffers) {\n",
              "          for (const buffer of message.buffers) {\n",
              "            buffers.push(buffer);\n",
              "            downloaded += buffer.byteLength;\n",
              "            progress.value = downloaded;\n",
              "          }\n",
              "        }\n",
              "      }\n",
              "      const blob = new Blob(buffers, {type: 'application/binary'});\n",
              "      const a = document.createElement('a');\n",
              "      a.href = window.URL.createObjectURL(blob);\n",
              "      a.download = filename;\n",
              "      div.appendChild(a);\n",
              "      a.click();\n",
              "      div.remove();\n",
              "    }\n",
              "  "
            ]
          },
          "metadata": {}
        },
        {
          "output_type": "display_data",
          "data": {
            "text/plain": [
              "<IPython.core.display.Javascript object>"
            ],
            "application/javascript": [
              "download(\"download_67096f30-c03b-40f3-a937-6f6786d445c2\", \"upvotes.npy\", 46056)"
            ]
          },
          "metadata": {}
        }
      ]
    },
    {
      "cell_type": "code",
      "source": [
        "train_text[0]"
      ],
      "metadata": {
        "colab": {
          "base_uri": "https://localhost:8080/",
          "height": 88
        },
        "id": "SJ97H3HqCwFQ",
        "outputId": "d077a861-26ee-4431-fa00-6f337b3abc70"
      },
      "execution_count": 251,
      "outputs": [
        {
          "output_type": "execute_result",
          "data": {
            "text/plain": [
              "'i buy almost ever top tiny puts out and so i grabbed this one in the last tops sale since i am a sucker for embroidered flowers everything about it is gorgeous except it is so flimsy i can not even believe it like when i held it up in the dressing room i could see through the entire shirt front to back before even putting it on once on i could see everything through it i actually thought i was going to tear the thing to pieces trying it on it is so frail i own so many tiny shirts and while'"
            ],
            "application/vnd.google.colaboratory.intrinsic+json": {
              "type": "string"
            }
          },
          "metadata": {},
          "execution_count": 251
        }
      ]
    },
    {
      "cell_type": "code",
      "source": [
        "train_up_votes_scaled[0], train_ratings[0], train_recommends[0]"
      ],
      "metadata": {
        "colab": {
          "base_uri": "https://localhost:8080/"
        },
        "id": "1_LI4x4mF8Zc",
        "outputId": "4865af14-5e2c-4403-ea04-1e5cbe5ebc77"
      },
      "execution_count": 252,
      "outputs": [
        {
          "output_type": "execute_result",
          "data": {
            "text/plain": [
              "(array([0.15740741]), array([0., 1., 0., 0., 0.]), 0)"
            ]
          },
          "metadata": {},
          "execution_count": 252
        }
      ]
    },
    {
      "cell_type": "code",
      "source": [
        "train_text[1]"
      ],
      "metadata": {
        "colab": {
          "base_uri": "https://localhost:8080/",
          "height": 53
        },
        "id": "kLsF-7EIIImf",
        "outputId": "5e8bf60b-be24-4593-bef6-aba36f43d1b6"
      },
      "execution_count": 253,
      "outputs": [
        {
          "output_type": "execute_result",
          "data": {
            "text/plain": [
              "'this dress was pretty but had a weird fit the waist droops down in the middle instead of going straight across which i found unflattering i ended up returning it'"
            ],
            "application/vnd.google.colaboratory.intrinsic+json": {
              "type": "string"
            }
          },
          "metadata": {},
          "execution_count": 253
        }
      ]
    },
    {
      "cell_type": "code",
      "source": [
        "train_up_votes[1], train_ratings[1], train_recommends[1]"
      ],
      "metadata": {
        "colab": {
          "base_uri": "https://localhost:8080/"
        },
        "id": "iTtcHp7sGCFL",
        "outputId": "856e8a87-29ca-4e06-d9a6-c856df860841"
      },
      "execution_count": 254,
      "outputs": [
        {
          "output_type": "execute_result",
          "data": {
            "text/plain": [
              "(array([4]), array([0., 0., 1., 0., 0.]), 0)"
            ]
          },
          "metadata": {},
          "execution_count": 254
        }
      ]
    },
    {
      "cell_type": "code",
      "source": [],
      "metadata": {
        "id": "985GUbH8IGgC"
      },
      "execution_count": 254,
      "outputs": []
    }
  ]
}