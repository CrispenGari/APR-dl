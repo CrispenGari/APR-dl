{
  "nbformat": 4,
  "nbformat_minor": 0,
  "metadata": {
    "colab": {
      "provenance": [],
      "gpuType": "T4"
    },
    "kernelspec": {
      "name": "python3",
      "display_name": "Python 3"
    },
    "language_info": {
      "name": "python"
    },
    "accelerator": "GPU"
  },
  "cells": [
    {
      "cell_type": "markdown",
      "source": [
        "___\n",
        "\n",
        "\n",
        "Project: `Automatic Product Recommender (APR)`\n",
        "\n",
        "Programmer: `@crispengari`\n",
        "\n",
        "Date: `2022-05-10`\n",
        "\n",
        "Abstract: `Automatic Product Recommender (APR) is a very useful topic in morden technologies. In this notebook we are going to create an Artificial Neural Network model using Deep Learning to detect weather the product is recommended or not based on review text and review upvotes. This model will be able to predict the rating of the product based on the features. APR is very usefull in moden technology because it helps product consumers to chose weather they should buy the product or not based on previous experinece customer reviews.`\n",
        "\n",
        "Keywords: `tensorflow`, `embedding`, `keras`, `pandas`, `CNN`, `dataset`, `accuracy`, `nltk`, `loss`\n",
        "\n",
        "Programming Language: `python`\n",
        "\n",
        "Main: `Natural Language Processing (NLP)`\n",
        "\n",
        "Main Package: `Tensorflow 2.*.*`\n",
        "\n",
        "Dataset: [`kaggle`](https://www.kaggle.com/datasets/nicapotato/womens-ecommerce-clothing-reviews)\n",
        "\n",
        "____"
      ],
      "metadata": {
        "id": "4F8TdJXoVpm8"
      }
    },
    {
      "cell_type": "markdown",
      "source": [
        "### Automatic Product Recommender (APR)\n",
        "\n",
        "In this notebook we are going to create a tensorflow model based on the keras subclassing api that will be able to predict two class labels:\n",
        "\n",
        "1. `rating` - predict the ratting based on upvotes of the review text and the review text itself.\n",
        "2. `recommend` - a binary label `0` or `1`, `1` if the product is recommended and `0` otherwise.\n",
        "\n",
        "Our model will have two inputs which are:\n",
        "\n",
        "1. `review text`\n",
        "2. `upvotes`\n",
        "\n",
        "### Dataset\n",
        "\n",
        "The dataset that we are using was taken from [kaggle](https://www.kaggle.com/datasets/nicapotato/womens-ecommerce-clothing-reviews). We are going to used the cleaned version of the dataset that was prepared in [this notebook](https://github.com/CrispenGari/APR-dl/blob/main/notebooks/00_E_Commerce_Clothing_Reviews_Data_Prep.ipynb).\n",
        "\n",
        "\n",
        "### Installation of extra packages\n",
        "\n",
        "In the following code cell we are going to install a package called `helperfns` which contains some usefull helper functions for machine learning that we are going to use throughout this notebook."
      ],
      "metadata": {
        "id": "4z69i7TNUXvZ"
      }
    },
    {
      "cell_type": "code",
      "source": [
        "!pip install helperfns -q"
      ],
      "metadata": {
        "id": "H56TIeNL-3WQ"
      },
      "execution_count": null,
      "outputs": []
    },
    {
      "cell_type": "markdown",
      "source": [
        "### Basic imports\n",
        "\n",
        "In the following code cell we are going to import all the packages that we are going to use in this notebook. We are also going to download some other files using `nltk`."
      ],
      "metadata": {
        "id": "vAMfgnj3-2Zn"
      }
    },
    {
      "cell_type": "code",
      "execution_count": null,
      "metadata": {
        "colab": {
          "base_uri": "https://localhost:8080/",
          "height": 105
        },
        "id": "k_-7DRnBTjpD",
        "outputId": "e09d46c8-68ea-4ae1-da2e-31794c3f92ab"
      },
      "outputs": [
        {
          "output_type": "stream",
          "name": "stderr",
          "text": [
            "[nltk_data] Downloading package words to /root/nltk_data...\n",
            "[nltk_data]   Unzipping corpora/words.zip.\n",
            "[nltk_data] Downloading package punkt to /root/nltk_data...\n",
            "[nltk_data]   Unzipping tokenizers/punkt.zip.\n"
          ]
        },
        {
          "output_type": "execute_result",
          "data": {
            "text/plain": [
              "'2.15.0'"
            ],
            "application/vnd.google.colaboratory.intrinsic+json": {
              "type": "string"
            }
          },
          "metadata": {},
          "execution_count": 2
        }
      ],
      "source": [
        "import os\n",
        "import time\n",
        "import random\n",
        "import math\n",
        "import nltk\n",
        "import json\n",
        "import urllib.request\n",
        "\n",
        "import numpy as np\n",
        "import tensorflow as tf\n",
        "import pandas as pd\n",
        "import wordcloud as wc\n",
        "\n",
        "from prettytable import PrettyTable\n",
        "from matplotlib import pyplot as plt\n",
        "from prettytable import PrettyTable\n",
        "from collections import Counter\n",
        "from tensorflow import keras\n",
        "from nltk.tokenize import word_tokenize\n",
        "from sklearn.preprocessing import LabelEncoder\n",
        "from google.colab import files, drive\n",
        "from sklearn.model_selection import train_test_split\n",
        "from sklearn.preprocessing import MinMaxScaler\n",
        "from PIL import Image\n",
        "from helperfns.tables import tabulate_data\n",
        "from helperfns.visualization import plot_complicated_confusion_matrix\n",
        "from sklearn.metrics import classification_report\n",
        "\n",
        "nltk.download(\"punkt\")\n",
        "\n",
        "tf.__version__"
      ]
    },
    {
      "cell_type": "markdown",
      "source": [
        "### Mounting the drive\n",
        "In the following code cell we are going to mount the drive since we are loading the dataset from the google drive."
      ],
      "metadata": {
        "id": "jBfzAnG9ZVRW"
      }
    },
    {
      "cell_type": "code",
      "source": [
        "drive.mount(\"/content/drive\")"
      ],
      "metadata": {
        "colab": {
          "base_uri": "https://localhost:8080/"
        },
        "id": "Dm5Knl1SUVVR",
        "outputId": "6db5a394-488c-413b-a920-63fcd82d6b49"
      },
      "execution_count": null,
      "outputs": [
        {
          "output_type": "stream",
          "name": "stdout",
          "text": [
            "Mounted at /content/drive\n"
          ]
        }
      ]
    },
    {
      "cell_type": "markdown",
      "source": [
        "### Seed\n",
        "We are going to set seed for reproducivity in the following code cell"
      ],
      "metadata": {
        "id": "CqpJrP8RZsVh"
      }
    },
    {
      "cell_type": "code",
      "source": [
        "SEED = 42\n",
        "\n",
        "np.random.seed(SEED)\n",
        "random.seed(SEED)\n",
        "tf.random.set_seed(SEED)"
      ],
      "metadata": {
        "id": "9IWWiRTEUVR9"
      },
      "execution_count": null,
      "outputs": []
    },
    {
      "cell_type": "markdown",
      "source": [
        "### GPU Acceleration\n",
        "\n",
        "We are going to make use of `GPU` if available so that we can increase the speed of mathematical computations in this notebook."
      ],
      "metadata": {
        "id": "jtB0PowbaHWm"
      }
    },
    {
      "cell_type": "code",
      "source": [
        "gpus = tf.config.list_physical_devices('GPU')\n",
        "if gpus:\n",
        "  try:\n",
        "    for gpu in gpus:\n",
        "      tf.config.experimental.set_memory_growth(gpu, True)\n",
        "    logical_gpus = tf.config.list_logical_devices('GPU')\n",
        "    print(len(gpus), \"Physical GPUs,\", len(logical_gpus), \"Logical GPUs\")\n",
        "  except RuntimeError as e:\n",
        "    print(e)\n",
        "else:\n",
        "  print(\"No GPU's\")"
      ],
      "metadata": {
        "colab": {
          "base_uri": "https://localhost:8080/"
        },
        "id": "q1KBHVOdUVPQ",
        "outputId": "973ad75f-47e9-4840-fb3e-a2cc0b6649fd"
      },
      "execution_count": null,
      "outputs": [
        {
          "output_type": "stream",
          "name": "stdout",
          "text": [
            "1 Physical GPUs, 1 Logical GPUs\n"
          ]
        }
      ]
    },
    {
      "cell_type": "markdown",
      "source": [
        "### Data Path\n",
        "In the following code cell we are going to define where our datafile path is. Note that this file is nothing but a `csv` file that is stored in my google drive."
      ],
      "metadata": {
        "id": "_sCSpbiDafQe"
      }
    },
    {
      "cell_type": "code",
      "source": [
        "data_path = \"/content/drive/My Drive/NLP Data/E-Commerce Reviews/clean_data.csv\"\n",
        "\n",
        "assert os.path.exists(data_path) == True, \"File not found\""
      ],
      "metadata": {
        "id": "mjZMwCfHUVMP"
      },
      "execution_count": null,
      "outputs": []
    },
    {
      "cell_type": "markdown",
      "source": [
        "### Dataframe\n",
        "We are going to read the data_path as a dataframe using `pandas` in the following code cell."
      ],
      "metadata": {
        "id": "XSlUEW9Ibhxa"
      }
    },
    {
      "cell_type": "code",
      "source": [
        "dataframe = pd.read_csv(data_path)\n",
        "dataframe.head(4)"
      ],
      "metadata": {
        "colab": {
          "base_uri": "https://localhost:8080/",
          "height": 175
        },
        "id": "Zg5EMbcPUVIm",
        "outputId": "ba283b5a-0b41-4b4a-e469-e8a80ce713ed"
      },
      "execution_count": null,
      "outputs": [
        {
          "output_type": "execute_result",
          "data": {
            "text/plain": [
              "                                                text  rating  recommended  \\\n",
              "0  Absolutely wonderful silky and sexy and comfor...       4            1   \n",
              "1  Love this dress it is sooo pretty i happened t...       5            1   \n",
              "2  I had such high hopes for this dress and reall...       3            0   \n",
              "3  I love love love this jumpsuit it is fun flirt...       5            1   \n",
              "\n",
              "   upvotes  \n",
              "0        0  \n",
              "1        4  \n",
              "2        0  \n",
              "3        0  "
            ],
            "text/html": [
              "\n",
              "  <div id=\"df-1ee7a593-c460-48c2-94a2-e9c5023bc590\" class=\"colab-df-container\">\n",
              "    <div>\n",
              "<style scoped>\n",
              "    .dataframe tbody tr th:only-of-type {\n",
              "        vertical-align: middle;\n",
              "    }\n",
              "\n",
              "    .dataframe tbody tr th {\n",
              "        vertical-align: top;\n",
              "    }\n",
              "\n",
              "    .dataframe thead th {\n",
              "        text-align: right;\n",
              "    }\n",
              "</style>\n",
              "<table border=\"1\" class=\"dataframe\">\n",
              "  <thead>\n",
              "    <tr style=\"text-align: right;\">\n",
              "      <th></th>\n",
              "      <th>text</th>\n",
              "      <th>rating</th>\n",
              "      <th>recommended</th>\n",
              "      <th>upvotes</th>\n",
              "    </tr>\n",
              "  </thead>\n",
              "  <tbody>\n",
              "    <tr>\n",
              "      <th>0</th>\n",
              "      <td>Absolutely wonderful silky and sexy and comfor...</td>\n",
              "      <td>4</td>\n",
              "      <td>1</td>\n",
              "      <td>0</td>\n",
              "    </tr>\n",
              "    <tr>\n",
              "      <th>1</th>\n",
              "      <td>Love this dress it is sooo pretty i happened t...</td>\n",
              "      <td>5</td>\n",
              "      <td>1</td>\n",
              "      <td>4</td>\n",
              "    </tr>\n",
              "    <tr>\n",
              "      <th>2</th>\n",
              "      <td>I had such high hopes for this dress and reall...</td>\n",
              "      <td>3</td>\n",
              "      <td>0</td>\n",
              "      <td>0</td>\n",
              "    </tr>\n",
              "    <tr>\n",
              "      <th>3</th>\n",
              "      <td>I love love love this jumpsuit it is fun flirt...</td>\n",
              "      <td>5</td>\n",
              "      <td>1</td>\n",
              "      <td>0</td>\n",
              "    </tr>\n",
              "  </tbody>\n",
              "</table>\n",
              "</div>\n",
              "    <div class=\"colab-df-buttons\">\n",
              "\n",
              "  <div class=\"colab-df-container\">\n",
              "    <button class=\"colab-df-convert\" onclick=\"convertToInteractive('df-1ee7a593-c460-48c2-94a2-e9c5023bc590')\"\n",
              "            title=\"Convert this dataframe to an interactive table.\"\n",
              "            style=\"display:none;\">\n",
              "\n",
              "  <svg xmlns=\"http://www.w3.org/2000/svg\" height=\"24px\" viewBox=\"0 -960 960 960\">\n",
              "    <path d=\"M120-120v-720h720v720H120Zm60-500h600v-160H180v160Zm220 220h160v-160H400v160Zm0 220h160v-160H400v160ZM180-400h160v-160H180v160Zm440 0h160v-160H620v160ZM180-180h160v-160H180v160Zm440 0h160v-160H620v160Z\"/>\n",
              "  </svg>\n",
              "    </button>\n",
              "\n",
              "  <style>\n",
              "    .colab-df-container {\n",
              "      display:flex;\n",
              "      gap: 12px;\n",
              "    }\n",
              "\n",
              "    .colab-df-convert {\n",
              "      background-color: #E8F0FE;\n",
              "      border: none;\n",
              "      border-radius: 50%;\n",
              "      cursor: pointer;\n",
              "      display: none;\n",
              "      fill: #1967D2;\n",
              "      height: 32px;\n",
              "      padding: 0 0 0 0;\n",
              "      width: 32px;\n",
              "    }\n",
              "\n",
              "    .colab-df-convert:hover {\n",
              "      background-color: #E2EBFA;\n",
              "      box-shadow: 0px 1px 2px rgba(60, 64, 67, 0.3), 0px 1px 3px 1px rgba(60, 64, 67, 0.15);\n",
              "      fill: #174EA6;\n",
              "    }\n",
              "\n",
              "    .colab-df-buttons div {\n",
              "      margin-bottom: 4px;\n",
              "    }\n",
              "\n",
              "    [theme=dark] .colab-df-convert {\n",
              "      background-color: #3B4455;\n",
              "      fill: #D2E3FC;\n",
              "    }\n",
              "\n",
              "    [theme=dark] .colab-df-convert:hover {\n",
              "      background-color: #434B5C;\n",
              "      box-shadow: 0px 1px 3px 1px rgba(0, 0, 0, 0.15);\n",
              "      filter: drop-shadow(0px 1px 2px rgba(0, 0, 0, 0.3));\n",
              "      fill: #FFFFFF;\n",
              "    }\n",
              "  </style>\n",
              "\n",
              "    <script>\n",
              "      const buttonEl =\n",
              "        document.querySelector('#df-1ee7a593-c460-48c2-94a2-e9c5023bc590 button.colab-df-convert');\n",
              "      buttonEl.style.display =\n",
              "        google.colab.kernel.accessAllowed ? 'block' : 'none';\n",
              "\n",
              "      async function convertToInteractive(key) {\n",
              "        const element = document.querySelector('#df-1ee7a593-c460-48c2-94a2-e9c5023bc590');\n",
              "        const dataTable =\n",
              "          await google.colab.kernel.invokeFunction('convertToInteractive',\n",
              "                                                    [key], {});\n",
              "        if (!dataTable) return;\n",
              "\n",
              "        const docLinkHtml = 'Like what you see? Visit the ' +\n",
              "          '<a target=\"_blank\" href=https://colab.research.google.com/notebooks/data_table.ipynb>data table notebook</a>'\n",
              "          + ' to learn more about interactive tables.';\n",
              "        element.innerHTML = '';\n",
              "        dataTable['output_type'] = 'display_data';\n",
              "        await google.colab.output.renderOutput(dataTable, element);\n",
              "        const docLink = document.createElement('div');\n",
              "        docLink.innerHTML = docLinkHtml;\n",
              "        element.appendChild(docLink);\n",
              "      }\n",
              "    </script>\n",
              "  </div>\n",
              "\n",
              "\n",
              "<div id=\"df-af466942-3f36-4881-bdb7-197a78f39a1f\">\n",
              "  <button class=\"colab-df-quickchart\" onclick=\"quickchart('df-af466942-3f36-4881-bdb7-197a78f39a1f')\"\n",
              "            title=\"Suggest charts\"\n",
              "            style=\"display:none;\">\n",
              "\n",
              "<svg xmlns=\"http://www.w3.org/2000/svg\" height=\"24px\"viewBox=\"0 0 24 24\"\n",
              "     width=\"24px\">\n",
              "    <g>\n",
              "        <path d=\"M19 3H5c-1.1 0-2 .9-2 2v14c0 1.1.9 2 2 2h14c1.1 0 2-.9 2-2V5c0-1.1-.9-2-2-2zM9 17H7v-7h2v7zm4 0h-2V7h2v10zm4 0h-2v-4h2v4z\"/>\n",
              "    </g>\n",
              "</svg>\n",
              "  </button>\n",
              "\n",
              "<style>\n",
              "  .colab-df-quickchart {\n",
              "      --bg-color: #E8F0FE;\n",
              "      --fill-color: #1967D2;\n",
              "      --hover-bg-color: #E2EBFA;\n",
              "      --hover-fill-color: #174EA6;\n",
              "      --disabled-fill-color: #AAA;\n",
              "      --disabled-bg-color: #DDD;\n",
              "  }\n",
              "\n",
              "  [theme=dark] .colab-df-quickchart {\n",
              "      --bg-color: #3B4455;\n",
              "      --fill-color: #D2E3FC;\n",
              "      --hover-bg-color: #434B5C;\n",
              "      --hover-fill-color: #FFFFFF;\n",
              "      --disabled-bg-color: #3B4455;\n",
              "      --disabled-fill-color: #666;\n",
              "  }\n",
              "\n",
              "  .colab-df-quickchart {\n",
              "    background-color: var(--bg-color);\n",
              "    border: none;\n",
              "    border-radius: 50%;\n",
              "    cursor: pointer;\n",
              "    display: none;\n",
              "    fill: var(--fill-color);\n",
              "    height: 32px;\n",
              "    padding: 0;\n",
              "    width: 32px;\n",
              "  }\n",
              "\n",
              "  .colab-df-quickchart:hover {\n",
              "    background-color: var(--hover-bg-color);\n",
              "    box-shadow: 0 1px 2px rgba(60, 64, 67, 0.3), 0 1px 3px 1px rgba(60, 64, 67, 0.15);\n",
              "    fill: var(--button-hover-fill-color);\n",
              "  }\n",
              "\n",
              "  .colab-df-quickchart-complete:disabled,\n",
              "  .colab-df-quickchart-complete:disabled:hover {\n",
              "    background-color: var(--disabled-bg-color);\n",
              "    fill: var(--disabled-fill-color);\n",
              "    box-shadow: none;\n",
              "  }\n",
              "\n",
              "  .colab-df-spinner {\n",
              "    border: 2px solid var(--fill-color);\n",
              "    border-color: transparent;\n",
              "    border-bottom-color: var(--fill-color);\n",
              "    animation:\n",
              "      spin 1s steps(1) infinite;\n",
              "  }\n",
              "\n",
              "  @keyframes spin {\n",
              "    0% {\n",
              "      border-color: transparent;\n",
              "      border-bottom-color: var(--fill-color);\n",
              "      border-left-color: var(--fill-color);\n",
              "    }\n",
              "    20% {\n",
              "      border-color: transparent;\n",
              "      border-left-color: var(--fill-color);\n",
              "      border-top-color: var(--fill-color);\n",
              "    }\n",
              "    30% {\n",
              "      border-color: transparent;\n",
              "      border-left-color: var(--fill-color);\n",
              "      border-top-color: var(--fill-color);\n",
              "      border-right-color: var(--fill-color);\n",
              "    }\n",
              "    40% {\n",
              "      border-color: transparent;\n",
              "      border-right-color: var(--fill-color);\n",
              "      border-top-color: var(--fill-color);\n",
              "    }\n",
              "    60% {\n",
              "      border-color: transparent;\n",
              "      border-right-color: var(--fill-color);\n",
              "    }\n",
              "    80% {\n",
              "      border-color: transparent;\n",
              "      border-right-color: var(--fill-color);\n",
              "      border-bottom-color: var(--fill-color);\n",
              "    }\n",
              "    90% {\n",
              "      border-color: transparent;\n",
              "      border-bottom-color: var(--fill-color);\n",
              "    }\n",
              "  }\n",
              "</style>\n",
              "\n",
              "  <script>\n",
              "    async function quickchart(key) {\n",
              "      const quickchartButtonEl =\n",
              "        document.querySelector('#' + key + ' button');\n",
              "      quickchartButtonEl.disabled = true;  // To prevent multiple clicks.\n",
              "      quickchartButtonEl.classList.add('colab-df-spinner');\n",
              "      try {\n",
              "        const charts = await google.colab.kernel.invokeFunction(\n",
              "            'suggestCharts', [key], {});\n",
              "      } catch (error) {\n",
              "        console.error('Error during call to suggestCharts:', error);\n",
              "      }\n",
              "      quickchartButtonEl.classList.remove('colab-df-spinner');\n",
              "      quickchartButtonEl.classList.add('colab-df-quickchart-complete');\n",
              "    }\n",
              "    (() => {\n",
              "      let quickchartButtonEl =\n",
              "        document.querySelector('#df-af466942-3f36-4881-bdb7-197a78f39a1f button');\n",
              "      quickchartButtonEl.style.display =\n",
              "        google.colab.kernel.accessAllowed ? 'block' : 'none';\n",
              "    })();\n",
              "  </script>\n",
              "</div>\n",
              "\n",
              "    </div>\n",
              "  </div>\n"
            ],
            "application/vnd.google.colaboratory.intrinsic+json": {
              "type": "dataframe",
              "variable_name": "dataframe",
              "summary": "{\n  \"name\": \"dataframe\",\n  \"rows\": 22641,\n  \"fields\": [\n    {\n      \"column\": \"text\",\n      \"properties\": {\n        \"dtype\": \"string\",\n        \"num_unique_values\": 22633,\n        \"samples\": [\n          \"This top is really pretty and nice quality runs big i went down a size and its perfect coloring is more subtle in person than in the photo\",\n          \"I was so excited to splurge on a mara hoffman suit and was sorely disappointed when i received this suit in the mail i am petite and fairly curvy so i knew it would likely be a little long in the torso but the whole suit was so oddly shaped i could not imagine anyone it would fit the square shape in between the halter pieces is awkward and the pieces that are supposed to hold your chest are super wide and loose\",\n          \"Got so many complements really comfy but runs big i am usually a large and i wish i had gotten the small\"\n        ],\n        \"semantic_type\": \"\",\n        \"description\": \"\"\n      }\n    },\n    {\n      \"column\": \"rating\",\n      \"properties\": {\n        \"dtype\": \"number\",\n        \"std\": 1,\n        \"min\": 1,\n        \"max\": 5,\n        \"num_unique_values\": 5,\n        \"samples\": [\n          5,\n          1,\n          3\n        ],\n        \"semantic_type\": \"\",\n        \"description\": \"\"\n      }\n    },\n    {\n      \"column\": \"recommended\",\n      \"properties\": {\n        \"dtype\": \"number\",\n        \"std\": 0,\n        \"min\": 0,\n        \"max\": 1,\n        \"num_unique_values\": 2,\n        \"samples\": [\n          0,\n          1\n        ],\n        \"semantic_type\": \"\",\n        \"description\": \"\"\n      }\n    },\n    {\n      \"column\": \"upvotes\",\n      \"properties\": {\n        \"dtype\": \"number\",\n        \"std\": 5,\n        \"min\": 0,\n        \"max\": 122,\n        \"num_unique_values\": 82,\n        \"samples\": [\n          21,\n          0\n        ],\n        \"semantic_type\": \"\",\n        \"description\": \"\"\n      }\n    }\n  ]\n}"
            }
          },
          "metadata": {},
          "execution_count": 7
        }
      ]
    },
    {
      "cell_type": "markdown",
      "source": [
        "Before we spit the data into different sets we want to analyize how the data is distributed in our cleaned dataset. But before we do that we want to make sure that the text is in common case. So we are going to convert our text to lower case in the text column of our dataframe."
      ],
      "metadata": {
        "id": "xEw7BSnj_WhW"
      }
    },
    {
      "cell_type": "code",
      "source": [
        "dataframe['text'] = dataframe['text'].apply(lambda x: x.lower())\n",
        "dataframe.head(2)"
      ],
      "metadata": {
        "colab": {
          "base_uri": "https://localhost:8080/",
          "height": 112
        },
        "id": "NohvKPU_B13g",
        "outputId": "942a4f97-c1e5-4c80-dbc2-01db87f089f7"
      },
      "execution_count": null,
      "outputs": [
        {
          "output_type": "execute_result",
          "data": {
            "text/plain": [
              "                                                text  rating  recommended  \\\n",
              "0  absolutely wonderful silky and sexy and comfor...       4            1   \n",
              "1  love this dress it is sooo pretty i happened t...       5            1   \n",
              "\n",
              "   upvotes  \n",
              "0        0  \n",
              "1        4  "
            ],
            "text/html": [
              "\n",
              "  <div id=\"df-75f4ea44-96d1-48ef-8932-e71971499252\" class=\"colab-df-container\">\n",
              "    <div>\n",
              "<style scoped>\n",
              "    .dataframe tbody tr th:only-of-type {\n",
              "        vertical-align: middle;\n",
              "    }\n",
              "\n",
              "    .dataframe tbody tr th {\n",
              "        vertical-align: top;\n",
              "    }\n",
              "\n",
              "    .dataframe thead th {\n",
              "        text-align: right;\n",
              "    }\n",
              "</style>\n",
              "<table border=\"1\" class=\"dataframe\">\n",
              "  <thead>\n",
              "    <tr style=\"text-align: right;\">\n",
              "      <th></th>\n",
              "      <th>text</th>\n",
              "      <th>rating</th>\n",
              "      <th>recommended</th>\n",
              "      <th>upvotes</th>\n",
              "    </tr>\n",
              "  </thead>\n",
              "  <tbody>\n",
              "    <tr>\n",
              "      <th>0</th>\n",
              "      <td>absolutely wonderful silky and sexy and comfor...</td>\n",
              "      <td>4</td>\n",
              "      <td>1</td>\n",
              "      <td>0</td>\n",
              "    </tr>\n",
              "    <tr>\n",
              "      <th>1</th>\n",
              "      <td>love this dress it is sooo pretty i happened t...</td>\n",
              "      <td>5</td>\n",
              "      <td>1</td>\n",
              "      <td>4</td>\n",
              "    </tr>\n",
              "  </tbody>\n",
              "</table>\n",
              "</div>\n",
              "    <div class=\"colab-df-buttons\">\n",
              "\n",
              "  <div class=\"colab-df-container\">\n",
              "    <button class=\"colab-df-convert\" onclick=\"convertToInteractive('df-75f4ea44-96d1-48ef-8932-e71971499252')\"\n",
              "            title=\"Convert this dataframe to an interactive table.\"\n",
              "            style=\"display:none;\">\n",
              "\n",
              "  <svg xmlns=\"http://www.w3.org/2000/svg\" height=\"24px\" viewBox=\"0 -960 960 960\">\n",
              "    <path d=\"M120-120v-720h720v720H120Zm60-500h600v-160H180v160Zm220 220h160v-160H400v160Zm0 220h160v-160H400v160ZM180-400h160v-160H180v160Zm440 0h160v-160H620v160ZM180-180h160v-160H180v160Zm440 0h160v-160H620v160Z\"/>\n",
              "  </svg>\n",
              "    </button>\n",
              "\n",
              "  <style>\n",
              "    .colab-df-container {\n",
              "      display:flex;\n",
              "      gap: 12px;\n",
              "    }\n",
              "\n",
              "    .colab-df-convert {\n",
              "      background-color: #E8F0FE;\n",
              "      border: none;\n",
              "      border-radius: 50%;\n",
              "      cursor: pointer;\n",
              "      display: none;\n",
              "      fill: #1967D2;\n",
              "      height: 32px;\n",
              "      padding: 0 0 0 0;\n",
              "      width: 32px;\n",
              "    }\n",
              "\n",
              "    .colab-df-convert:hover {\n",
              "      background-color: #E2EBFA;\n",
              "      box-shadow: 0px 1px 2px rgba(60, 64, 67, 0.3), 0px 1px 3px 1px rgba(60, 64, 67, 0.15);\n",
              "      fill: #174EA6;\n",
              "    }\n",
              "\n",
              "    .colab-df-buttons div {\n",
              "      margin-bottom: 4px;\n",
              "    }\n",
              "\n",
              "    [theme=dark] .colab-df-convert {\n",
              "      background-color: #3B4455;\n",
              "      fill: #D2E3FC;\n",
              "    }\n",
              "\n",
              "    [theme=dark] .colab-df-convert:hover {\n",
              "      background-color: #434B5C;\n",
              "      box-shadow: 0px 1px 3px 1px rgba(0, 0, 0, 0.15);\n",
              "      filter: drop-shadow(0px 1px 2px rgba(0, 0, 0, 0.3));\n",
              "      fill: #FFFFFF;\n",
              "    }\n",
              "  </style>\n",
              "\n",
              "    <script>\n",
              "      const buttonEl =\n",
              "        document.querySelector('#df-75f4ea44-96d1-48ef-8932-e71971499252 button.colab-df-convert');\n",
              "      buttonEl.style.display =\n",
              "        google.colab.kernel.accessAllowed ? 'block' : 'none';\n",
              "\n",
              "      async function convertToInteractive(key) {\n",
              "        const element = document.querySelector('#df-75f4ea44-96d1-48ef-8932-e71971499252');\n",
              "        const dataTable =\n",
              "          await google.colab.kernel.invokeFunction('convertToInteractive',\n",
              "                                                    [key], {});\n",
              "        if (!dataTable) return;\n",
              "\n",
              "        const docLinkHtml = 'Like what you see? Visit the ' +\n",
              "          '<a target=\"_blank\" href=https://colab.research.google.com/notebooks/data_table.ipynb>data table notebook</a>'\n",
              "          + ' to learn more about interactive tables.';\n",
              "        element.innerHTML = '';\n",
              "        dataTable['output_type'] = 'display_data';\n",
              "        await google.colab.output.renderOutput(dataTable, element);\n",
              "        const docLink = document.createElement('div');\n",
              "        docLink.innerHTML = docLinkHtml;\n",
              "        element.appendChild(docLink);\n",
              "      }\n",
              "    </script>\n",
              "  </div>\n",
              "\n",
              "\n",
              "<div id=\"df-c802dafd-0905-47cc-9305-faae14b6f981\">\n",
              "  <button class=\"colab-df-quickchart\" onclick=\"quickchart('df-c802dafd-0905-47cc-9305-faae14b6f981')\"\n",
              "            title=\"Suggest charts\"\n",
              "            style=\"display:none;\">\n",
              "\n",
              "<svg xmlns=\"http://www.w3.org/2000/svg\" height=\"24px\"viewBox=\"0 0 24 24\"\n",
              "     width=\"24px\">\n",
              "    <g>\n",
              "        <path d=\"M19 3H5c-1.1 0-2 .9-2 2v14c0 1.1.9 2 2 2h14c1.1 0 2-.9 2-2V5c0-1.1-.9-2-2-2zM9 17H7v-7h2v7zm4 0h-2V7h2v10zm4 0h-2v-4h2v4z\"/>\n",
              "    </g>\n",
              "</svg>\n",
              "  </button>\n",
              "\n",
              "<style>\n",
              "  .colab-df-quickchart {\n",
              "      --bg-color: #E8F0FE;\n",
              "      --fill-color: #1967D2;\n",
              "      --hover-bg-color: #E2EBFA;\n",
              "      --hover-fill-color: #174EA6;\n",
              "      --disabled-fill-color: #AAA;\n",
              "      --disabled-bg-color: #DDD;\n",
              "  }\n",
              "\n",
              "  [theme=dark] .colab-df-quickchart {\n",
              "      --bg-color: #3B4455;\n",
              "      --fill-color: #D2E3FC;\n",
              "      --hover-bg-color: #434B5C;\n",
              "      --hover-fill-color: #FFFFFF;\n",
              "      --disabled-bg-color: #3B4455;\n",
              "      --disabled-fill-color: #666;\n",
              "  }\n",
              "\n",
              "  .colab-df-quickchart {\n",
              "    background-color: var(--bg-color);\n",
              "    border: none;\n",
              "    border-radius: 50%;\n",
              "    cursor: pointer;\n",
              "    display: none;\n",
              "    fill: var(--fill-color);\n",
              "    height: 32px;\n",
              "    padding: 0;\n",
              "    width: 32px;\n",
              "  }\n",
              "\n",
              "  .colab-df-quickchart:hover {\n",
              "    background-color: var(--hover-bg-color);\n",
              "    box-shadow: 0 1px 2px rgba(60, 64, 67, 0.3), 0 1px 3px 1px rgba(60, 64, 67, 0.15);\n",
              "    fill: var(--button-hover-fill-color);\n",
              "  }\n",
              "\n",
              "  .colab-df-quickchart-complete:disabled,\n",
              "  .colab-df-quickchart-complete:disabled:hover {\n",
              "    background-color: var(--disabled-bg-color);\n",
              "    fill: var(--disabled-fill-color);\n",
              "    box-shadow: none;\n",
              "  }\n",
              "\n",
              "  .colab-df-spinner {\n",
              "    border: 2px solid var(--fill-color);\n",
              "    border-color: transparent;\n",
              "    border-bottom-color: var(--fill-color);\n",
              "    animation:\n",
              "      spin 1s steps(1) infinite;\n",
              "  }\n",
              "\n",
              "  @keyframes spin {\n",
              "    0% {\n",
              "      border-color: transparent;\n",
              "      border-bottom-color: var(--fill-color);\n",
              "      border-left-color: var(--fill-color);\n",
              "    }\n",
              "    20% {\n",
              "      border-color: transparent;\n",
              "      border-left-color: var(--fill-color);\n",
              "      border-top-color: var(--fill-color);\n",
              "    }\n",
              "    30% {\n",
              "      border-color: transparent;\n",
              "      border-left-color: var(--fill-color);\n",
              "      border-top-color: var(--fill-color);\n",
              "      border-right-color: var(--fill-color);\n",
              "    }\n",
              "    40% {\n",
              "      border-color: transparent;\n",
              "      border-right-color: var(--fill-color);\n",
              "      border-top-color: var(--fill-color);\n",
              "    }\n",
              "    60% {\n",
              "      border-color: transparent;\n",
              "      border-right-color: var(--fill-color);\n",
              "    }\n",
              "    80% {\n",
              "      border-color: transparent;\n",
              "      border-right-color: var(--fill-color);\n",
              "      border-bottom-color: var(--fill-color);\n",
              "    }\n",
              "    90% {\n",
              "      border-color: transparent;\n",
              "      border-bottom-color: var(--fill-color);\n",
              "    }\n",
              "  }\n",
              "</style>\n",
              "\n",
              "  <script>\n",
              "    async function quickchart(key) {\n",
              "      const quickchartButtonEl =\n",
              "        document.querySelector('#' + key + ' button');\n",
              "      quickchartButtonEl.disabled = true;  // To prevent multiple clicks.\n",
              "      quickchartButtonEl.classList.add('colab-df-spinner');\n",
              "      try {\n",
              "        const charts = await google.colab.kernel.invokeFunction(\n",
              "            'suggestCharts', [key], {});\n",
              "      } catch (error) {\n",
              "        console.error('Error during call to suggestCharts:', error);\n",
              "      }\n",
              "      quickchartButtonEl.classList.remove('colab-df-spinner');\n",
              "      quickchartButtonEl.classList.add('colab-df-quickchart-complete');\n",
              "    }\n",
              "    (() => {\n",
              "      let quickchartButtonEl =\n",
              "        document.querySelector('#df-c802dafd-0905-47cc-9305-faae14b6f981 button');\n",
              "      quickchartButtonEl.style.display =\n",
              "        google.colab.kernel.accessAllowed ? 'block' : 'none';\n",
              "    })();\n",
              "  </script>\n",
              "</div>\n",
              "\n",
              "    </div>\n",
              "  </div>\n"
            ],
            "application/vnd.google.colaboratory.intrinsic+json": {
              "type": "dataframe",
              "variable_name": "dataframe",
              "summary": "{\n  \"name\": \"dataframe\",\n  \"rows\": 22641,\n  \"fields\": [\n    {\n      \"column\": \"text\",\n      \"properties\": {\n        \"dtype\": \"string\",\n        \"num_unique_values\": 22633,\n        \"samples\": [\n          \"this top is really pretty and nice quality runs big i went down a size and its perfect coloring is more subtle in person than in the photo\",\n          \"i was so excited to splurge on a mara hoffman suit and was sorely disappointed when i received this suit in the mail i am petite and fairly curvy so i knew it would likely be a little long in the torso but the whole suit was so oddly shaped i could not imagine anyone it would fit the square shape in between the halter pieces is awkward and the pieces that are supposed to hold your chest are super wide and loose\",\n          \"got so many complements really comfy but runs big i am usually a large and i wish i had gotten the small\"\n        ],\n        \"semantic_type\": \"\",\n        \"description\": \"\"\n      }\n    },\n    {\n      \"column\": \"rating\",\n      \"properties\": {\n        \"dtype\": \"number\",\n        \"std\": 1,\n        \"min\": 1,\n        \"max\": 5,\n        \"num_unique_values\": 5,\n        \"samples\": [\n          5,\n          1,\n          3\n        ],\n        \"semantic_type\": \"\",\n        \"description\": \"\"\n      }\n    },\n    {\n      \"column\": \"recommended\",\n      \"properties\": {\n        \"dtype\": \"number\",\n        \"std\": 0,\n        \"min\": 0,\n        \"max\": 1,\n        \"num_unique_values\": 2,\n        \"samples\": [\n          0,\n          1\n        ],\n        \"semantic_type\": \"\",\n        \"description\": \"\"\n      }\n    },\n    {\n      \"column\": \"upvotes\",\n      \"properties\": {\n        \"dtype\": \"number\",\n        \"std\": 5,\n        \"min\": 0,\n        \"max\": 122,\n        \"num_unique_values\": 82,\n        \"samples\": [\n          21,\n          0\n        ],\n        \"semantic_type\": \"\",\n        \"description\": \"\"\n      }\n    }\n  ]\n}"
            }
          },
          "metadata": {},
          "execution_count": 8
        }
      ]
    },
    {
      "cell_type": "markdown",
      "source": [
        "First let's visualize the using a line graph how the upvotes on a review text were distributed. In the following code cell we are going to do that."
      ],
      "metadata": {
        "id": "ydz99YtFLYcx"
      }
    },
    {
      "source": [
        "plt.figure(figsize=(4, 4))\n",
        "dataframe['upvotes'].plot(kind='line', figsize=(8, 4), title='upvotes', color='#219C90')\n",
        "plt.gca().spines[['top', 'right']].set_visible(False)"
      ],
      "cell_type": "code",
      "execution_count": null,
      "outputs": [
        {
          "output_type": "display_data",
          "data": {
            "text/plain": [
              "<Figure size 800x400 with 1 Axes>"
            ],
            "image/png": "[encoded data removed]"
          },
          "metadata": {}
        }
      ],
      "metadata": {
        "colab": {
          "base_uri": "https://localhost:8080/",
          "height": 391
        },
        "id": "j5ILtoPdKfKK",
        "outputId": "d2ad9419-2b0d-4b0c-93a6-7c6ef49c4b2f"
      }
    },
    {
      "cell_type": "markdown",
      "source": [
        "The above line graph shows the distribution of upvotes form a minimum of `0` on a review text to a maximum of `122`."
      ],
      "metadata": {
        "id": "iLnMmBBCK_iN"
      }
    },
    {
      "cell_type": "markdown",
      "source": [
        "Next we are going to visualize how the ratings are distributed using a pie chat.\n"
      ],
      "metadata": {
        "id": "jwBoKmsnFGZl"
      }
    },
    {
      "cell_type": "code",
      "source": [
        "dist_rating\t= {i:0 for i in dataframe.rating.unique()}\n",
        "for rating in dataframe.rating:\n",
        "  dist_rating[rating] += 1\n",
        "\n",
        "plt.figure(figsize=(4, 4))\n",
        "plt.pie(dist_rating.values(), labels=dist_rating.keys(),\n",
        "        pctdistance=0.6, shadow=True, autopct='%1.1f%%', textprops={'color': 'white', 'fontsize':8}, radius=.6,\n",
        "        colors=['#219C90', '#80C4E9', '#604CC3', '#C80036', '#365E32'])\n",
        "plt.legend(fontsize=8, labels=list(dist_rating.keys()), bbox_to_anchor=(1, 1), loc='upper left')\n",
        "plt.show()"
      ],
      "metadata": {
        "colab": {
          "base_uri": "https://localhost:8080/",
          "height": 345
        },
        "id": "d-H8w2TyCVeo",
        "outputId": "52403026-a4e1-43cb-a8ee-7329d80e02de"
      },
      "execution_count": null,
      "outputs": [
        {
          "output_type": "display_data",
          "data": {
            "text/plain": [
              "<Figure size 400x400 with 1 Axes>"
            ],
            "image/png": "[encoded data removed]"
          },
          "metadata": {}
        }
      ]
    },
    {
      "cell_type": "markdown",
      "source": [
        "From the above pie chat we can conclude that there are more `5` star ratted products that were reviewed. Only a fraction of `3.6%` were lowly rated. Since we will will be predicting the rating and we canm see that there is misbalance of labels accuracy metric will not be a good measure of how the model will perform. We are going to measure our model performance using other metrics such as the confusion matrix, f1_score, etc.\n",
        "\n",
        "\n",
        "\n",
        "Next we are going to check how the labels were distributed interms of product recommentations."
      ],
      "metadata": {
        "id": "-yf_I2j_LyjP"
      }
    },
    {
      "cell_type": "code",
      "source": [
        "dist_recommended\t= {'recommended': 0, 'not recommended': 0}\n",
        "for recommended in dataframe.recommended:\n",
        "  if recommended == 1:\n",
        "    dist_recommended['recommended'] += 1\n",
        "  else:\n",
        "    dist_recommended['not recommended'] += 1\n",
        "\n",
        "plt.figure(figsize=(4, 4))\n",
        "plt.bar(dist_recommended.keys(), dist_recommended.values(), width=.4,label=dist_recommended.keys(),\n",
        "        color=['#219C90', '#365E32'])\n",
        "plt.legend(fontsize=8, labels=list(dist_recommended.keys()), bbox_to_anchor=(1, 1), loc='upper left')\n",
        "plt.show()"
      ],
      "metadata": {
        "colab": {
          "base_uri": "https://localhost:8080/",
          "height": 368
        },
        "id": "SDgQDx8sCViI",
        "outputId": "bbc417c5-ff39-473f-e742-c36dc43d95cc"
      },
      "execution_count": null,
      "outputs": [
        {
          "output_type": "display_data",
          "data": {
            "text/plain": [
              "<Figure size 400x400 with 1 Axes>"
            ],
            "image/png": "[encoded data removed]"
          },
          "metadata": {}
        }
      ]
    },
    {
      "cell_type": "markdown",
      "source": [
        "Most of the products that was reviewed by customers were recommended. We can see that there is a huge misbalance of data. What we want to do is to make sure that the labels will be balanced for recommended or not recommended, so our dataset will be trimmed a bit.\n",
        "\n",
        "\n",
        "Let's check the context of the product reviews on women clothes. For that we are going to use a word cloud as a visualization to check which words were frequently appearing in the review text a lot based on the first `10_000` words in the review text."
      ],
      "metadata": {
        "id": "f9eoo9sfMaP-"
      }
    },
    {
      "cell_type": "code",
      "source": [
        "review_text = ' '.join(dataframe.text.values)\n",
        "\n",
        "def transform_format(val):\n",
        "    if val == 0:\n",
        "        return 255\n",
        "    else:\n",
        "        return val\n",
        "\n",
        "wine_mask = np.array(Image.open('wine.png')).astype(np.int32)\n",
        "for i in range(len(wine_mask)):\n",
        "    wine_mask[i] = list(map(transform_format, wine_mask[i]))\n",
        "\n",
        "image = wc.WordCloud(background_color=\"white\", max_words=10_000, mask=wine_mask,\n",
        "                contour_width=3, contour_color='firebrick').generate(review_text)\n",
        "\n",
        "plt.figure(figsize=(4, 4))\n",
        "plt.imshow(image)\n",
        "plt.axis(\"off\")\n",
        "plt.show()"
      ],
      "metadata": {
        "colab": {
          "base_uri": "https://localhost:8080/",
          "height": 345
        },
        "id": "mLiFp6fcH4ae",
        "outputId": "ed3f7e77-f9f8-494b-df03-f4cdcc8fdee3"
      },
      "execution_count": null,
      "outputs": [
        {
          "output_type": "display_data",
          "data": {
            "text/plain": [
              "<Figure size 400x400 with 1 Axes>"
            ],
            "image/png": "[encoded data removed]"
          },
          "metadata": {}
        }
      ]
    },
    {
      "cell_type": "markdown",
      "source": [
        "We can see and conclude that the words like `dress`, `fabric`, `top` and `love` are frequently appearing in the review text. We can tell that these reviews was based on women clothing.\n",
        "\n",
        "\n",
        "### Balancing labels\n",
        "\n",
        "As i have mentioned we want to balance the rows of the recommended column. And check so that we can use a training accuracy as a measure of how our model will be good in predicting weather a product can be recommended to a customer or not based on the review text and review upvotes."
      ],
      "metadata": {
        "id": "gXOAIoQjH4Lf"
      }
    },
    {
      "cell_type": "code",
      "source": [
        "max_recommended = dataframe.recommended.where(dataframe.recommended == 0).count()\n",
        "max_recommended"
      ],
      "metadata": {
        "colab": {
          "base_uri": "https://localhost:8080/"
        },
        "id": "dhMjy6ObwrlQ",
        "outputId": "1ae2fc8c-b72c-4de5-bf0c-6cac8e2ef8ac"
      },
      "execution_count": null,
      "outputs": [
        {
          "output_type": "execute_result",
          "data": {
            "text/plain": [
              "4101"
            ]
          },
          "metadata": {},
          "execution_count": 14
        }
      ]
    },
    {
      "cell_type": "markdown",
      "source": [
        "We are going to balance our recommended labels to be equal."
      ],
      "metadata": {
        "id": "He3WHCOfxuuf"
      }
    },
    {
      "cell_type": "code",
      "source": [
        "dataframe = dataframe.groupby('recommended', as_index=False).apply(lambda x: x.sample(n=max_recommended)).reset_index(drop=True)\n",
        "dataframe.head()"
      ],
      "metadata": {
        "colab": {
          "base_uri": "https://localhost:8080/",
          "height": 206
        },
        "id": "lHxHTeF2x2pf",
        "outputId": "a98e1c9f-bf1e-49e3-e4f7-27a5905a3de9"
      },
      "execution_count": null,
      "outputs": [
        {
          "output_type": "execute_result",
          "data": {
            "text/plain": [
              "                                                text  rating  recommended  \\\n",
              "0  luckily i bought this on sale i now see the in...       1            0   \n",
              "1  this dress is absolutely lovely i could not le...       5            0   \n",
              "2  i love love love byron lars dresses they fit m...       3            0   \n",
              "3  i tried this on today because when i touched i...       4            0   \n",
              "4  i love this dress but when i put it on i was a...       3            0   \n",
              "\n",
              "   upvotes  \n",
              "0        2  \n",
              "1        8  \n",
              "2        3  \n",
              "3        2  \n",
              "4        1  "
            ],
            "text/html": [
              "\n",
              "  <div id=\"df-f20141c5-eb7c-4784-8380-6537d22a8072\" class=\"colab-df-container\">\n",
              "    <div>\n",
              "<style scoped>\n",
              "    .dataframe tbody tr th:only-of-type {\n",
              "        vertical-align: middle;\n",
              "    }\n",
              "\n",
              "    .dataframe tbody tr th {\n",
              "        vertical-align: top;\n",
              "    }\n",
              "\n",
              "    .dataframe thead th {\n",
              "        text-align: right;\n",
              "    }\n",
              "</style>\n",
              "<table border=\"1\" class=\"dataframe\">\n",
              "  <thead>\n",
              "    <tr style=\"text-align: right;\">\n",
              "      <th></th>\n",
              "      <th>text</th>\n",
              "      <th>rating</th>\n",
              "      <th>recommended</th>\n",
              "      <th>upvotes</th>\n",
              "    </tr>\n",
              "  </thead>\n",
              "  <tbody>\n",
              "    <tr>\n",
              "      <th>0</th>\n",
              "      <td>luckily i bought this on sale i now see the in...</td>\n",
              "      <td>1</td>\n",
              "      <td>0</td>\n",
              "      <td>2</td>\n",
              "    </tr>\n",
              "    <tr>\n",
              "      <th>1</th>\n",
              "      <td>this dress is absolutely lovely i could not le...</td>\n",
              "      <td>5</td>\n",
              "      <td>0</td>\n",
              "      <td>8</td>\n",
              "    </tr>\n",
              "    <tr>\n",
              "      <th>2</th>\n",
              "      <td>i love love love byron lars dresses they fit m...</td>\n",
              "      <td>3</td>\n",
              "      <td>0</td>\n",
              "      <td>3</td>\n",
              "    </tr>\n",
              "    <tr>\n",
              "      <th>3</th>\n",
              "      <td>i tried this on today because when i touched i...</td>\n",
              "      <td>4</td>\n",
              "      <td>0</td>\n",
              "      <td>2</td>\n",
              "    </tr>\n",
              "    <tr>\n",
              "      <th>4</th>\n",
              "      <td>i love this dress but when i put it on i was a...</td>\n",
              "      <td>3</td>\n",
              "      <td>0</td>\n",
              "      <td>1</td>\n",
              "    </tr>\n",
              "  </tbody>\n",
              "</table>\n",
              "</div>\n",
              "    <div class=\"colab-df-buttons\">\n",
              "\n",
              "  <div class=\"colab-df-container\">\n",
              "    <button class=\"colab-df-convert\" onclick=\"convertToInteractive('df-f20141c5-eb7c-4784-8380-6537d22a8072')\"\n",
              "            title=\"Convert this dataframe to an interactive table.\"\n",
              "            style=\"display:none;\">\n",
              "\n",
              "  <svg xmlns=\"http://www.w3.org/2000/svg\" height=\"24px\" viewBox=\"0 -960 960 960\">\n",
              "    <path d=\"M120-120v-720h720v720H120Zm60-500h600v-160H180v160Zm220 220h160v-160H400v160Zm0 220h160v-160H400v160ZM180-400h160v-160H180v160Zm440 0h160v-160H620v160ZM180-180h160v-160H180v160Zm440 0h160v-160H620v160Z\"/>\n",
              "  </svg>\n",
              "    </button>\n",
              "\n",
              "  <style>\n",
              "    .colab-df-container {\n",
              "      display:flex;\n",
              "      gap: 12px;\n",
              "    }\n",
              "\n",
              "    .colab-df-convert {\n",
              "      background-color: #E8F0FE;\n",
              "      border: none;\n",
              "      border-radius: 50%;\n",
              "      cursor: pointer;\n",
              "      display: none;\n",
              "      fill: #1967D2;\n",
              "      height: 32px;\n",
              "      padding: 0 0 0 0;\n",
              "      width: 32px;\n",
              "    }\n",
              "\n",
              "    .colab-df-convert:hover {\n",
              "      background-color: #E2EBFA;\n",
              "      box-shadow: 0px 1px 2px rgba(60, 64, 67, 0.3), 0px 1px 3px 1px rgba(60, 64, 67, 0.15);\n",
              "      fill: #174EA6;\n",
              "    }\n",
              "\n",
              "    .colab-df-buttons div {\n",
              "      margin-bottom: 4px;\n",
              "    }\n",
              "\n",
              "    [theme=dark] .colab-df-convert {\n",
              "      background-color: #3B4455;\n",
              "      fill: #D2E3FC;\n",
              "    }\n",
              "\n",
              "    [theme=dark] .colab-df-convert:hover {\n",
              "      background-color: #434B5C;\n",
              "      box-shadow: 0px 1px 3px 1px rgba(0, 0, 0, 0.15);\n",
              "      filter: drop-shadow(0px 1px 2px rgba(0, 0, 0, 0.3));\n",
              "      fill: #FFFFFF;\n",
              "    }\n",
              "  </style>\n",
              "\n",
              "    <script>\n",
              "      const buttonEl =\n",
              "        document.querySelector('#df-f20141c5-eb7c-4784-8380-6537d22a8072 button.colab-df-convert');\n",
              "      buttonEl.style.display =\n",
              "        google.colab.kernel.accessAllowed ? 'block' : 'none';\n",
              "\n",
              "      async function convertToInteractive(key) {\n",
              "        const element = document.querySelector('#df-f20141c5-eb7c-4784-8380-6537d22a8072');\n",
              "        const dataTable =\n",
              "          await google.colab.kernel.invokeFunction('convertToInteractive',\n",
              "                                                    [key], {});\n",
              "        if (!dataTable) return;\n",
              "\n",
              "        const docLinkHtml = 'Like what you see? Visit the ' +\n",
              "          '<a target=\"_blank\" href=https://colab.research.google.com/notebooks/data_table.ipynb>data table notebook</a>'\n",
              "          + ' to learn more about interactive tables.';\n",
              "        element.innerHTML = '';\n",
              "        dataTable['output_type'] = 'display_data';\n",
              "        await google.colab.output.renderOutput(dataTable, element);\n",
              "        const docLink = document.createElement('div');\n",
              "        docLink.innerHTML = docLinkHtml;\n",
              "        element.appendChild(docLink);\n",
              "      }\n",
              "    </script>\n",
              "  </div>\n",
              "\n",
              "\n",
              "<div id=\"df-b9357f93-f328-4899-a5ec-5feb8fe91d47\">\n",
              "  <button class=\"colab-df-quickchart\" onclick=\"quickchart('df-b9357f93-f328-4899-a5ec-5feb8fe91d47')\"\n",
              "            title=\"Suggest charts\"\n",
              "            style=\"display:none;\">\n",
              "\n",
              "<svg xmlns=\"http://www.w3.org/2000/svg\" height=\"24px\"viewBox=\"0 0 24 24\"\n",
              "     width=\"24px\">\n",
              "    <g>\n",
              "        <path d=\"M19 3H5c-1.1 0-2 .9-2 2v14c0 1.1.9 2 2 2h14c1.1 0 2-.9 2-2V5c0-1.1-.9-2-2-2zM9 17H7v-7h2v7zm4 0h-2V7h2v10zm4 0h-2v-4h2v4z\"/>\n",
              "    </g>\n",
              "</svg>\n",
              "  </button>\n",
              "\n",
              "<style>\n",
              "  .colab-df-quickchart {\n",
              "      --bg-color: #E8F0FE;\n",
              "      --fill-color: #1967D2;\n",
              "      --hover-bg-color: #E2EBFA;\n",
              "      --hover-fill-color: #174EA6;\n",
              "      --disabled-fill-color: #AAA;\n",
              "      --disabled-bg-color: #DDD;\n",
              "  }\n",
              "\n",
              "  [theme=dark] .colab-df-quickchart {\n",
              "      --bg-color: #3B4455;\n",
              "      --fill-color: #D2E3FC;\n",
              "      --hover-bg-color: #434B5C;\n",
              "      --hover-fill-color: #FFFFFF;\n",
              "      --disabled-bg-color: #3B4455;\n",
              "      --disabled-fill-color: #666;\n",
              "  }\n",
              "\n",
              "  .colab-df-quickchart {\n",
              "    background-color: var(--bg-color);\n",
              "    border: none;\n",
              "    border-radius: 50%;\n",
              "    cursor: pointer;\n",
              "    display: none;\n",
              "    fill: var(--fill-color);\n",
              "    height: 32px;\n",
              "    padding: 0;\n",
              "    width: 32px;\n",
              "  }\n",
              "\n",
              "  .colab-df-quickchart:hover {\n",
              "    background-color: var(--hover-bg-color);\n",
              "    box-shadow: 0 1px 2px rgba(60, 64, 67, 0.3), 0 1px 3px 1px rgba(60, 64, 67, 0.15);\n",
              "    fill: var(--button-hover-fill-color);\n",
              "  }\n",
              "\n",
              "  .colab-df-quickchart-complete:disabled,\n",
              "  .colab-df-quickchart-complete:disabled:hover {\n",
              "    background-color: var(--disabled-bg-color);\n",
              "    fill: var(--disabled-fill-color);\n",
              "    box-shadow: none;\n",
              "  }\n",
              "\n",
              "  .colab-df-spinner {\n",
              "    border: 2px solid var(--fill-color);\n",
              "    border-color: transparent;\n",
              "    border-bottom-color: var(--fill-color);\n",
              "    animation:\n",
              "      spin 1s steps(1) infinite;\n",
              "  }\n",
              "\n",
              "  @keyframes spin {\n",
              "    0% {\n",
              "      border-color: transparent;\n",
              "      border-bottom-color: var(--fill-color);\n",
              "      border-left-color: var(--fill-color);\n",
              "    }\n",
              "    20% {\n",
              "      border-color: transparent;\n",
              "      border-left-color: var(--fill-color);\n",
              "      border-top-color: var(--fill-color);\n",
              "    }\n",
              "    30% {\n",
              "      border-color: transparent;\n",
              "      border-left-color: var(--fill-color);\n",
              "      border-top-color: var(--fill-color);\n",
              "      border-right-color: var(--fill-color);\n",
              "    }\n",
              "    40% {\n",
              "      border-color: transparent;\n",
              "      border-right-color: var(--fill-color);\n",
              "      border-top-color: var(--fill-color);\n",
              "    }\n",
              "    60% {\n",
              "      border-color: transparent;\n",
              "      border-right-color: var(--fill-color);\n",
              "    }\n",
              "    80% {\n",
              "      border-color: transparent;\n",
              "      border-right-color: var(--fill-color);\n",
              "      border-bottom-color: var(--fill-color);\n",
              "    }\n",
              "    90% {\n",
              "      border-color: transparent;\n",
              "      border-bottom-color: var(--fill-color);\n",
              "    }\n",
              "  }\n",
              "</style>\n",
              "\n",
              "  <script>\n",
              "    async function quickchart(key) {\n",
              "      const quickchartButtonEl =\n",
              "        document.querySelector('#' + key + ' button');\n",
              "      quickchartButtonEl.disabled = true;  // To prevent multiple clicks.\n",
              "      quickchartButtonEl.classList.add('colab-df-spinner');\n",
              "      try {\n",
              "        const charts = await google.colab.kernel.invokeFunction(\n",
              "            'suggestCharts', [key], {});\n",
              "      } catch (error) {\n",
              "        console.error('Error during call to suggestCharts:', error);\n",
              "      }\n",
              "      quickchartButtonEl.classList.remove('colab-df-spinner');\n",
              "      quickchartButtonEl.classList.add('colab-df-quickchart-complete');\n",
              "    }\n",
              "    (() => {\n",
              "      let quickchartButtonEl =\n",
              "        document.querySelector('#df-b9357f93-f328-4899-a5ec-5feb8fe91d47 button');\n",
              "      quickchartButtonEl.style.display =\n",
              "        google.colab.kernel.accessAllowed ? 'block' : 'none';\n",
              "    })();\n",
              "  </script>\n",
              "</div>\n",
              "\n",
              "    </div>\n",
              "  </div>\n"
            ],
            "application/vnd.google.colaboratory.intrinsic+json": {
              "type": "dataframe",
              "variable_name": "dataframe",
              "summary": "{\n  \"name\": \"dataframe\",\n  \"rows\": 8202,\n  \"fields\": [\n    {\n      \"column\": \"text\",\n      \"properties\": {\n        \"dtype\": \"string\",\n        \"num_unique_values\": 8199,\n        \"samples\": [\n          \"the shirt cuts too high up and is very awkward looking on sent it back would not buy even on sale\",\n          \"i loved this top it was my go to top even in the heat the fabric is light and breathes however pulled it out of the washing mashing to find that the sleeve has shredded away from the body it could not be repaired i am so disappointed as i really loved everything about it\",\n          \"i love these cozy fashionable leggings they are super flattering and thick enough to wear to yoga or out and about in the real world i will definitely be getting another pair they seem true to size i am tall and usually wear a lg\"\n        ],\n        \"semantic_type\": \"\",\n        \"description\": \"\"\n      }\n    },\n    {\n      \"column\": \"rating\",\n      \"properties\": {\n        \"dtype\": \"number\",\n        \"std\": 1,\n        \"min\": 1,\n        \"max\": 5,\n        \"num_unique_values\": 5,\n        \"samples\": [\n          5,\n          2,\n          3\n        ],\n        \"semantic_type\": \"\",\n        \"description\": \"\"\n      }\n    },\n    {\n      \"column\": \"recommended\",\n      \"properties\": {\n        \"dtype\": \"number\",\n        \"std\": 0,\n        \"min\": 0,\n        \"max\": 1,\n        \"num_unique_values\": 2,\n        \"samples\": [\n          1,\n          0\n        ],\n        \"semantic_type\": \"\",\n        \"description\": \"\"\n      }\n    },\n    {\n      \"column\": \"upvotes\",\n      \"properties\": {\n        \"dtype\": \"number\",\n        \"std\": 6,\n        \"min\": 0,\n        \"max\": 122,\n        \"num_unique_values\": 59,\n        \"samples\": [\n          2,\n          5\n        ],\n        \"semantic_type\": \"\",\n        \"description\": \"\"\n      }\n    }\n  ]\n}"
            }
          },
          "metadata": {},
          "execution_count": 15
        }
      ]
    },
    {
      "cell_type": "code",
      "source": [
        "dist_recommended\t= {'recommended': 0, 'not recommended': 0}\n",
        "for recommended in dataframe.recommended:\n",
        "  if recommended == 1:\n",
        "    dist_recommended['recommended'] += 1\n",
        "  else:\n",
        "    dist_recommended['not recommended'] += 1\n",
        "\n",
        "plt.figure(figsize=(4, 4))\n",
        "plt.bar(dist_recommended.keys(), dist_recommended.values(), width=.4,label=dist_recommended.keys(),\n",
        "        color=['#219C90', '#365E32'])\n",
        "plt.legend(fontsize=8, labels=list(dist_recommended.keys()), bbox_to_anchor=(1, 1), loc='upper left')\n",
        "plt.show()"
      ],
      "metadata": {
        "colab": {
          "base_uri": "https://localhost:8080/",
          "height": 368
        },
        "id": "AkPjO8uUzMA8",
        "outputId": "bca57f2b-97bf-4b62-f1e9-5d775961cd08"
      },
      "execution_count": null,
      "outputs": [
        {
          "output_type": "display_data",
          "data": {
            "text/plain": [
              "<Figure size 400x400 with 1 Axes>"
            ],
            "image/png": "[encoded data removed]"
          },
          "metadata": {}
        }
      ]
    },
    {
      "cell_type": "markdown",
      "source": [
        "Now our recommended labels are balanced. Next we are going to check how the data is distributed in the ratings, upvotes and text columns."
      ],
      "metadata": {
        "id": "LvUPAlA-zyPc"
      }
    },
    {
      "cell_type": "code",
      "source": [
        "dist_rating\t= {i:0 for i in dataframe.rating.unique()}\n",
        "for rating in dataframe.rating:\n",
        "  dist_rating[rating] += 1\n",
        "\n",
        "plt.figure(figsize=(4, 4))\n",
        "plt.barh(list(dist_rating.keys()), list(dist_rating.values()), height=.4,label=dist_rating.keys(),\n",
        "        color=['#219C90', '#80C4E9', '#604CC3', '#C80036', '#365E32'])\n",
        "plt.legend(fontsize=8, labels=list(dist_rating.keys()), bbox_to_anchor=(1, 1), loc='upper left')\n",
        "plt.show()\n"
      ],
      "metadata": {
        "colab": {
          "base_uri": "https://localhost:8080/",
          "height": 368
        },
        "id": "OXEUzeFQzyK4",
        "outputId": "a9a82d60-2f23-4b61-8fd6-3488ce6e0d7b"
      },
      "execution_count": null,
      "outputs": [
        {
          "output_type": "display_data",
          "data": {
            "text/plain": [
              "<Figure size 400x400 with 1 Axes>"
            ],
            "image/png": "[encoded data removed]"
          },
          "metadata": {}
        }
      ]
    },
    {
      "cell_type": "markdown",
      "source": [
        "Here is how the upvotes are now distributed after we have balanced the labels."
      ],
      "metadata": {
        "id": "iTv3DrnfzyG8"
      }
    },
    {
      "cell_type": "code",
      "source": [
        "plt.figure(figsize=(4, 4))\n",
        "dataframe['upvotes'].plot(kind='line', figsize=(8, 4), title='upvotes', color='#219C90')\n",
        "plt.gca().spines[['top', 'right']].set_visible(False)"
      ],
      "metadata": {
        "colab": {
          "base_uri": "https://localhost:8080/",
          "height": 391
        },
        "id": "A1vJf6MIzyCn",
        "outputId": "fc2a4fcc-e812-4d8b-e709-3cc918367934"
      },
      "execution_count": null,
      "outputs": [
        {
          "output_type": "display_data",
          "data": {
            "text/plain": [
              "<Figure size 800x400 with 1 Axes>"
            ],
            "image/png": "[encoded data removed]"
          },
          "metadata": {}
        }
      ]
    },
    {
      "cell_type": "markdown",
      "source": [
        "The above line graph shows the distribution of upvotes form a minimum of `0` on a review text to a maximum is now `117`.\n",
        "\n",
        "\n",
        "Let's look at the most frequently words that appears in this dataset using word clouds."
      ],
      "metadata": {
        "id": "F1q3ChXTzx8l"
      }
    },
    {
      "cell_type": "code",
      "source": [
        "review_text = ' '.join(dataframe.text.values)\n",
        "\n",
        "image = wc.WordCloud(background_color=\"#F7F9F2\", max_words=10_000,\n",
        "                contour_width=3, contour_color='firebrick').generate(review_text)\n",
        "\n",
        "plt.figure(figsize=(4, 4))\n",
        "plt.imshow(image)\n",
        "plt.axis(\"off\")\n",
        "plt.show()"
      ],
      "metadata": {
        "colab": {
          "base_uri": "https://localhost:8080/",
          "height": 192
        },
        "id": "seqmDJ4c2Y4k",
        "outputId": "ab966e1f-919d-4fa5-c3ca-f1e38a270088"
      },
      "execution_count": null,
      "outputs": [
        {
          "output_type": "display_data",
          "data": {
            "text/plain": [
              "<Figure size 400x400 with 1 Axes>"
            ],
            "image/png": "[encoded data removed]"
          },
          "metadata": {}
        }
      ]
    },
    {
      "cell_type": "markdown",
      "source": [
        "We can still see that the most occuring words in our dataset shows that for sure these reviews were based on women clothing."
      ],
      "metadata": {
        "id": "jKggIizy3YcP"
      }
    },
    {
      "cell_type": "markdown",
      "source": [
        "### Splitting into subsets\n",
        "In the following code cell we are going to split our dataset into 3 sets:\n",
        "\n",
        "1. training\n",
        "2. testing\n",
        "3. validation\n",
        "\n",
        "\n",
        "We are going to take `30%` for the test dataset and we are going to set the random state to the constant `SEED` for reproducivity and also for shuffling the rows of the dataset. On the validation set we are going to take another `50%` from the test data."
      ],
      "metadata": {
        "id": "eyj1rZefb9xU"
      }
    },
    {
      "cell_type": "code",
      "source": [
        "train_df, test_df= train_test_split(dataframe, random_state=SEED, test_size=.3)\n",
        "test_df, val_df = train_test_split(test_df, random_state=SEED, test_size=.5)"
      ],
      "metadata": {
        "id": "MoPmn9BmUVFC"
      },
      "execution_count": null,
      "outputs": []
    },
    {
      "cell_type": "markdown",
      "source": [
        "### Counting examples\n",
        "\n",
        "In the following code cell we are going to count how many example belongs to each set and visualize them inform of a table."
      ],
      "metadata": {
        "id": "3LhNEF6Fc4Zz"
      }
    },
    {
      "cell_type": "code",
      "source": [
        "tabulate_data([\"Set\", \"Total\"],[\n",
        "   (\"training\", len(train_df)),\n",
        "    (\"testing\", len(test_df)),\n",
        "    (\"validation\", len(val_df)),\n",
        "], \"Counting examples in the dataset.\")"
      ],
      "metadata": {
        "colab": {
          "base_uri": "https://localhost:8080/"
        },
        "id": "V6F5bYwMUU-R",
        "outputId": "45fb8473-c0e7-4099-894d-377365a903f2"
      },
      "execution_count": null,
      "outputs": [
        {
          "output_type": "stream",
          "name": "stdout",
          "text": [
            "Counting examples in the dataset.\n",
            "+------------+-------+\n",
            "| Set        | Total |\n",
            "+------------+-------+\n",
            "| training   |  5741 |\n",
            "| testing    |  1230 |\n",
            "| validation |  1231 |\n",
            "+------------+-------+\n"
          ]
        }
      ]
    },
    {
      "cell_type": "markdown",
      "source": [
        "Next we are going to check the first 5 rows in the train dataset."
      ],
      "metadata": {
        "id": "cFrqIi4_5rgd"
      }
    },
    {
      "cell_type": "code",
      "source": [
        "train_df.reset_index(inplace=True, drop=True)\n",
        "test_df.reset_index(inplace=True, drop=True)\n",
        "val_df.reset_index(inplace=True, drop=True)\n",
        "\n",
        "train_df.head()"
      ],
      "metadata": {
        "colab": {
          "base_uri": "https://localhost:8080/",
          "height": 206
        },
        "id": "hSwMJV4W5OEQ",
        "outputId": "0094ec4e-39a7-424e-e3d3-c585c768e564"
      },
      "execution_count": null,
      "outputs": [
        {
          "output_type": "execute_result",
          "data": {
            "text/plain": [
              "                                                text  rating  recommended  \\\n",
              "0  i buy almost ever top tiny puts out and so i g...       2            0   \n",
              "1  this dress was pretty but had a weird fit the ...       3            0   \n",
              "2  i like the colors material and style of this s...       3            0   \n",
              "3  i ordered this with another sweater to compare...       4            1   \n",
              "4  i wore this for a few hours and while it i got...       2            0   \n",
              "\n",
              "   upvotes  \n",
              "0       17  \n",
              "1        4  \n",
              "2        0  \n",
              "3        2  \n",
              "4        1  "
            ],
            "text/html": [
              "\n",
              "  <div id=\"df-9ab1fe7e-e0f4-4e10-8d66-0c62550b7d42\" class=\"colab-df-container\">\n",
              "    <div>\n",
              "<style scoped>\n",
              "    .dataframe tbody tr th:only-of-type {\n",
              "        vertical-align: middle;\n",
              "    }\n",
              "\n",
              "    .dataframe tbody tr th {\n",
              "        vertical-align: top;\n",
              "    }\n",
              "\n",
              "    .dataframe thead th {\n",
              "        text-align: right;\n",
              "    }\n",
              "</style>\n",
              "<table border=\"1\" class=\"dataframe\">\n",
              "  <thead>\n",
              "    <tr style=\"text-align: right;\">\n",
              "      <th></th>\n",
              "      <th>text</th>\n",
              "      <th>rating</th>\n",
              "      <th>recommended</th>\n",
              "      <th>upvotes</th>\n",
              "    </tr>\n",
              "  </thead>\n",
              "  <tbody>\n",
              "    <tr>\n",
              "      <th>0</th>\n",
              "      <td>i buy almost ever top tiny puts out and so i g...</td>\n",
              "      <td>2</td>\n",
              "      <td>0</td>\n",
              "      <td>17</td>\n",
              "    </tr>\n",
              "    <tr>\n",
              "      <th>1</th>\n",
              "      <td>this dress was pretty but had a weird fit the ...</td>\n",
              "      <td>3</td>\n",
              "      <td>0</td>\n",
              "      <td>4</td>\n",
              "    </tr>\n",
              "    <tr>\n",
              "      <th>2</th>\n",
              "      <td>i like the colors material and style of this s...</td>\n",
              "      <td>3</td>\n",
              "      <td>0</td>\n",
              "      <td>0</td>\n",
              "    </tr>\n",
              "    <tr>\n",
              "      <th>3</th>\n",
              "      <td>i ordered this with another sweater to compare...</td>\n",
              "      <td>4</td>\n",
              "      <td>1</td>\n",
              "      <td>2</td>\n",
              "    </tr>\n",
              "    <tr>\n",
              "      <th>4</th>\n",
              "      <td>i wore this for a few hours and while it i got...</td>\n",
              "      <td>2</td>\n",
              "      <td>0</td>\n",
              "      <td>1</td>\n",
              "    </tr>\n",
              "  </tbody>\n",
              "</table>\n",
              "</div>\n",
              "    <div class=\"colab-df-buttons\">\n",
              "\n",
              "  <div class=\"colab-df-container\">\n",
              "    <button class=\"colab-df-convert\" onclick=\"convertToInteractive('df-9ab1fe7e-e0f4-4e10-8d66-0c62550b7d42')\"\n",
              "            title=\"Convert this dataframe to an interactive table.\"\n",
              "            style=\"display:none;\">\n",
              "\n",
              "  <svg xmlns=\"http://www.w3.org/2000/svg\" height=\"24px\" viewBox=\"0 -960 960 960\">\n",
              "    <path d=\"M120-120v-720h720v720H120Zm60-500h600v-160H180v160Zm220 220h160v-160H400v160Zm0 220h160v-160H400v160ZM180-400h160v-160H180v160Zm440 0h160v-160H620v160ZM180-180h160v-160H180v160Zm440 0h160v-160H620v160Z\"/>\n",
              "  </svg>\n",
              "    </button>\n",
              "\n",
              "  <style>\n",
              "    .colab-df-container {\n",
              "      display:flex;\n",
              "      gap: 12px;\n",
              "    }\n",
              "\n",
              "    .colab-df-convert {\n",
              "      background-color: #E8F0FE;\n",
              "      border: none;\n",
              "      border-radius: 50%;\n",
              "      cursor: pointer;\n",
              "      display: none;\n",
              "      fill: #1967D2;\n",
              "      height: 32px;\n",
              "      padding: 0 0 0 0;\n",
              "      width: 32px;\n",
              "    }\n",
              "\n",
              "    .colab-df-convert:hover {\n",
              "      background-color: #E2EBFA;\n",
              "      box-shadow: 0px 1px 2px rgba(60, 64, 67, 0.3), 0px 1px 3px 1px rgba(60, 64, 67, 0.15);\n",
              "      fill: #174EA6;\n",
              "    }\n",
              "\n",
              "    .colab-df-buttons div {\n",
              "      margin-bottom: 4px;\n",
              "    }\n",
              "\n",
              "    [theme=dark] .colab-df-convert {\n",
              "      background-color: #3B4455;\n",
              "      fill: #D2E3FC;\n",
              "    }\n",
              "\n",
              "    [theme=dark] .colab-df-convert:hover {\n",
              "      background-color: #434B5C;\n",
              "      box-shadow: 0px 1px 3px 1px rgba(0, 0, 0, 0.15);\n",
              "      filter: drop-shadow(0px 1px 2px rgba(0, 0, 0, 0.3));\n",
              "      fill: #FFFFFF;\n",
              "    }\n",
              "  </style>\n",
              "\n",
              "    <script>\n",
              "      const buttonEl =\n",
              "        document.querySelector('#df-9ab1fe7e-e0f4-4e10-8d66-0c62550b7d42 button.colab-df-convert');\n",
              "      buttonEl.style.display =\n",
              "        google.colab.kernel.accessAllowed ? 'block' : 'none';\n",
              "\n",
              "      async function convertToInteractive(key) {\n",
              "        const element = document.querySelector('#df-9ab1fe7e-e0f4-4e10-8d66-0c62550b7d42');\n",
              "        const dataTable =\n",
              "          await google.colab.kernel.invokeFunction('convertToInteractive',\n",
              "                                                    [key], {});\n",
              "        if (!dataTable) return;\n",
              "\n",
              "        const docLinkHtml = 'Like what you see? Visit the ' +\n",
              "          '<a target=\"_blank\" href=https://colab.research.google.com/notebooks/data_table.ipynb>data table notebook</a>'\n",
              "          + ' to learn more about interactive tables.';\n",
              "        element.innerHTML = '';\n",
              "        dataTable['output_type'] = 'display_data';\n",
              "        await google.colab.output.renderOutput(dataTable, element);\n",
              "        const docLink = document.createElement('div');\n",
              "        docLink.innerHTML = docLinkHtml;\n",
              "        element.appendChild(docLink);\n",
              "      }\n",
              "    </script>\n",
              "  </div>\n",
              "\n",
              "\n",
              "<div id=\"df-d1bc2761-32dd-4d9e-894c-a5fa4d6920c7\">\n",
              "  <button class=\"colab-df-quickchart\" onclick=\"quickchart('df-d1bc2761-32dd-4d9e-894c-a5fa4d6920c7')\"\n",
              "            title=\"Suggest charts\"\n",
              "            style=\"display:none;\">\n",
              "\n",
              "<svg xmlns=\"http://www.w3.org/2000/svg\" height=\"24px\"viewBox=\"0 0 24 24\"\n",
              "     width=\"24px\">\n",
              "    <g>\n",
              "        <path d=\"M19 3H5c-1.1 0-2 .9-2 2v14c0 1.1.9 2 2 2h14c1.1 0 2-.9 2-2V5c0-1.1-.9-2-2-2zM9 17H7v-7h2v7zm4 0h-2V7h2v10zm4 0h-2v-4h2v4z\"/>\n",
              "    </g>\n",
              "</svg>\n",
              "  </button>\n",
              "\n",
              "<style>\n",
              "  .colab-df-quickchart {\n",
              "      --bg-color: #E8F0FE;\n",
              "      --fill-color: #1967D2;\n",
              "      --hover-bg-color: #E2EBFA;\n",
              "      --hover-fill-color: #174EA6;\n",
              "      --disabled-fill-color: #AAA;\n",
              "      --disabled-bg-color: #DDD;\n",
              "  }\n",
              "\n",
              "  [theme=dark] .colab-df-quickchart {\n",
              "      --bg-color: #3B4455;\n",
              "      --fill-color: #D2E3FC;\n",
              "      --hover-bg-color: #434B5C;\n",
              "      --hover-fill-color: #FFFFFF;\n",
              "      --disabled-bg-color: #3B4455;\n",
              "      --disabled-fill-color: #666;\n",
              "  }\n",
              "\n",
              "  .colab-df-quickchart {\n",
              "    background-color: var(--bg-color);\n",
              "    border: none;\n",
              "    border-radius: 50%;\n",
              "    cursor: pointer;\n",
              "    display: none;\n",
              "    fill: var(--fill-color);\n",
              "    height: 32px;\n",
              "    padding: 0;\n",
              "    width: 32px;\n",
              "  }\n",
              "\n",
              "  .colab-df-quickchart:hover {\n",
              "    background-color: var(--hover-bg-color);\n",
              "    box-shadow: 0 1px 2px rgba(60, 64, 67, 0.3), 0 1px 3px 1px rgba(60, 64, 67, 0.15);\n",
              "    fill: var(--button-hover-fill-color);\n",
              "  }\n",
              "\n",
              "  .colab-df-quickchart-complete:disabled,\n",
              "  .colab-df-quickchart-complete:disabled:hover {\n",
              "    background-color: var(--disabled-bg-color);\n",
              "    fill: var(--disabled-fill-color);\n",
              "    box-shadow: none;\n",
              "  }\n",
              "\n",
              "  .colab-df-spinner {\n",
              "    border: 2px solid var(--fill-color);\n",
              "    border-color: transparent;\n",
              "    border-bottom-color: var(--fill-color);\n",
              "    animation:\n",
              "      spin 1s steps(1) infinite;\n",
              "  }\n",
              "\n",
              "  @keyframes spin {\n",
              "    0% {\n",
              "      border-color: transparent;\n",
              "      border-bottom-color: var(--fill-color);\n",
              "      border-left-color: var(--fill-color);\n",
              "    }\n",
              "    20% {\n",
              "      border-color: transparent;\n",
              "      border-left-color: var(--fill-color);\n",
              "      border-top-color: var(--fill-color);\n",
              "    }\n",
              "    30% {\n",
              "      border-color: transparent;\n",
              "      border-left-color: var(--fill-color);\n",
              "      border-top-color: var(--fill-color);\n",
              "      border-right-color: var(--fill-color);\n",
              "    }\n",
              "    40% {\n",
              "      border-color: transparent;\n",
              "      border-right-color: var(--fill-color);\n",
              "      border-top-color: var(--fill-color);\n",
              "    }\n",
              "    60% {\n",
              "      border-color: transparent;\n",
              "      border-right-color: var(--fill-color);\n",
              "    }\n",
              "    80% {\n",
              "      border-color: transparent;\n",
              "      border-right-color: var(--fill-color);\n",
              "      border-bottom-color: var(--fill-color);\n",
              "    }\n",
              "    90% {\n",
              "      border-color: transparent;\n",
              "      border-bottom-color: var(--fill-color);\n",
              "    }\n",
              "  }\n",
              "</style>\n",
              "\n",
              "  <script>\n",
              "    async function quickchart(key) {\n",
              "      const quickchartButtonEl =\n",
              "        document.querySelector('#' + key + ' button');\n",
              "      quickchartButtonEl.disabled = true;  // To prevent multiple clicks.\n",
              "      quickchartButtonEl.classList.add('colab-df-spinner');\n",
              "      try {\n",
              "        const charts = await google.colab.kernel.invokeFunction(\n",
              "            'suggestCharts', [key], {});\n",
              "      } catch (error) {\n",
              "        console.error('Error during call to suggestCharts:', error);\n",
              "      }\n",
              "      quickchartButtonEl.classList.remove('colab-df-spinner');\n",
              "      quickchartButtonEl.classList.add('colab-df-quickchart-complete');\n",
              "    }\n",
              "    (() => {\n",
              "      let quickchartButtonEl =\n",
              "        document.querySelector('#df-d1bc2761-32dd-4d9e-894c-a5fa4d6920c7 button');\n",
              "      quickchartButtonEl.style.display =\n",
              "        google.colab.kernel.accessAllowed ? 'block' : 'none';\n",
              "    })();\n",
              "  </script>\n",
              "</div>\n",
              "\n",
              "    </div>\n",
              "  </div>\n"
            ],
            "application/vnd.google.colaboratory.intrinsic+json": {
              "type": "dataframe",
              "variable_name": "train_df",
              "summary": "{\n  \"name\": \"train_df\",\n  \"rows\": 5741,\n  \"fields\": [\n    {\n      \"column\": \"text\",\n      \"properties\": {\n        \"dtype\": \"string\",\n        \"num_unique_values\": 5738,\n        \"samples\": [\n          \"with all of the glowing reviews of this dress i so badly wanted to adore this very special cocktail dress it fit nicely the quality was great but there is a decorative line of hook and eyes down the front which come undone with the slightest movement i wore the dress out one time and was paranoid the entire time kept glancing down to make sure i had not come undressed i suppose i could have gotten out the needlenose and crimped them all shut but decided to take it back i did not see tha\",\n          \"i bought this in size xl and it ran small along the waist bottom hemline i am pearshaped so it is an awkward fit i will wear it tucked in or belted they used a lot of material in the sleeves through the top portion i wish they had not made it such a narrow cut along the bottom the sleeves are very pretty the embroidery they used for the cutouts is a little rough scratchy since i got it on sale like the color i am keeping it i recommend trying this on if you can\",\n          \"i love this feminine blouse and the gorgeous colors on it is a fresh shape that is truly flattering i like that it comes in specific sizes so the proportions seem accurate i bought the in peach all the colors are very pretty i am a usual medium and am f so the regular brafriendliness is essential this is a new fuller shape for me i am on a quest at this time of year for clothing that feels comfortable in the beginning heat of summer and this is a lovely choice you could pair it w\"\n        ],\n        \"semantic_type\": \"\",\n        \"description\": \"\"\n      }\n    },\n    {\n      \"column\": \"rating\",\n      \"properties\": {\n        \"dtype\": \"number\",\n        \"std\": 1,\n        \"min\": 1,\n        \"max\": 5,\n        \"num_unique_values\": 5,\n        \"samples\": [\n          3,\n          1,\n          4\n        ],\n        \"semantic_type\": \"\",\n        \"description\": \"\"\n      }\n    },\n    {\n      \"column\": \"recommended\",\n      \"properties\": {\n        \"dtype\": \"number\",\n        \"std\": 0,\n        \"min\": 0,\n        \"max\": 1,\n        \"num_unique_values\": 2,\n        \"samples\": [\n          1,\n          0\n        ],\n        \"semantic_type\": \"\",\n        \"description\": \"\"\n      }\n    },\n    {\n      \"column\": \"upvotes\",\n      \"properties\": {\n        \"dtype\": \"number\",\n        \"std\": 6,\n        \"min\": 0,\n        \"max\": 108,\n        \"num_unique_values\": 57,\n        \"samples\": [\n          17,\n          8\n        ],\n        \"semantic_type\": \"\",\n        \"description\": \"\"\n      }\n    }\n  ]\n}"
            }
          },
          "metadata": {},
          "execution_count": 22
        }
      ]
    },
    {
      "cell_type": "markdown",
      "source": [
        "### Features and Lables\n",
        "We have 2 features and 2 labels in our case. We are going to do some kind of preprocessing for these features and labels. First let's store all the values of features and labels in numpy arrays."
      ],
      "metadata": {
        "id": "u4Ezx8Vwdw_1"
      }
    },
    {
      "cell_type": "code",
      "source": [
        "# Training\n",
        "train_text = train_df.text.values\n",
        "train_up_votes = train_df.upvotes.values\n",
        "train_ratings = train_df.rating.values\n",
        "train_recommends = train_df.recommended.values\n",
        "\n",
        "# Validation\n",
        "val_text = val_df.text.values\n",
        "val_up_votes = val_df.upvotes.values\n",
        "val_ratings = val_df.rating.values\n",
        "val_recommends = val_df.recommended.values\n",
        "\n",
        "# Testing\n",
        "test_text = test_df.text.values\n",
        "test_up_votes = test_df.upvotes.values\n",
        "test_ratings = test_df.rating.values\n",
        "test_recommends = test_df.recommended.values"
      ],
      "metadata": {
        "id": "plZOR2LDUU7D"
      },
      "execution_count": null,
      "outputs": []
    },
    {
      "cell_type": "markdown",
      "source": [
        "### Labels processing\n",
        "\n",
        "We are going to start by processing the labels. The labels are proccessed differently because we are doing both a binary classification and multi-label classification so they will have different activation functions.\n",
        "\n",
        "### Ratings\n",
        "\n",
        "Ratings start from `1` to `5` we want them to start from `0` to `4` and then `one_hot_encode` them. So that if the class label is `1` then the following will be the `one_hot_vector` for this label:\n",
        "\n",
        "```\n",
        "[0., 1., 0., 0., 0.]\n",
        "```"
      ],
      "metadata": {
        "id": "r9CKc0SHfIyH"
      }
    },
    {
      "cell_type": "code",
      "source": [
        "train_ratings =  np.apply_along_axis(lambda x: x-1, 0, train_ratings)\n",
        "val_ratings =  np.apply_along_axis(lambda x: x-1, 0, val_ratings)\n",
        "test_ratings =  np.apply_along_axis(lambda x: x-1, 0, test_ratings)"
      ],
      "metadata": {
        "id": "FKoC841hUU3v"
      },
      "execution_count": null,
      "outputs": []
    },
    {
      "cell_type": "code",
      "source": [
        "one_hot_encode = lambda x: np.eye(5)[x]\n",
        "one_hot_encode(1)"
      ],
      "metadata": {
        "colab": {
          "base_uri": "https://localhost:8080/"
        },
        "id": "gtRXyt2JgiRQ",
        "outputId": "6818b410-6c62-4230-de07-dc17c8e90b6a"
      },
      "execution_count": null,
      "outputs": [
        {
          "output_type": "execute_result",
          "data": {
            "text/plain": [
              "array([0., 1., 0., 0., 0.])"
            ]
          },
          "metadata": {},
          "execution_count": 25
        }
      ]
    },
    {
      "cell_type": "code",
      "source": [
        "train_ratings =  np.apply_along_axis(one_hot_encode, 0, train_ratings)\n",
        "val_ratings =  np.apply_along_axis(one_hot_encode, 0, val_ratings)\n",
        "test_ratings =  np.apply_along_axis(one_hot_encode, 0, test_ratings)"
      ],
      "metadata": {
        "id": "_JFonbNih82U"
      },
      "execution_count": null,
      "outputs": []
    },
    {
      "cell_type": "code",
      "source": [
        "train_ratings[:5]"
      ],
      "metadata": {
        "colab": {
          "base_uri": "https://localhost:8080/"
        },
        "id": "a73qbEbliHK9",
        "outputId": "453ca75a-0b83-44dd-f8a4-df41c56b122b"
      },
      "execution_count": null,
      "outputs": [
        {
          "output_type": "execute_result",
          "data": {
            "text/plain": [
              "array([[0., 1., 0., 0., 0.],\n",
              "       [0., 0., 1., 0., 0.],\n",
              "       [0., 0., 1., 0., 0.],\n",
              "       [0., 0., 0., 1., 0.],\n",
              "       [0., 1., 0., 0., 0.]])"
            ]
          },
          "metadata": {},
          "execution_count": 27
        }
      ]
    },
    {
      "cell_type": "markdown",
      "source": [
        "### Recommends\n",
        "\n",
        "Recoments labels are fine we don't need to do anything on them. We can check the few examples in the train set just to see if they are numbers `0` or `1`."
      ],
      "metadata": {
        "id": "OqbSKS3tiLwL"
      }
    },
    {
      "cell_type": "code",
      "source": [
        "train_recommends[:5]"
      ],
      "metadata": {
        "colab": {
          "base_uri": "https://localhost:8080/"
        },
        "id": "XqejWJPAiJIA",
        "outputId": "ecba3b95-03aa-4997-c239-db903a5395a7"
      },
      "execution_count": null,
      "outputs": [
        {
          "output_type": "execute_result",
          "data": {
            "text/plain": [
              "array([0, 0, 0, 1, 0])"
            ]
          },
          "metadata": {},
          "execution_count": 28
        }
      ]
    },
    {
      "cell_type": "markdown",
      "source": [
        "### Text\n",
        "Computers does not process text directly, we need to change the text to numbers by building a vocabulary which is a word to index mapping. After that we then going to pad the sequences of numbers or trancate the sequences that are longer so that by the end all the sequences should have the same size."
      ],
      "metadata": {
        "id": "s9tPKFcmirL9"
      }
    },
    {
      "cell_type": "code",
      "source": [
        "counter = Counter()\n",
        "for sent in train_text:\n",
        "  counter.update(word_tokenize(sent))"
      ],
      "metadata": {
        "id": "hxCH7eqmiqru"
      },
      "execution_count": null,
      "outputs": []
    },
    {
      "cell_type": "markdown",
      "source": [
        "Checking the most common words"
      ],
      "metadata": {
        "id": "yeTdf68ZjnWD"
      }
    },
    {
      "cell_type": "code",
      "source": [
        "counter.most_common(10)"
      ],
      "metadata": {
        "colab": {
          "base_uri": "https://localhost:8080/"
        },
        "id": "WEem60asiqnM",
        "outputId": "da62d18f-81fd-41e1-8c23-83ec09b5742e"
      },
      "execution_count": null,
      "outputs": [
        {
          "output_type": "execute_result",
          "data": {
            "text/plain": [
              "[('the', 20449),\n",
              " ('i', 16818),\n",
              " ('it', 12716),\n",
              " ('and', 11842),\n",
              " ('a', 10290),\n",
              " ('is', 9294),\n",
              " ('this', 6661),\n",
              " ('to', 6274),\n",
              " ('in', 5223),\n",
              " ('not', 5220)]"
            ]
          },
          "metadata": {},
          "execution_count": 30
        }
      ]
    },
    {
      "cell_type": "markdown",
      "source": [
        "### The vocabulary size\n",
        "We are going to use the train words to count how many unique words are there in the `counter` objects so that we can adapt to this."
      ],
      "metadata": {
        "id": "WzBAsjXvjv1K"
      }
    },
    {
      "cell_type": "code",
      "source": [
        "vocab_size = len(counter)\n",
        "vocab_size"
      ],
      "metadata": {
        "colab": {
          "base_uri": "https://localhost:8080/"
        },
        "id": "sw2pBhnpiqkA",
        "outputId": "8e9710c4-2544-45d1-e7e5-32e26358c8f1"
      },
      "execution_count": null,
      "outputs": [
        {
          "output_type": "execute_result",
          "data": {
            "text/plain": [
              "9173"
            ]
          },
          "metadata": {},
          "execution_count": 31
        }
      ]
    },
    {
      "cell_type": "markdown",
      "source": [
        "We have `~9K` unique words in our dictionary. In the following code cell we are going to create a tokenizer based on the vocab size that we obtained in the train data and make it adapt on our train text."
      ],
      "metadata": {
        "id": "_PXPxQ0qkQkI"
      }
    },
    {
      "cell_type": "code",
      "source": [
        "tokenizer = keras.preprocessing.text.Tokenizer(\n",
        "    num_words = vocab_size,\n",
        ")\n",
        "tokenizer.fit_on_texts(train_text)"
      ],
      "metadata": {
        "id": "Xzop57apjugF"
      },
      "execution_count": null,
      "outputs": []
    },
    {
      "cell_type": "code",
      "source": [
        "len(tokenizer.word_index)"
      ],
      "metadata": {
        "colab": {
          "base_uri": "https://localhost:8080/"
        },
        "id": "_tDMtYb91i7d",
        "outputId": "ed4b51e7-dcf4-40e1-b472-323ae6df711c"
      },
      "execution_count": null,
      "outputs": [
        {
          "output_type": "execute_result",
          "data": {
            "text/plain": [
              "9168"
            ]
          },
          "metadata": {},
          "execution_count": 33
        }
      ]
    },
    {
      "cell_type": "code",
      "source": [
        "word_indices = tokenizer.word_index\n",
        "word_indices_reversed = dict([(v, k) for (k, v) in word_indices.items()])"
      ],
      "metadata": {
        "id": "1NU-rnaYjucs"
      },
      "execution_count": null,
      "outputs": []
    },
    {
      "cell_type": "markdown",
      "source": [
        "### Helper functions\n",
        "1. `sequence_to_text`\n",
        "\n",
        "This helper function will convert a sequence of integers to a sequence of text.\n",
        "\n",
        "2. `text_to_sequence`\n",
        "\n",
        "This helper function will convert the sequence of text to sequence of integers."
      ],
      "metadata": {
        "id": "mx8023iikogR"
      }
    },
    {
      "cell_type": "code",
      "source": [
        "def sequence_to_text(sequences):\n",
        "    return \" \".join(word_indices_reversed[i] for i in sequences)\n",
        "\n",
        "def text_to_sequence(sent):\n",
        "  words = word_tokenize(sent.lower())\n",
        "  sequences = []\n",
        "  for word in words:\n",
        "    try:\n",
        "      sequences.append(word_indices[word])\n",
        "    except Exception:\n",
        "      sequences.append(0)\n",
        "  return sequences"
      ],
      "metadata": {
        "id": "bGxVwbjqjuZQ"
      },
      "execution_count": null,
      "outputs": []
    },
    {
      "cell_type": "markdown",
      "source": [
        "### Creating sequences\n",
        "\n",
        "We are then going to create sequences for all our 3 sets for the text in the following code cell."
      ],
      "metadata": {
        "id": "AXeZW746k72u"
      }
    },
    {
      "cell_type": "code",
      "source": [
        "train_sequence_tokens = tokenizer.texts_to_sequences(train_text)\n",
        "test_sequence_tokens = tokenizer.texts_to_sequences(test_text)\n",
        "val_sequence_tokens = tokenizer.texts_to_sequences(val_text)"
      ],
      "metadata": {
        "id": "5MjtqFAljuVy"
      },
      "execution_count": null,
      "outputs": []
    },
    {
      "cell_type": "code",
      "source": [
        "sequence_to_text(train_sequence_tokens[1])"
      ],
      "metadata": {
        "colab": {
          "base_uri": "https://localhost:8080/",
          "height": 53
        },
        "id": "cwr7aklclzqk",
        "outputId": "8def4877-83ce-4ad3-9679-25c49619083b"
      },
      "execution_count": null,
      "outputs": [
        {
          "output_type": "execute_result",
          "data": {
            "text/plain": [
              "'this dress was pretty but had a weird fit the waist droops down in the middle instead of going straight across which i found unflattering i ended up returning it'"
            ],
            "application/vnd.google.colaboratory.intrinsic+json": {
              "type": "string"
            }
          },
          "metadata": {},
          "execution_count": 37
        }
      ]
    },
    {
      "cell_type": "code",
      "source": [
        "sequence_to_text(test_sequence_tokens[1])"
      ],
      "metadata": {
        "colab": {
          "base_uri": "https://localhost:8080/",
          "height": 70
        },
        "id": "dmKuJ_Z0lzld",
        "outputId": "6b5a9004-1b89-49db-867c-7e07ba002766"
      },
      "execution_count": null,
      "outputs": [
        {
          "output_type": "execute_result",
          "data": {
            "text/plain": [
              "'i really want to love this shirt but the small is just way too big on me for reference i am a d which is why i did not want to size down much more than a small and and i am drowning in this i am going to try it with different bottoms and ultimately will keep it because i do love the quality just size down a couple of sizes'"
            ],
            "application/vnd.google.colaboratory.intrinsic+json": {
              "type": "string"
            }
          },
          "metadata": {},
          "execution_count": 38
        }
      ]
    },
    {
      "cell_type": "code",
      "source": [
        "sequence_to_text(val_sequence_tokens[1])"
      ],
      "metadata": {
        "colab": {
          "base_uri": "https://localhost:8080/",
          "height": 53
        },
        "id": "tZjb71Hslzh6",
        "outputId": "a7d4a4d5-80b9-4492-d6df-c54f5e2ec756"
      },
      "execution_count": null,
      "outputs": [
        {
          "output_type": "execute_result",
          "data": {
            "text/plain": [
              "'this sweater is big and box it looks very similar on as it does on the model as other reviewers have mentioned the embroidery on the shoulders is a bit itchy'"
            ],
            "application/vnd.google.colaboratory.intrinsic+json": {
              "type": "string"
            }
          },
          "metadata": {},
          "execution_count": 39
        }
      ]
    },
    {
      "cell_type": "markdown",
      "source": [
        "Having a closer look on these sequences they have different lenghts of which they must be padded or truncated so that they will have the same sequence length.This is done in the following code cell."
      ],
      "metadata": {
        "id": "RKslPT49lQXO"
      }
    },
    {
      "cell_type": "code",
      "source": [
        "max_words = 100\n",
        "train_tokens_sequence_padded = keras.preprocessing.sequence.pad_sequences(\n",
        "                                       train_sequence_tokens,\n",
        "                                       maxlen=max_words,\n",
        "                                       padding=\"post\",\n",
        "                                       truncating=\"post\"\n",
        "                                       )\n",
        "test_tokens_sequence_padded = keras.preprocessing.sequence.pad_sequences(\n",
        "                                       test_sequence_tokens,\n",
        "                                       maxlen=max_words,\n",
        "                                       padding=\"post\",\n",
        "                                       truncating=\"post\"\n",
        "                                       )\n",
        "val_tokens_sequence_padded = keras.preprocessing.sequence.pad_sequences(\n",
        "                                       val_sequence_tokens,\n",
        "                                       maxlen=max_words,\n",
        "                                       padding=\"post\",\n",
        "                                       truncating=\"post\"\n",
        "                                       )"
      ],
      "metadata": {
        "id": "l5Gic_R5juSQ"
      },
      "execution_count": null,
      "outputs": []
    },
    {
      "cell_type": "markdown",
      "source": [
        "### Upvotes\n",
        "\n",
        "Upvotes is a single number so we need to process them as inputs by doing the following.\n",
        "\n",
        "1. first of all we need to expand the dimensions using numpy\n",
        "2. we need to scale our upvotes features using `MinMaxScaler` from sklearn library"
      ],
      "metadata": {
        "id": "74g79nNGmqHp"
      }
    },
    {
      "cell_type": "code",
      "source": [
        "train_up_votes = np.expand_dims(train_up_votes, 1)\n",
        "test_up_votes = np.expand_dims(test_up_votes, 1)\n",
        "val_up_votes = np.expand_dims(val_up_votes, 1)"
      ],
      "metadata": {
        "id": "KHneT2zNjuO-"
      },
      "execution_count": null,
      "outputs": []
    },
    {
      "cell_type": "code",
      "source": [
        "train_up_votes[:2]"
      ],
      "metadata": {
        "colab": {
          "base_uri": "https://localhost:8080/"
        },
        "id": "51BxCxqCiqg5",
        "outputId": "9204728a-23da-4c5f-c798-6acf1b799950"
      },
      "execution_count": null,
      "outputs": [
        {
          "output_type": "execute_result",
          "data": {
            "text/plain": [
              "array([[17],\n",
              "       [ 4]])"
            ]
          },
          "metadata": {},
          "execution_count": 42
        }
      ]
    },
    {
      "cell_type": "code",
      "source": [
        "scaler = MinMaxScaler()\n",
        "scaler.fit(train_up_votes)"
      ],
      "metadata": {
        "colab": {
          "base_uri": "https://localhost:8080/",
          "height": 74
        },
        "id": "Hn4KSV5kiqd5",
        "outputId": "d2b48a61-123f-41a9-bcfa-7814cb010e49"
      },
      "execution_count": null,
      "outputs": [
        {
          "output_type": "execute_result",
          "data": {
            "text/plain": [
              "MinMaxScaler()"
            ],
            "text/html": [
              "<style>#sk-container-id-1 {color: black;background-color: white;}#sk-container-id-1 pre{padding: 0;}#sk-container-id-1 div.sk-toggleable {background-color: white;}#sk-container-id-1 label.sk-toggleable__label {cursor: pointer;display: block;width: 100%;margin-bottom: 0;padding: 0.3em;box-sizing: border-box;text-align: center;}#sk-container-id-1 label.sk-toggleable__label-arrow:before {content: \"▸\";float: left;margin-right: 0.25em;color: #696969;}#sk-container-id-1 label.sk-toggleable__label-arrow:hover:before {color: black;}#sk-container-id-1 div.sk-estimator:hover label.sk-toggleable__label-arrow:before {color: black;}#sk-container-id-1 div.sk-toggleable__content {max-height: 0;max-width: 0;overflow: hidden;text-align: left;background-color: #f0f8ff;}#sk-container-id-1 div.sk-toggleable__content pre {margin: 0.2em;color: black;border-radius: 0.25em;background-color: #f0f8ff;}#sk-container-id-1 input.sk-toggleable__control:checked~div.sk-toggleable__content {max-height: 200px;max-width: 100%;overflow: auto;}#sk-container-id-1 input.sk-toggleable__control:checked~label.sk-toggleable__label-arrow:before {content: \"▾\";}#sk-container-id-1 div.sk-estimator input.sk-toggleable__control:checked~label.sk-toggleable__label {background-color: #d4ebff;}#sk-container-id-1 div.sk-label input.sk-toggleable__control:checked~label.sk-toggleable__label {background-color: #d4ebff;}#sk-container-id-1 input.sk-hidden--visually {border: 0;clip: rect(1px 1px 1px 1px);clip: rect(1px, 1px, 1px, 1px);height: 1px;margin: -1px;overflow: hidden;padding: 0;position: absolute;width: 1px;}#sk-container-id-1 div.sk-estimator {font-family: monospace;background-color: #f0f8ff;border: 1px dotted black;border-radius: 0.25em;box-sizing: border-box;margin-bottom: 0.5em;}#sk-container-id-1 div.sk-estimator:hover {background-color: #d4ebff;}#sk-container-id-1 div.sk-parallel-item::after {content: \"\";width: 100%;border-bottom: 1px solid gray;flex-grow: 1;}#sk-container-id-1 div.sk-label:hover label.sk-toggleable__label {background-color: #d4ebff;}#sk-container-id-1 div.sk-serial::before {content: \"\";position: absolute;border-left: 1px solid gray;box-sizing: border-box;top: 0;bottom: 0;left: 50%;z-index: 0;}#sk-container-id-1 div.sk-serial {display: flex;flex-direction: column;align-items: center;background-color: white;padding-right: 0.2em;padding-left: 0.2em;position: relative;}#sk-container-id-1 div.sk-item {position: relative;z-index: 1;}#sk-container-id-1 div.sk-parallel {display: flex;align-items: stretch;justify-content: center;background-color: white;position: relative;}#sk-container-id-1 div.sk-item::before, #sk-container-id-1 div.sk-parallel-item::before {content: \"\";position: absolute;border-left: 1px solid gray;box-sizing: border-box;top: 0;bottom: 0;left: 50%;z-index: -1;}#sk-container-id-1 div.sk-parallel-item {display: flex;flex-direction: column;z-index: 1;position: relative;background-color: white;}#sk-container-id-1 div.sk-parallel-item:first-child::after {align-self: flex-end;width: 50%;}#sk-container-id-1 div.sk-parallel-item:last-child::after {align-self: flex-start;width: 50%;}#sk-container-id-1 div.sk-parallel-item:only-child::after {width: 0;}#sk-container-id-1 div.sk-dashed-wrapped {border: 1px dashed gray;margin: 0 0.4em 0.5em 0.4em;box-sizing: border-box;padding-bottom: 0.4em;background-color: white;}#sk-container-id-1 div.sk-label label {font-family: monospace;font-weight: bold;display: inline-block;line-height: 1.2em;}#sk-container-id-1 div.sk-label-container {text-align: center;}#sk-container-id-1 div.sk-container {/* jupyter's `normalize.less` sets `[hidden] { display: none; }` but bootstrap.min.css set `[hidden] { display: none !important; }` so we also need the `!important` here to be able to override the default hidden behavior on the sphinx rendered scikit-learn.org. See: https://github.com/scikit-learn/scikit-learn/issues/21755 */display: inline-block !important;position: relative;}#sk-container-id-1 div.sk-text-repr-fallback {display: none;}</style><div id=\"sk-container-id-1\" class=\"sk-top-container\"><div class=\"sk-text-repr-fallback\"><pre>MinMaxScaler()</pre><b>In a Jupyter environment, please rerun this cell to show the HTML representation or trust the notebook. <br />On GitHub, the HTML representation is unable to render, please try loading this page with nbviewer.org.</b></div><div class=\"sk-container\" hidden><div class=\"sk-item\"><div class=\"sk-estimator sk-toggleable\"><input class=\"sk-toggleable__control sk-hidden--visually\" id=\"sk-estimator-id-1\" type=\"checkbox\" checked><label for=\"sk-estimator-id-1\" class=\"sk-toggleable__label sk-toggleable__label-arrow\">MinMaxScaler</label><div class=\"sk-toggleable__content\"><pre>MinMaxScaler()</pre></div></div></div></div></div>"
            ]
          },
          "metadata": {},
          "execution_count": 43
        }
      ]
    },
    {
      "cell_type": "code",
      "source": [
        "train_up_votes_scaled = scaler.transform(train_up_votes)\n",
        "test_up_votes_scaled = scaler.transform(test_up_votes)\n",
        "val_up_votes_scaled = scaler.transform(val_up_votes)"
      ],
      "metadata": {
        "id": "B0SnEXxFiqaY"
      },
      "execution_count": null,
      "outputs": []
    },
    {
      "cell_type": "code",
      "source": [
        "val_up_votes_scaled[:5]"
      ],
      "metadata": {
        "id": "kcomDriCiqXJ",
        "colab": {
          "base_uri": "https://localhost:8080/"
        },
        "outputId": "5dbfd2aa-0571-44b9-9f48-64b38e5ab571"
      },
      "execution_count": null,
      "outputs": [
        {
          "output_type": "execute_result",
          "data": {
            "text/plain": [
              "array([[0.        ],\n",
              "       [0.00925926],\n",
              "       [0.        ],\n",
              "       [0.        ],\n",
              "       [0.        ]])"
            ]
          },
          "metadata": {},
          "execution_count": 45
        }
      ]
    },
    {
      "cell_type": "markdown",
      "source": [
        "### Pretrained word Embeddings\n",
        "We are going to load the `Glove.6B.100d` word vectors that was uploaded in the google drive as a `txt` file. These word embeddings vectors was trained on `~6B` words and are `100` dimension."
      ],
      "metadata": {
        "id": "dv8ZZesooul-"
      }
    },
    {
      "cell_type": "code",
      "source": [
        "embedding_path = \"/content/drive/MyDrive/NLP Data/glove.6B/glove.6B.100d.txt\"\n",
        "assert os.path.exists(embedding_path) == True, \"The path does not exists\""
      ],
      "metadata": {
        "id": "hDcfTFu3iqT_"
      },
      "execution_count": null,
      "outputs": []
    },
    {
      "cell_type": "code",
      "source": [
        "embeddings_dictionary = dict()\n",
        "with open(embedding_path, encoding='utf8') as glove_file:\n",
        "  for line in glove_file:\n",
        "    records = line.split()\n",
        "    word  = records[0]\n",
        "    vectors = np.asarray(records[1:], dtype='float32')\n",
        "    embeddings_dictionary[word] = vectors"
      ],
      "metadata": {
        "id": "fZFHH4y5iqQ3"
      },
      "execution_count": null,
      "outputs": []
    },
    {
      "cell_type": "markdown",
      "source": [
        "Next we are going to create the embedding matrix that suits our data."
      ],
      "metadata": {
        "id": "GXWtPdEupJ_m"
      }
    },
    {
      "cell_type": "code",
      "source": [
        "embedding_matrix = np.zeros((vocab_size, 100))\n",
        "for word, index in tokenizer.word_index.items():\n",
        "  vector = embeddings_dictionary.get(word)\n",
        "  if vector is not None:\n",
        "    try:\n",
        "      embedding_matrix[index] = vector\n",
        "    except Exception:\n",
        "      pass"
      ],
      "metadata": {
        "id": "a01io5sZiqNa"
      },
      "execution_count": null,
      "outputs": []
    },
    {
      "cell_type": "markdown",
      "source": [
        "### Model\n",
        "\n",
        "We are going to create a model using the `Sub Class API` from keras.\n"
      ],
      "metadata": {
        "id": "EYAJS_2OpWaf"
      }
    },
    {
      "cell_type": "code",
      "source": [
        "class APR(keras.Model):\n",
        "  def __init__(self):\n",
        "    super(APR, self).__init__()\n",
        "    # layers for bidirectional\n",
        "    forward_layer = keras.layers.GRU(\n",
        "      128, return_sequences=True, dropout=.5,\n",
        "      name=\"gru_forward_layer\"\n",
        "    )\n",
        "    backward_layer = keras.layers.LSTM(\n",
        "      128, return_sequences=True, dropout=.5,\n",
        "      go_backwards=True, name=\"lstm_backward_layer\"\n",
        "    )\n",
        "    self.embedding = keras.layers.Embedding(\n",
        "          vocab_size, 100,\n",
        "          weights=[embedding_matrix],\n",
        "          trainable=True,\n",
        "          name = \"embedding_layer\"\n",
        "    )\n",
        "    self.bidirectional = keras.layers.Bidirectional(\n",
        "        forward_layer,\n",
        "        backward_layer = backward_layer,\n",
        "        name= \"bidirectional_layer\"\n",
        "    )\n",
        "    self.gru_layer = keras.layers.GRU(\n",
        "              512, return_sequences=True,\n",
        "              dropout=.5,\n",
        "              name= \"gru_layer\"\n",
        "      )\n",
        "    self.lstm_layer = keras.layers.LSTM(\n",
        "              512, return_sequences=True,\n",
        "              dropout=.5,\n",
        "              name=\"lstm_layer\"\n",
        "    )\n",
        "    self.fc_1 = keras.layers.Dense(512, activation=\"relu\", name=\"upvote_fc1\")\n",
        "    self.pooling_layer = keras.layers.GlobalAveragePooling1D(\n",
        "          name=\"average_pooling_layer\"\n",
        "    )\n",
        "    self.concatenate_layer = keras.layers.Concatenate(name=\"concatenate_layer_layer\")\n",
        "\n",
        "    self.dense_1 = keras.layers.Dense(64, activation='relu', name=\"dense_1\")\n",
        "    self.dropout_1 = keras.layers.Dropout(rate= .5, name=\"dropout_layer_0\")\n",
        "    self.dense_2 = keras.layers.Dense(512, activation='relu', name=\"dense_2\")\n",
        "    self.dropout_2 =  keras.layers.Dropout(rate= .5, name=\"dropout_layer_1\")\n",
        "    self.dense_3 = keras.layers.Dense(128, activation='relu', name=\"dense_3\")\n",
        "    self.dropout_3 = keras.layers.Dropout(rate= .5, name=\"dropout_layer_2\")\n",
        "    self.rating_output = keras.layers.Dense(5, activation='softmax', name=\"rating_output\")\n",
        "    self.recommend_output = keras.layers.Dense(1, activation='sigmoid', name=\"recommend_output\")\n",
        "\n",
        "  def call(self, inputs):\n",
        "    text, upvote = inputs\n",
        "    # Leaning the text features\n",
        "    x_1 = self.embedding(text)\n",
        "    x_1 = self.bidirectional(x_1)\n",
        "    x_1 = self.gru_layer(x_1)\n",
        "    x_1 = self.lstm_layer(x_1)\n",
        "    x_1 = self.pooling_layer(x_1)\n",
        "\n",
        "    # Learning the upvotes\n",
        "    x_2 = self.fc_1(upvote)\n",
        "\n",
        "    # concatenation\n",
        "    x = self.concatenate_layer([x_1, x_2])\n",
        "\n",
        "    # leaning combinned features\n",
        "    x = self.dense_1(self.dropout_1(x))\n",
        "    x = self.dense_2(self.dropout_2(x))\n",
        "    x = self.dense_3(self.dropout_3(x))\n",
        "\n",
        "    # outputs\n",
        "    rating = self.rating_output(x)\n",
        "    recommend = self.recommend_output(x)\n",
        "    return rating, recommend"
      ],
      "metadata": {
        "id": "m5PuAg-_iqKR"
      },
      "execution_count": null,
      "outputs": []
    },
    {
      "cell_type": "code",
      "source": [
        "apr_model = APR()\n",
        "apr_model.build([(None, 100), (None, 1)])\n",
        "apr_model.summary()"
      ],
      "metadata": {
        "colab": {
          "base_uri": "https://localhost:8080/"
        },
        "id": "Z3ipwVxViqHO",
        "outputId": "349d36e1-5ef9-4c19-f16d-6b5882c8465f"
      },
      "execution_count": null,
      "outputs": [
        {
          "output_type": "stream",
          "name": "stdout",
          "text": [
            "Model: \"apr\"\n",
            "_________________________________________________________________\n",
            " Layer (type)                Output Shape              Param #   \n",
            "=================================================================\n",
            " embedding_layer (Embedding  multiple                  917300    \n",
            " )                                                               \n",
            "                                                                 \n",
            " bidirectional_layer (Bidir  multiple                  205568    \n",
            " ectional)                                                       \n",
            "                                                                 \n",
            " gru_layer (GRU)             multiple                  1182720   \n",
            "                                                                 \n",
            " lstm_layer (LSTM)           multiple                  2099200   \n",
            "                                                                 \n",
            " upvote_fc1 (Dense)          multiple                  1024      \n",
            "                                                                 \n",
            " average_pooling_layer (Glo  multiple                  0         \n",
            " balAveragePooling1D)                                            \n",
            "                                                                 \n",
            " concatenate_layer_layer (C  multiple                  0         \n",
            " oncatenate)                                                     \n",
            "                                                                 \n",
            " dense_1 (Dense)             multiple                  65600     \n",
            "                                                                 \n",
            " dropout_layer_0 (Dropout)   multiple                  0         \n",
            "                                                                 \n",
            " dense_2 (Dense)             multiple                  33280     \n",
            "                                                                 \n",
            " dropout_layer_1 (Dropout)   multiple                  0         \n",
            "                                                                 \n",
            " dense_3 (Dense)             multiple                  65664     \n",
            "                                                                 \n",
            " dropout_layer_2 (Dropout)   multiple                  0         \n",
            "                                                                 \n",
            " rating_output (Dense)       multiple                  645       \n",
            "                                                                 \n",
            " recommend_output (Dense)    multiple                  129       \n",
            "                                                                 \n",
            "=================================================================\n",
            "Total params: 4571130 (17.44 MB)\n",
            "Trainable params: 4571130 (17.44 MB)\n",
            "Non-trainable params: 0 (0.00 Byte)\n",
            "_________________________________________________________________\n"
          ]
        }
      ]
    },
    {
      "cell_type": "markdown",
      "source": [
        "### Combiling the model\n",
        "In the following code cell we are going to combile our model. Note that we have multiple labels which means we require 2 different activation functions. We are going to use the following loss functions:\n",
        "\n",
        "1. `recommend_output` - `BinaryCrossentropy`\n",
        "2. `rating_output` - `CategoricalCrossentropy`\n",
        "\n",
        "For the optimizer we are going to use the `Adam` with default paramaters.\n",
        "\n",
        "\n",
        "### Early Stopping\n",
        "Early Stopping is a regularization technique that improves classification accuracy by intentionally stopping the training when `validation` loss increases. Training is stopped as training a model for too many epochs sometimes causes `Overfitting`. In Early Stopping, the number of epochs becomes a tunable hyperparameter."
      ],
      "metadata": {
        "id": "_H7U-zxuxLZz"
      }
    },
    {
      "cell_type": "code",
      "source": [
        "recommend_output_early_stoping = keras.callbacks.EarlyStopping(\n",
        "    monitor='val_output_2_loss',\n",
        "    min_delta=0,\n",
        "    patience=5,\n",
        "    verbose=1,\n",
        "    mode='auto',\n",
        "    baseline=None,\n",
        "    restore_best_weights=False,\n",
        ")\n",
        "rating_output_early_stoping = keras.callbacks.EarlyStopping(\n",
        "    monitor='val_output_1_loss',\n",
        "    min_delta=0,\n",
        "    patience=5,\n",
        "    verbose=1,\n",
        "    mode='auto',\n",
        "    baseline=None,\n",
        "    restore_best_weights=False,\n",
        ")\n",
        "\n",
        "apr_model.compile(\n",
        "    loss = {\n",
        "        \"output_2\" : keras.losses.BinaryCrossentropy(from_logits=False),\n",
        "        \"output_1\" : keras.losses.CategoricalCrossentropy(from_logits=False)\n",
        "    },\n",
        "    metrics = ['accuracy'],\n",
        "    optimizer = keras.optimizers.Adam()\n",
        ")"
      ],
      "metadata": {
        "id": "5tWDc7RDiqAQ"
      },
      "execution_count": null,
      "outputs": []
    },
    {
      "cell_type": "markdown",
      "source": [
        "### Training the model\n",
        "\n",
        "In the following code cell we are going to train our model.\n"
      ],
      "metadata": {
        "id": "Fs9wL3nWip0q"
      }
    },
    {
      "cell_type": "code",
      "source": [
        "BATCH_SIZE = 128\n",
        "EPOCHS = 50\n",
        "\n",
        "history = apr_model.fit(\n",
        "    x = [train_tokens_sequence_padded, train_up_votes_scaled],\n",
        "    y = [train_ratings, train_recommends.astype('int32')],\n",
        "    epochs = EPOCHS,\n",
        "    verbose = 1,\n",
        "    shuffle=True,\n",
        "    batch_size= BATCH_SIZE,\n",
        "    validation_data=([val_tokens_sequence_padded, val_up_votes_scaled], [val_ratings, val_recommends.astype('int32')]),\n",
        "    validation_batch_size = BATCH_SIZE//2,\n",
        "    callbacks =[recommend_output_early_stoping, rating_output_early_stoping]\n",
        ")"
      ],
      "metadata": {
        "colab": {
          "base_uri": "https://localhost:8080/"
        },
        "id": "qq759qUJipxa",
        "outputId": "c6059ccf-2d03-48bf-aca8-7101a121b4a2"
      },
      "execution_count": null,
      "outputs": [
        {
          "output_type": "stream",
          "name": "stdout",
          "text": [
            "Epoch 1/50\n",
            "45/45 [==============================] - 24s 267ms/step - loss: 2.2151 - output_1_loss: 1.5269 - output_2_loss: 0.6881 - output_1_accuracy: 0.3379 - output_2_accuracy: 0.5307 - val_loss: 1.9817 - val_output_1_loss: 1.4029 - val_output_2_loss: 0.5788 - val_output_1_accuracy: 0.4167 - val_output_2_accuracy: 0.7465\n",
            "Epoch 2/50\n",
            "45/45 [==============================] - 9s 201ms/step - loss: 1.9942 - output_1_loss: 1.4137 - output_2_loss: 0.5805 - output_1_accuracy: 0.4208 - output_2_accuracy: 0.7161 - val_loss: 1.8565 - val_output_1_loss: 1.3452 - val_output_2_loss: 0.5114 - val_output_1_accuracy: 0.4419 - val_output_2_accuracy: 0.7693\n",
            "Epoch 3/50\n",
            "45/45 [==============================] - 8s 179ms/step - loss: 1.7856 - output_1_loss: 1.2985 - output_2_loss: 0.4871 - output_1_accuracy: 0.4597 - output_2_accuracy: 0.7750 - val_loss: 1.6233 - val_output_1_loss: 1.2216 - val_output_2_loss: 0.4017 - val_output_1_accuracy: 0.4712 - val_output_2_accuracy: 0.8245\n",
            "Epoch 4/50\n",
            "45/45 [==============================] - 8s 181ms/step - loss: 1.6298 - output_1_loss: 1.2127 - output_2_loss: 0.4171 - output_1_accuracy: 0.4921 - output_2_accuracy: 0.8249 - val_loss: 1.5613 - val_output_1_loss: 1.1847 - val_output_2_loss: 0.3767 - val_output_1_accuracy: 0.4809 - val_output_2_accuracy: 0.8473\n",
            "Epoch 5/50\n",
            "45/45 [==============================] - 7s 156ms/step - loss: 1.5353 - output_1_loss: 1.1609 - output_2_loss: 0.3744 - output_1_accuracy: 0.5039 - output_2_accuracy: 0.8460 - val_loss: 1.4904 - val_output_1_loss: 1.1532 - val_output_2_loss: 0.3371 - val_output_1_accuracy: 0.4915 - val_output_2_accuracy: 0.8554\n",
            "Epoch 6/50\n",
            "45/45 [==============================] - 8s 185ms/step - loss: 1.4830 - output_1_loss: 1.1372 - output_2_loss: 0.3459 - output_1_accuracy: 0.5111 - output_2_accuracy: 0.8579 - val_loss: 1.4726 - val_output_1_loss: 1.1550 - val_output_2_loss: 0.3176 - val_output_1_accuracy: 0.4931 - val_output_2_accuracy: 0.8619\n",
            "Epoch 7/50\n",
            "45/45 [==============================] - 6s 139ms/step - loss: 1.4134 - output_1_loss: 1.0979 - output_2_loss: 0.3155 - output_1_accuracy: 0.5194 - output_2_accuracy: 0.8762 - val_loss: 1.4293 - val_output_1_loss: 1.1206 - val_output_2_loss: 0.3087 - val_output_1_accuracy: 0.5020 - val_output_2_accuracy: 0.8733\n",
            "Epoch 8/50\n",
            "45/45 [==============================] - 7s 153ms/step - loss: 1.3825 - output_1_loss: 1.0848 - output_2_loss: 0.2976 - output_1_accuracy: 0.5273 - output_2_accuracy: 0.8852 - val_loss: 1.3948 - val_output_1_loss: 1.1087 - val_output_2_loss: 0.2860 - val_output_1_accuracy: 0.5223 - val_output_2_accuracy: 0.8822\n",
            "Epoch 9/50\n",
            "45/45 [==============================] - 7s 153ms/step - loss: 1.3613 - output_1_loss: 1.0713 - output_2_loss: 0.2900 - output_1_accuracy: 0.5299 - output_2_accuracy: 0.8859 - val_loss: 1.3831 - val_output_1_loss: 1.0979 - val_output_2_loss: 0.2852 - val_output_1_accuracy: 0.5150 - val_output_2_accuracy: 0.8806\n",
            "Epoch 10/50\n",
            "45/45 [==============================] - 6s 140ms/step - loss: 1.2834 - output_1_loss: 1.0309 - output_2_loss: 0.2525 - output_1_accuracy: 0.5396 - output_2_accuracy: 0.9028 - val_loss: 1.3843 - val_output_1_loss: 1.0953 - val_output_2_loss: 0.2890 - val_output_1_accuracy: 0.5053 - val_output_2_accuracy: 0.8838\n",
            "Epoch 11/50\n",
            "45/45 [==============================] - 6s 129ms/step - loss: 1.2420 - output_1_loss: 1.0095 - output_2_loss: 0.2325 - output_1_accuracy: 0.5426 - output_2_accuracy: 0.9131 - val_loss: 1.3807 - val_output_1_loss: 1.0981 - val_output_2_loss: 0.2826 - val_output_1_accuracy: 0.5223 - val_output_2_accuracy: 0.8871\n",
            "Epoch 12/50\n",
            "45/45 [==============================] - 6s 138ms/step - loss: 1.2249 - output_1_loss: 0.9970 - output_2_loss: 0.2279 - output_1_accuracy: 0.5457 - output_2_accuracy: 0.9112 - val_loss: 1.3737 - val_output_1_loss: 1.0942 - val_output_2_loss: 0.2795 - val_output_1_accuracy: 0.5248 - val_output_2_accuracy: 0.8790\n",
            "Epoch 13/50\n",
            "45/45 [==============================] - 7s 148ms/step - loss: 1.2215 - output_1_loss: 0.9991 - output_2_loss: 0.2224 - output_1_accuracy: 0.5478 - output_2_accuracy: 0.9155 - val_loss: 1.4366 - val_output_1_loss: 1.1258 - val_output_2_loss: 0.3107 - val_output_1_accuracy: 0.5264 - val_output_2_accuracy: 0.8773\n",
            "Epoch 14/50\n",
            "45/45 [==============================] - 6s 136ms/step - loss: 1.1560 - output_1_loss: 0.9613 - output_2_loss: 0.1947 - output_1_accuracy: 0.5577 - output_2_accuracy: 0.9253 - val_loss: 1.3724 - val_output_1_loss: 1.0961 - val_output_2_loss: 0.2763 - val_output_1_accuracy: 0.5077 - val_output_2_accuracy: 0.8903\n",
            "Epoch 15/50\n",
            "45/45 [==============================] - 6s 126ms/step - loss: 1.1524 - output_1_loss: 0.9539 - output_2_loss: 0.1985 - output_1_accuracy: 0.5605 - output_2_accuracy: 0.9258 - val_loss: 1.3835 - val_output_1_loss: 1.0979 - val_output_2_loss: 0.2856 - val_output_1_accuracy: 0.5232 - val_output_2_accuracy: 0.8895\n",
            "Epoch 16/50\n",
            "45/45 [==============================] - 6s 132ms/step - loss: 1.1023 - output_1_loss: 0.9263 - output_2_loss: 0.1760 - output_1_accuracy: 0.5651 - output_2_accuracy: 0.9356 - val_loss: 1.3892 - val_output_1_loss: 1.1053 - val_output_2_loss: 0.2840 - val_output_1_accuracy: 0.5272 - val_output_2_accuracy: 0.8830\n",
            "Epoch 17/50\n",
            "45/45 [==============================] - 6s 126ms/step - loss: 1.0943 - output_1_loss: 0.9187 - output_2_loss: 0.1756 - output_1_accuracy: 0.5767 - output_2_accuracy: 0.9347 - val_loss: 1.3863 - val_output_1_loss: 1.1074 - val_output_2_loss: 0.2789 - val_output_1_accuracy: 0.5215 - val_output_2_accuracy: 0.8928\n",
            "Epoch 17: early stopping\n"
          ]
        }
      ]
    },
    {
      "cell_type": "markdown",
      "source": [
        "### Training history visualization\n",
        "In the next code cell we are going to visualize the training history of our model interms of loss and accuracy."
      ],
      "metadata": {
        "id": "70wuNxDH6PZJ"
      }
    },
    {
      "cell_type": "code",
      "source": [
        "\n",
        "history = history.history\n",
        "N_EPOCHS = len(history['loss'])\n",
        "epochs = np.arange(1, N_EPOCHS + 1)\n",
        "plt.figure(figsize=(5, 3), dpi=80)\n",
        "plt.plot(epochs, history['loss'], label=\"train loss\", color=\"#FF9EAA\")\n",
        "plt.plot(epochs, history['val_loss'], label=\"validation loss\", color=\"#FD9B63\")\n",
        "plt.title(\"MODEL TOTAL TRAINING LOSS\", color=\"k\", fontsize=12)\n",
        "plt.legend(fontsize=10, bbox_to_anchor=(1, 1), loc='upper left')\n",
        "plt.xlabel = \"epochs\"\n",
        "plt.show()\n"
      ],
      "metadata": {
        "id": "W8XB5EJw_ZBc",
        "colab": {
          "base_uri": "https://localhost:8080/",
          "height": 252
        },
        "outputId": "345e51a5-8517-46c2-e537-813493ce77c4"
      },
      "execution_count": null,
      "outputs": [
        {
          "output_type": "display_data",
          "data": {
            "text/plain": [
              "<Figure size 400x240 with 1 Axes>"
            ],
            "image/png": "[encoded data removed]"
          },
          "metadata": {}
        }
      ]
    },
    {
      "cell_type": "markdown",
      "source": [
        "Next let's visualize the output train loss for the `recommended` and `rating` labels."
      ],
      "metadata": {
        "id": "PO3ink1Y_ZyY"
      }
    },
    {
      "cell_type": "code",
      "source": [
        "epochs = np.arange(1, N_EPOCHS + 1)\n",
        "plt.figure(figsize=(5, 3), dpi=80)\n",
        "plt.plot(epochs, history['output_1_loss'], label=\"rating\", color=\"#BC5A94\")\n",
        "plt.plot(epochs, history['output_2_loss'], label=\"recommended\", color=\"#AF47D2\")\n",
        "plt.title(\"MODEL TRAINING LOSSES\", color=\"k\", fontsize=12)\n",
        "plt.legend(fontsize=10, bbox_to_anchor=(1, 1), loc='upper left')\n",
        "plt.xlabel = \"epochs\"\n",
        "plt.show()"
      ],
      "metadata": {
        "id": "tIuTGEbt_ZtD",
        "colab": {
          "base_uri": "https://localhost:8080/",
          "height": 252
        },
        "outputId": "add3b111-4f1b-4009-c71c-5f26389f2a1b"
      },
      "execution_count": null,
      "outputs": [
        {
          "output_type": "display_data",
          "data": {
            "text/plain": [
              "<Figure size 400x240 with 1 Axes>"
            ],
            "image/png": "[encoded data removed]"
          },
          "metadata": {}
        }
      ]
    },
    {
      "cell_type": "markdown",
      "source": [
        "Let's do the same for the `validation_loss`."
      ],
      "metadata": {
        "id": "C_iNGGKC_Znc"
      }
    },
    {
      "cell_type": "code",
      "source": [
        "epochs = np.arange(1, N_EPOCHS + 1)\n",
        "plt.figure(figsize=(5, 3), dpi=80)\n",
        "plt.plot(epochs, history['val_output_1_loss'], label=\"rating\", color=\"#BC5A94\")\n",
        "plt.plot(epochs, history['val_output_2_loss'], label=\"recommended\", color=\"#AF47D2\")\n",
        "plt.title(\"MODEL VALIDATION LOSSES\", color=\"k\", fontsize=12)\n",
        "plt.legend(fontsize=10,  bbox_to_anchor=(1, 1), loc='upper left')\n",
        "plt.xlabel = \"epochs\"\n",
        "plt.show()"
      ],
      "metadata": {
        "id": "YtqxRvBaCKjl",
        "colab": {
          "base_uri": "https://localhost:8080/",
          "height": 252
        },
        "outputId": "a5f610da-914e-4321-ba37-d0a824d2aaff"
      },
      "execution_count": null,
      "outputs": [
        {
          "output_type": "display_data",
          "data": {
            "text/plain": [
              "<Figure size 400x240 with 1 Axes>"
            ],
            "image/png": "[encoded data removed]"
          },
          "metadata": {}
        }
      ]
    },
    {
      "cell_type": "markdown",
      "source": [
        "Next we are going to visualize the train and validation accuracy of the `recommended` label. We don't care much about the accuracy of the `rating` label as it is not a good measure in this case because the labels were not balanced. So in that case we are going to skip visualizing it."
      ],
      "metadata": {
        "id": "QZ1Vq0h8C69_"
      }
    },
    {
      "cell_type": "code",
      "source": [
        "epochs = np.arange(1, N_EPOCHS + 1)\n",
        "plt.figure(figsize=(5, 3), dpi=80)\n",
        "plt.plot(epochs, history['output_2_accuracy'], label=\"train\", color=\"#006989\")\n",
        "plt.plot(epochs, history['val_output_2_accuracy'], label=\"validation\", color=\"#B3E2A7\")\n",
        "plt.title(\"MODEL RECOMMENED ACCURACIES\", color=\"k\", fontsize=12)\n",
        "plt.legend(fontsize=10,  bbox_to_anchor=(1, 1), loc='upper left')\n",
        "plt.xlabel = \"epochs\"\n",
        "plt.show()"
      ],
      "metadata": {
        "id": "wuIMhyZODSCc",
        "colab": {
          "base_uri": "https://localhost:8080/",
          "height": 252
        },
        "outputId": "6c3a1d2f-f117-4eff-a230-84805b1e15f2"
      },
      "execution_count": null,
      "outputs": [
        {
          "output_type": "display_data",
          "data": {
            "text/plain": [
              "<Figure size 400x240 with 1 Axes>"
            ],
            "image/png": "[encoded data removed]"
          },
          "metadata": {}
        }
      ]
    },
    {
      "cell_type": "markdown",
      "source": [
        "### Evaluating the Model\n",
        "\n",
        "In the following code cell we are going to evaluate the `apr_model` based on the test dataset."
      ],
      "metadata": {
        "id": "arXEfkkg83Yy"
      }
    },
    {
      "cell_type": "code",
      "source": [
        "test_history = apr_model.evaluate(\n",
        "    x = [test_tokens_sequence_padded, test_up_votes_scaled],\n",
        "    y = [test_ratings, test_recommends.astype('int32')],\n",
        "   verbose=1, batch_size=BATCH_SIZE//2\n",
        ")"
      ],
      "metadata": {
        "id": "ILLCHSxjipuS",
        "colab": {
          "base_uri": "https://localhost:8080/"
        },
        "outputId": "91b980d8-d156-46a8-84c7-699bcc4d4113"
      },
      "execution_count": null,
      "outputs": [
        {
          "output_type": "stream",
          "name": "stdout",
          "text": [
            "20/20 [==============================] - 1s 28ms/step - loss: 1.5347 - output_1_loss: 1.1617 - output_2_loss: 0.3730 - output_1_accuracy: 0.5065 - output_2_accuracy: 0.8593\n"
          ]
        }
      ]
    },
    {
      "cell_type": "code",
      "source": [
        "tabulate_data([\"Metric\", \"Value\"],list(zip(\n",
        "  ['loss', 'rating loss', 'recommended loss',  'rating acc', 'recommended acc',], [f\"{i:.2f}\" for i in test_history]\n",
        ")), \"Model test metrics.\")"
      ],
      "metadata": {
        "id": "g3NOrFdxEDlj",
        "colab": {
          "base_uri": "https://localhost:8080/"
        },
        "outputId": "9afaa186-da7f-4b8c-95c5-2d893bdbc4d9"
      },
      "execution_count": null,
      "outputs": [
        {
          "output_type": "stream",
          "name": "stdout",
          "text": [
            "Model test metrics.\n",
            "+------------------+-------+\n",
            "| Metric           | Value |\n",
            "+------------------+-------+\n",
            "| loss             |  1.53 |\n",
            "| rating loss      |  1.16 |\n",
            "| recommended loss |  0.37 |\n",
            "| rating acc       |  0.51 |\n",
            "| recommended acc  |  0.86 |\n",
            "+------------------+-------+\n"
          ]
        }
      ]
    },
    {
      "cell_type": "markdown",
      "source": [
        "Next lets get all the predictions from our test dataset."
      ],
      "metadata": {
        "id": "A2BLvXUcGf4B"
      }
    },
    {
      "cell_type": "code",
      "source": [
        "recommends_true = test_recommends.astype('int32')\n",
        "ratings_true =  np.argmax(test_ratings, axis=1)"
      ],
      "metadata": {
        "id": "54PYsvfJJo2O"
      },
      "execution_count": null,
      "outputs": []
    },
    {
      "cell_type": "code",
      "source": [
        "def predict_labels(inputs: list, model):\n",
        "  rating_pred, recommend_pred = model.predict(inputs)\n",
        "  rating_label = np.argmax(rating_pred, axis=1)\n",
        "  recommended_label = np.array([1 if x >=0.5 else 0 for x in np.squeeze(recommend_pred)])\n",
        "  return rating_label, recommended_label\n",
        "\n",
        "ratings_prediction, recommends_prediction = predict_labels([test_tokens_sequence_padded, test_up_votes_scaled],apr_model)"
      ],
      "metadata": {
        "id": "sxUW7f4QGfD1",
        "colab": {
          "base_uri": "https://localhost:8080/"
        },
        "outputId": "e2238506-f502-43e3-9334-e02361e9da29"
      },
      "execution_count": null,
      "outputs": [
        {
          "output_type": "stream",
          "name": "stdout",
          "text": [
            "39/39 [==============================] - 2s 15ms/step\n"
          ]
        }
      ]
    },
    {
      "cell_type": "markdown",
      "source": [
        "### Confusion matrix.\n",
        "\n",
        "In the following code cells we are going to create a confusion matrix as to measure how good our model was in predicting ratings and recommendation label using a `confustion matrix`. We are going to do this on our test dataset only.\n",
        "\n",
        "\n",
        "First let's plot the confusion matrix for the recommended predictions.\n"
      ],
      "metadata": {
        "id": "AEzwqgsMGCES"
      }
    },
    {
      "cell_type": "code",
      "source": [
        "plot_complicated_confusion_matrix(recommends_true, recommends_prediction,\n",
        "  ['NOT RECOMMENDED', 'RECOMMENDED'], fontsize=10, figsize=(5, 5)\n",
        ")"
      ],
      "metadata": {
        "id": "BZHr7ZDUKcOx",
        "colab": {
          "base_uri": "https://localhost:8080/",
          "height": 427
        },
        "outputId": "51a3ba22-578e-4477-ac1f-21bd4a307f08"
      },
      "execution_count": null,
      "outputs": [
        {
          "output_type": "display_data",
          "data": {
            "text/plain": [
              "<Figure size 500x500 with 2 Axes>"
            ],
            "image/png": "[encoded data removed]"
          },
          "metadata": {}
        }
      ]
    },
    {
      "cell_type": "markdown",
      "source": [
        "In the next code cell we are going to plot the confusion matrix for the ratings prediction on the test dataset."
      ],
      "metadata": {
        "id": "cghZfjU1LkG6"
      }
    },
    {
      "cell_type": "code",
      "source": [
        "plot_complicated_confusion_matrix(ratings_true, ratings_prediction,\n",
        "  [1, 2, 3, 4, 5], fontsize=8, figsize=(6, 6)\n",
        ")"
      ],
      "metadata": {
        "id": "DjZ366qYLEZx",
        "colab": {
          "base_uri": "https://localhost:8080/",
          "height": 511
        },
        "outputId": "23649658-1cb8-450f-8fcc-9d5116f6443f"
      },
      "execution_count": null,
      "outputs": [
        {
          "output_type": "display_data",
          "data": {
            "text/plain": [
              "<Figure size 600x600 with 2 Axes>"
            ],
            "image/png": "[encoded data removed]"
          },
          "metadata": {}
        }
      ]
    },
    {
      "cell_type": "markdown",
      "source": [
        "### Classification Report\n",
        "\n",
        "In the following code cell we are going to print the classification report as a way of measuring how good our model was in predicting our labels. We will start by ploting the classification report of the `recommended`."
      ],
      "metadata": {
        "id": "0mO22c6YF_SY"
      }
    },
    {
      "cell_type": "code",
      "source": [
        "cr = classification_report(recommends_true, recommends_prediction, output_dict=False\n",
        "                        )\n",
        "print(cr)"
      ],
      "metadata": {
        "id": "rPfiNRseL7eE",
        "colab": {
          "base_uri": "https://localhost:8080/"
        },
        "outputId": "d476d48c-d268-4370-8447-081f165ab955"
      },
      "execution_count": null,
      "outputs": [
        {
          "output_type": "stream",
          "name": "stdout",
          "text": [
            "              precision    recall  f1-score   support\n",
            "\n",
            "           0       0.86      0.87      0.86       619\n",
            "           1       0.86      0.85      0.86       611\n",
            "\n",
            "    accuracy                           0.86      1230\n",
            "   macro avg       0.86      0.86      0.86      1230\n",
            "weighted avg       0.86      0.86      0.86      1230\n",
            "\n"
          ]
        }
      ]
    },
    {
      "cell_type": "markdown",
      "source": [
        "Then we show the classification report of the `ratings`"
      ],
      "metadata": {
        "id": "v87bFogCL8FS"
      }
    },
    {
      "cell_type": "code",
      "source": [
        "cr = classification_report(ratings_true, ratings_prediction, output_dict=False)\n",
        "print(cr)"
      ],
      "metadata": {
        "id": "NjUePCMIMLFx",
        "colab": {
          "base_uri": "https://localhost:8080/"
        },
        "outputId": "0d99b84c-7d9f-414c-a310-83f8e9dd19b9"
      },
      "execution_count": null,
      "outputs": [
        {
          "output_type": "stream",
          "name": "stdout",
          "text": [
            "              precision    recall  f1-score   support\n",
            "\n",
            "           0       0.00      0.00      0.00       117\n",
            "           1       0.37      0.28      0.32       236\n",
            "           2       0.37      0.65      0.47       282\n",
            "           3       0.30      0.11      0.16       191\n",
            "           4       0.72      0.87      0.79       404\n",
            "\n",
            "    accuracy                           0.51      1230\n",
            "   macro avg       0.35      0.38      0.35      1230\n",
            "weighted avg       0.44      0.51      0.45      1230\n",
            "\n"
          ]
        },
        {
          "output_type": "stream",
          "name": "stderr",
          "text": [
            "/usr/local/lib/python3.10/dist-packages/sklearn/metrics/_classification.py:1344: UndefinedMetricWarning: Precision and F-score are ill-defined and being set to 0.0 in labels with no predicted samples. Use `zero_division` parameter to control this behavior.\n",
            "  _warn_prf(average, modifier, msg_start, len(result))\n",
            "/usr/local/lib/python3.10/dist-packages/sklearn/metrics/_classification.py:1344: UndefinedMetricWarning: Precision and F-score are ill-defined and being set to 0.0 in labels with no predicted samples. Use `zero_division` parameter to control this behavior.\n",
            "  _warn_prf(average, modifier, msg_start, len(result))\n",
            "/usr/local/lib/python3.10/dist-packages/sklearn/metrics/_classification.py:1344: UndefinedMetricWarning: Precision and F-score are ill-defined and being set to 0.0 in labels with no predicted samples. Use `zero_division` parameter to control this behavior.\n",
            "  _warn_prf(average, modifier, msg_start, len(result))\n"
          ]
        }
      ]
    },
    {
      "cell_type": "markdown",
      "source": [
        "### Model Inference\n",
        "\n",
        "In the following code cell we are going to create a function that will make product recommentations based on two inputs:\n",
        "\n",
        "1. text_review\n",
        "2. text_review_upvote\n",
        "\n",
        "So the pipeline for all our features will be the same as what we did in during training."
      ],
      "metadata": {
        "id": "dCXwk6t69STz"
      }
    },
    {
      "cell_type": "code",
      "source": [
        "def apr_predictor(text_review: str, text_review_upvote:int, model):\n",
        "  recomment_classes =[\"NOT RECOMMENDED\", \"RECOMMENDED\"]\n",
        "  recomment_emoji = [\"👎\", \"👍\"]\n",
        "  tokens = text_to_sequence(text_review)\n",
        "  padded_tokens = keras.preprocessing.sequence.pad_sequences([tokens],\n",
        "                                maxlen=max_words,\n",
        "                                padding=\"post\",\n",
        "                                truncating=\"post\"\n",
        "                                )\n",
        "\n",
        "  text_review_upvote = scaler.transform([text_review_upvote])\n",
        "  inputs = [padded_tokens, text_review_upvote]\n",
        "  rating_pred, recommend_pred = model.predict(inputs)\n",
        "\n",
        "  rating_pred = np.squeeze(rating_pred)\n",
        "  rating_label = np.argmax(rating_pred)\n",
        "  recomment_pred = tf.squeeze(recommend_pred).numpy()\n",
        "  recomment_label = 1 if recomment_pred >=0.5 else 0\n",
        "  probability = float(round(recomment_pred, 3)) if recomment_pred >= 0.5 else float(round(1 - recomment_pred, 3))\n",
        "\n",
        "  pred_obj ={\n",
        "      \"recommend\": {\n",
        "        \"label\": recomment_label,\n",
        "        \"probability\": probability,\n",
        "        \"class_\": recomment_classes[recomment_label],\n",
        "        \"emoji\": recomment_emoji[recomment_label]\n",
        "      },\n",
        "      \"rating\":{\n",
        "          \"rating\": rating_label+1,\n",
        "          \"stars\": \"⭐\" * (rating_label +1),\n",
        "          \"probability\": float(round(rating_pred[rating_label], 3))\n",
        "      }\n",
        "  }\n",
        "  return pred_obj\n",
        "\n",
        "apr_predictor(test_text[0], test_up_votes[0], apr_model)"
      ],
      "metadata": {
        "id": "HrQXnhejipq8",
        "colab": {
          "base_uri": "https://localhost:8080/"
        },
        "outputId": "afcddbd1-4446-4245-f872-5295ace8ea0c"
      },
      "execution_count": null,
      "outputs": [
        {
          "output_type": "stream",
          "name": "stdout",
          "text": [
            "1/1 [==============================] - 0s 35ms/step\n"
          ]
        },
        {
          "output_type": "execute_result",
          "data": {
            "text/plain": [
              "{'recommend': {'label': 1,\n",
              "  'probability': 0.9929999709129333,\n",
              "  'class_': 'RECOMMENDED',\n",
              "  'emoji': '👍'},\n",
              " 'rating': {'rating': 5, 'stars': '⭐⭐⭐⭐⭐', 'probability': 0.7770000100135803}}"
            ]
          },
          "metadata": {},
          "execution_count": 69
        }
      ]
    },
    {
      "cell_type": "markdown",
      "source": [
        "### Saving and downloading the model.\n",
        "\n",
        "In the following code cell we are going to download and save our model as an `.h5` static file."
      ],
      "metadata": {
        "id": "5kH68DrUij1D"
      }
    },
    {
      "cell_type": "code",
      "source": [
        "MODEL_NAME = 'apr-model.h5'\n",
        "apr_model.save_weights(MODEL_NAME)"
      ],
      "metadata": {
        "id": "6-2Cix9nDTod"
      },
      "execution_count": null,
      "outputs": []
    },
    {
      "cell_type": "code",
      "source": [
        "files.download(MODEL_NAME)"
      ],
      "metadata": {
        "id": "bYxvqfMk8eVX",
        "colab": {
          "base_uri": "https://localhost:8080/",
          "height": 17
        },
        "outputId": "56322386-8752-48a2-b51c-63fe2e5387af"
      },
      "execution_count": null,
      "outputs": [
        {
          "output_type": "display_data",
          "data": {
            "text/plain": [
              "<IPython.core.display.Javascript object>"
            ],
            "application/javascript": [
              "\n",
              "    async function download(id, filename, size) {\n",
              "      if (!google.colab.kernel.accessAllowed) {\n",
              "        return;\n",
              "      }\n",
              "      const div = document.createElement('div');\n",
              "      const label = document.createElement('label');\n",
              "      label.textContent = `Downloading \"${filename}\": `;\n",
              "      div.appendChild(label);\n",
              "      const progress = document.createElement('progress');\n",
              "      progress.max = size;\n",
              "      div.appendChild(progress);\n",
              "      document.body.appendChild(div);\n",
              "\n",
              "      const buffers = [];\n",
              "      let downloaded = 0;\n",
              "\n",
              "      const channel = await google.colab.kernel.comms.open(id);\n",
              "      // Send a message to notify the kernel that we're ready.\n",
              "      channel.send({})\n",
              "\n",
              "      for await (const message of channel.messages) {\n",
              "        // Send a message to notify the kernel that we're ready.\n",
              "        channel.send({})\n",
              "        if (message.buffers) {\n",
              "          for (const buffer of message.buffers) {\n",
              "            buffers.push(buffer);\n",
              "            downloaded += buffer.byteLength;\n",
              "            progress.value = downloaded;\n",
              "          }\n",
              "        }\n",
              "      }\n",
              "      const blob = new Blob(buffers, {type: 'application/binary'});\n",
              "      const a = document.createElement('a');\n",
              "      a.href = window.URL.createObjectURL(blob);\n",
              "      a.download = filename;\n",
              "      div.appendChild(a);\n",
              "      a.click();\n",
              "      div.remove();\n",
              "    }\n",
              "  "
            ]
          },
          "metadata": {}
        },
        {
          "output_type": "display_data",
          "data": {
            "text/plain": [
              "<IPython.core.display.Javascript object>"
            ],
            "application/javascript": [
              "download(\"download_a317286d-d93a-49cc-b2e8-87d623416f36\", \"apr-model.h5\", 18332928)"
            ]
          },
          "metadata": {}
        }
      ]
    },
    {
      "cell_type": "markdown",
      "source": [
        "### Saving and downloading the vocabulary\n",
        "In the following code cell we are going to save and download the vocabulary that we used as a `json` file.\n"
      ],
      "metadata": {
        "id": "FwoG8fdBDe6w"
      }
    },
    {
      "cell_type": "code",
      "source": [
        "with open('vocab.json', 'w') as f:\n",
        "  json.dump(word_indices, f)\n",
        "\n",
        "files.download('vocab.json')"
      ],
      "metadata": {
        "id": "IwsQv0HSDsJQ",
        "colab": {
          "base_uri": "https://localhost:8080/",
          "height": 17
        },
        "outputId": "8b09df07-81aa-4055-e3fb-c0183b38cf68"
      },
      "execution_count": null,
      "outputs": [
        {
          "output_type": "display_data",
          "data": {
            "text/plain": [
              "<IPython.core.display.Javascript object>"
            ],
            "application/javascript": [
              "\n",
              "    async function download(id, filename, size) {\n",
              "      if (!google.colab.kernel.accessAllowed) {\n",
              "        return;\n",
              "      }\n",
              "      const div = document.createElement('div');\n",
              "      const label = document.createElement('label');\n",
              "      label.textContent = `Downloading \"${filename}\": `;\n",
              "      div.appendChild(label);\n",
              "      const progress = document.createElement('progress');\n",
              "      progress.max = size;\n",
              "      div.appendChild(progress);\n",
              "      document.body.appendChild(div);\n",
              "\n",
              "      const buffers = [];\n",
              "      let downloaded = 0;\n",
              "\n",
              "      const channel = await google.colab.kernel.comms.open(id);\n",
              "      // Send a message to notify the kernel that we're ready.\n",
              "      channel.send({})\n",
              "\n",
              "      for await (const message of channel.messages) {\n",
              "        // Send a message to notify the kernel that we're ready.\n",
              "        channel.send({})\n",
              "        if (message.buffers) {\n",
              "          for (const buffer of message.buffers) {\n",
              "            buffers.push(buffer);\n",
              "            downloaded += buffer.byteLength;\n",
              "            progress.value = downloaded;\n",
              "          }\n",
              "        }\n",
              "      }\n",
              "      const blob = new Blob(buffers, {type: 'application/binary'});\n",
              "      const a = document.createElement('a');\n",
              "      a.href = window.URL.createObjectURL(blob);\n",
              "      a.download = filename;\n",
              "      div.appendChild(a);\n",
              "      a.click();\n",
              "      div.remove();\n",
              "    }\n",
              "  "
            ]
          },
          "metadata": {}
        },
        {
          "output_type": "display_data",
          "data": {
            "text/plain": [
              "<IPython.core.display.Javascript object>"
            ],
            "application/javascript": [
              "download(\"download_9ef53397-8053-4dc0-aeb4-8d251b30f3a2\", \"vocab.json\", 155434)"
            ]
          },
          "metadata": {}
        }
      ]
    },
    {
      "cell_type": "code",
      "source": [
        "len(word_indices)"
      ],
      "metadata": {
        "id": "Kt8f0XwdDfwT",
        "colab": {
          "base_uri": "https://localhost:8080/"
        },
        "outputId": "faa070c6-bdca-41df-d979-30f92eafe4a8"
      },
      "execution_count": null,
      "outputs": [
        {
          "output_type": "execute_result",
          "data": {
            "text/plain": [
              "9168"
            ]
          },
          "metadata": {},
          "execution_count": 73
        }
      ]
    },
    {
      "cell_type": "code",
      "source": [
        "vocab_size"
      ],
      "metadata": {
        "id": "hjOBX73WDina",
        "colab": {
          "base_uri": "https://localhost:8080/"
        },
        "outputId": "b3833dd9-49c2-450c-a953-f9368bff3a56"
      },
      "execution_count": null,
      "outputs": [
        {
          "output_type": "execute_result",
          "data": {
            "text/plain": [
              "9173"
            ]
          },
          "metadata": {},
          "execution_count": 74
        }
      ]
    },
    {
      "cell_type": "markdown",
      "source": [
        "### Saving and downloading the `train_up_votes`\n",
        "\n",
        "We need to save and download `train_up_votes` so that we will create a `scaler` that we will use during `up_votes` preprocessing."
      ],
      "metadata": {
        "id": "-ukIdPNUDzvY"
      }
    },
    {
      "cell_type": "code",
      "source": [
        "np.save('upvotes.npy', train_up_votes)\n",
        "files.download('upvotes.npy')"
      ],
      "metadata": {
        "id": "2Uj24Wn0ENQ8",
        "colab": {
          "base_uri": "https://localhost:8080/",
          "height": 17
        },
        "outputId": "c5d0934d-d475-4494-c86f-4194002f7af2"
      },
      "execution_count": null,
      "outputs": [
        {
          "output_type": "display_data",
          "data": {
            "text/plain": [
              "<IPython.core.display.Javascript object>"
            ],
            "application/javascript": [
              "\n",
              "    async function download(id, filename, size) {\n",
              "      if (!google.colab.kernel.accessAllowed) {\n",
              "        return;\n",
              "      }\n",
              "      const div = document.createElement('div');\n",
              "      const label = document.createElement('label');\n",
              "      label.textContent = `Downloading \"${filename}\": `;\n",
              "      div.appendChild(label);\n",
              "      const progress = document.createElement('progress');\n",
              "      progress.max = size;\n",
              "      div.appendChild(progress);\n",
              "      document.body.appendChild(div);\n",
              "\n",
              "      const buffers = [];\n",
              "      let downloaded = 0;\n",
              "\n",
              "      const channel = await google.colab.kernel.comms.open(id);\n",
              "      // Send a message to notify the kernel that we're ready.\n",
              "      channel.send({})\n",
              "\n",
              "      for await (const message of channel.messages) {\n",
              "        // Send a message to notify the kernel that we're ready.\n",
              "        channel.send({})\n",
              "        if (message.buffers) {\n",
              "          for (const buffer of message.buffers) {\n",
              "            buffers.push(buffer);\n",
              "            downloaded += buffer.byteLength;\n",
              "            progress.value = downloaded;\n",
              "          }\n",
              "        }\n",
              "      }\n",
              "      const blob = new Blob(buffers, {type: 'application/binary'});\n",
              "      const a = document.createElement('a');\n",
              "      a.href = window.URL.createObjectURL(blob);\n",
              "      a.download = filename;\n",
              "      div.appendChild(a);\n",
              "      a.click();\n",
              "      div.remove();\n",
              "    }\n",
              "  "
            ]
          },
          "metadata": {}
        },
        {
          "output_type": "display_data",
          "data": {
            "text/plain": [
              "<IPython.core.display.Javascript object>"
            ],
            "application/javascript": [
              "download(\"download_2f569456-9b4c-490d-8825-50798d140438\", \"upvotes.npy\", 46056)"
            ]
          },
          "metadata": {}
        }
      ]
    },
    {
      "cell_type": "code",
      "source": [
        "train_text[0]"
      ],
      "metadata": {
        "id": "SJ97H3HqCwFQ",
        "colab": {
          "base_uri": "https://localhost:8080/",
          "height": 88
        },
        "outputId": "7d5dbae4-78ce-4919-b174-9fc7555c9b18"
      },
      "execution_count": null,
      "outputs": [
        {
          "output_type": "execute_result",
          "data": {
            "text/plain": [
              "'i buy almost ever top tiny puts out and so i grabbed this one in the last tops sale since i am a sucker for embroidered flowers everything about it is gorgeous except it is so flimsy i can not even believe it like when i held it up in the dressing room i could see through the entire shirt front to back before even putting it on once on i could see everything through it i actually thought i was going to tear the thing to pieces trying it on it is so frail i own so many tiny shirts and while'"
            ],
            "application/vnd.google.colaboratory.intrinsic+json": {
              "type": "string"
            }
          },
          "metadata": {},
          "execution_count": 76
        }
      ]
    },
    {
      "cell_type": "code",
      "source": [
        "train_up_votes_scaled[0], train_ratings[0], train_recommends[0]"
      ],
      "metadata": {
        "id": "1_LI4x4mF8Zc",
        "colab": {
          "base_uri": "https://localhost:8080/"
        },
        "outputId": "73999d41-56f8-4f7a-cc12-0c663476ee84"
      },
      "execution_count": null,
      "outputs": [
        {
          "output_type": "execute_result",
          "data": {
            "text/plain": [
              "(array([0.15740741]), array([0., 1., 0., 0., 0.]), 0)"
            ]
          },
          "metadata": {},
          "execution_count": 77
        }
      ]
    },
    {
      "cell_type": "code",
      "source": [
        "train_text[1]"
      ],
      "metadata": {
        "id": "kLsF-7EIIImf",
        "colab": {
          "base_uri": "https://localhost:8080/",
          "height": 53
        },
        "outputId": "8e3f05c4-208b-48dd-ab4b-f33b8062de0d"
      },
      "execution_count": null,
      "outputs": [
        {
          "output_type": "execute_result",
          "data": {
            "text/plain": [
              "'this dress was pretty but had a weird fit the waist droops down in the middle instead of going straight across which i found unflattering i ended up returning it'"
            ],
            "application/vnd.google.colaboratory.intrinsic+json": {
              "type": "string"
            }
          },
          "metadata": {},
          "execution_count": 78
        }
      ]
    },
    {
      "cell_type": "code",
      "source": [
        "train_up_votes[1], train_ratings[1], train_recommends[1]"
      ],
      "metadata": {
        "id": "iTtcHp7sGCFL",
        "colab": {
          "base_uri": "https://localhost:8080/"
        },
        "outputId": "67307bdb-9fa1-4e85-b370-dfbf35c27b0d"
      },
      "execution_count": null,
      "outputs": [
        {
          "output_type": "execute_result",
          "data": {
            "text/plain": [
              "(array([4]), array([0., 0., 1., 0., 0.]), 0)"
            ]
          },
          "metadata": {},
          "execution_count": 79
        }
      ]
    },
    {
      "cell_type": "code",
      "source": [
        "apr_model.load_weights(MODEL_NAME, by_name=True)"
      ],
      "metadata": {
        "id": "985GUbH8IGgC"
      },
      "execution_count": null,
      "outputs": []
    },
    {
      "cell_type": "markdown",
      "source": [
        "### Saving Embeding weights\n",
        "\n",
        "In the following code cell we are going to save embeding weights of the trained model."
      ],
      "metadata": {
        "id": "bctDqD5fWvkx"
      }
    },
    {
      "cell_type": "code",
      "source": [
        "embedding_weights = apr_model.get_layer('embedding_layer').get_weights()[0]\n",
        "embedding_weights.shape"
      ],
      "metadata": {
        "colab": {
          "base_uri": "https://localhost:8080/"
        },
        "id": "1MfQFXwBW_u4",
        "outputId": "964b9b59-bea3-4207-85c3-3b7f328d4534"
      },
      "execution_count": null,
      "outputs": [
        {
          "output_type": "execute_result",
          "data": {
            "text/plain": [
              "(9173, 100)"
            ]
          },
          "metadata": {},
          "execution_count": 83
        }
      ]
    },
    {
      "cell_type": "code",
      "source": [
        "np.save('embedding_weights.npy', embedding_weights)\n",
        "files.download('embedding_weights.npy')"
      ],
      "metadata": {
        "id": "fmkBawKC59au",
        "colab": {
          "base_uri": "https://localhost:8080/",
          "height": 52
        },
        "outputId": "904c08ac-db34-4e4d-d017-1adf121890ee"
      },
      "execution_count": null,
      "outputs": [
        {
          "output_type": "display_data",
          "data": {
            "text/plain": [
              "<IPython.core.display.Javascript object>"
            ],
            "application/javascript": [
              "\n",
              "    async function download(id, filename, size) {\n",
              "      if (!google.colab.kernel.accessAllowed) {\n",
              "        return;\n",
              "      }\n",
              "      const div = document.createElement('div');\n",
              "      const label = document.createElement('label');\n",
              "      label.textContent = `Downloading \"${filename}\": `;\n",
              "      div.appendChild(label);\n",
              "      const progress = document.createElement('progress');\n",
              "      progress.max = size;\n",
              "      div.appendChild(progress);\n",
              "      document.body.appendChild(div);\n",
              "\n",
              "      const buffers = [];\n",
              "      let downloaded = 0;\n",
              "\n",
              "      const channel = await google.colab.kernel.comms.open(id);\n",
              "      // Send a message to notify the kernel that we're ready.\n",
              "      channel.send({})\n",
              "\n",
              "      for await (const message of channel.messages) {\n",
              "        // Send a message to notify the kernel that we're ready.\n",
              "        channel.send({})\n",
              "        if (message.buffers) {\n",
              "          for (const buffer of message.buffers) {\n",
              "            buffers.push(buffer);\n",
              "            downloaded += buffer.byteLength;\n",
              "            progress.value = downloaded;\n",
              "          }\n",
              "        }\n",
              "      }\n",
              "      const blob = new Blob(buffers, {type: 'application/binary'});\n",
              "      const a = document.createElement('a');\n",
              "      a.href = window.URL.createObjectURL(blob);\n",
              "      a.download = filename;\n",
              "      div.appendChild(a);\n",
              "      a.click();\n",
              "      div.remove();\n",
              "    }\n",
              "  "
            ]
          },
          "metadata": {}
        },
        {
          "output_type": "display_data",
          "data": {
            "text/plain": [
              "<IPython.core.display.Javascript object>"
            ],
            "application/javascript": [
              "download(\"download_542f2bb9-511b-4eee-a1f8-6da47699e9e5\", \"embedding_weights.npy\", 3669328)"
            ]
          },
          "metadata": {}
        },
        {
          "output_type": "display_data",
          "data": {
            "text/plain": [
              "<IPython.core.display.Javascript object>"
            ],
            "application/javascript": [
              "\n",
              "    async function download(id, filename, size) {\n",
              "      if (!google.colab.kernel.accessAllowed) {\n",
              "        return;\n",
              "      }\n",
              "      const div = document.createElement('div');\n",
              "      const label = document.createElement('label');\n",
              "      label.textContent = `Downloading \"${filename}\": `;\n",
              "      div.appendChild(label);\n",
              "      const progress = document.createElement('progress');\n",
              "      progress.max = size;\n",
              "      div.appendChild(progress);\n",
              "      document.body.appendChild(div);\n",
              "\n",
              "      const buffers = [];\n",
              "      let downloaded = 0;\n",
              "\n",
              "      const channel = await google.colab.kernel.comms.open(id);\n",
              "      // Send a message to notify the kernel that we're ready.\n",
              "      channel.send({})\n",
              "\n",
              "      for await (const message of channel.messages) {\n",
              "        // Send a message to notify the kernel that we're ready.\n",
              "        channel.send({})\n",
              "        if (message.buffers) {\n",
              "          for (const buffer of message.buffers) {\n",
              "            buffers.push(buffer);\n",
              "            downloaded += buffer.byteLength;\n",
              "            progress.value = downloaded;\n",
              "          }\n",
              "        }\n",
              "      }\n",
              "      const blob = new Blob(buffers, {type: 'application/binary'});\n",
              "      const a = document.createElement('a');\n",
              "      a.href = window.URL.createObjectURL(blob);\n",
              "      a.download = filename;\n",
              "      div.appendChild(a);\n",
              "      a.click();\n",
              "      div.remove();\n",
              "    }\n",
              "  "
            ]
          },
          "metadata": {}
        },
        {
          "output_type": "display_data",
          "data": {
            "text/plain": [
              "<IPython.core.display.Javascript object>"
            ],
            "application/javascript": [
              "download(\"download_1052713b-372b-4062-b365-c3874e886b48\", \"embedding_weights.npy\", 3669328)"
            ]
          },
          "metadata": {}
        }
      ]
    },
    {
      "cell_type": "code",
      "source": [],
      "metadata": {
        "id": "QnKH9HD9XYQJ"
      },
      "execution_count": null,
      "outputs": []
    }
  ]
}