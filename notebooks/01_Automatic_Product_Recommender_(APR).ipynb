{
  "nbformat": 4,
  "nbformat_minor": 0,
  "metadata": {
    "colab": {
      "name": "01_Automatic_Product_Recommender_(APR).ipynb",
      "provenance": [],
      "collapsed_sections": []
    },
    "kernelspec": {
      "name": "python3",
      "display_name": "Python 3"
    },
    "language_info": {
      "name": "python"
    },
    "accelerator": "GPU"
  },
  "cells": [
    {
      "cell_type": "markdown",
      "source": [
        "___\n",
        "\n",
        "\n",
        "Project: `Automatic Product Recommender (APR)`\n",
        "\n",
        "Programmer: `@crispengari`\n",
        "\n",
        "Date: `2022-05-10`\n",
        "\n",
        "Abstract: `Automatic Product Recommender (APR) is a very useful topic in morden technologies. In this notebook we are going to create an Artificial Neural Network model using Deep Learning to detect weather the product is recommended or not based on review text and review upvotes. This model will be able to predict the rating of the product based on the features. APR is very usefull in moden technology because it helps product consumers to chose weather they should buy the product or not based on previous experinece customer reviews.`\n",
        "\n",
        "Keywords: `tensorflow`, `embedding`, `keras`, `pandas`, `CNN`, `dataset`, `accuracy`, `nltk`, `loss`\n",
        "\n",
        "Programming Language: `python`\n",
        "\n",
        "Main: `Natural Language Processing (NLP)`\n",
        "\n",
        "Main Package: `Tensorflow 2.*.*`\n",
        "\n",
        "Dataset: [`kaggle`](https://www.kaggle.com/datasets/nicapotato/womens-ecommerce-clothing-reviews)\n",
        "\n",
        "____"
      ],
      "metadata": {
        "id": "4F8TdJXoVpm8"
      }
    },
    {
      "cell_type": "markdown",
      "source": [
        "### Automatic Product Recommender (APR)\n",
        "\n",
        "In this notebook we are going to create a tensorflow model based on the keras subclassing api that will be able to predict two class labels:\n",
        "\n",
        "1. rating - predict the ratting based on upvotes of the review text and the review text.\n",
        "2. recommend - a binary label `0` or `1`, `1` if the product is recommended and `0` otherwise.\n",
        "\n",
        "Our model will have two inputs which are:\n",
        "\n",
        "1. review text\n",
        "2. upvotes\n",
        "\n",
        "### Dataset\n",
        "\n",
        "The dataset that we are using was taken from [kaggle](https://www.kaggle.com/datasets/nicapotato/womens-ecommerce-clothing-reviews). We are going to used the cleaned version of the dataset that was prepared in [this notebook](https://github.com/CrispenGari/APR-dl/blob/main/notebooks/00_E_Commerce_Clothing_Reviews_Data_Prep.ipynb).\n",
        "\n",
        "\n",
        "### Basic imports\n",
        "\n",
        "In the following code cell we are going to import all the packages that we are going to use in this notebook. We are also going to download some other files using `nltk`."
      ],
      "metadata": {
        "id": "4z69i7TNUXvZ"
      }
    },
    {
      "cell_type": "code",
      "execution_count": 1,
      "metadata": {
        "colab": {
          "base_uri": "https://localhost:8080/"
        },
        "id": "k_-7DRnBTjpD",
        "outputId": "fde5015d-01f4-4871-fe64-4eda01c4c1fa"
      },
      "outputs": [
        {
          "output_type": "stream",
          "name": "stdout",
          "text": [
            "[nltk_data] Downloading package punkt to /root/nltk_data...\n",
            "[nltk_data]   Unzipping tokenizers/punkt.zip.\n"
          ]
        },
        {
          "output_type": "execute_result",
          "data": {
            "text/plain": [
              "('2.8.0', '2.8.0')"
            ]
          },
          "metadata": {},
          "execution_count": 1
        }
      ],
      "source": [
        "\n",
        "import os\n",
        "import time\n",
        "import random\n",
        "import math\n",
        "import nltk\n",
        "import json\n",
        "\n",
        "import numpy as np\n",
        "import tensorflow as tf\n",
        "import pandas as pd\n",
        "\n",
        "from prettytable import PrettyTable\n",
        "from matplotlib import pyplot as plt\n",
        "from prettytable import PrettyTable\n",
        "from collections import Counter\n",
        "from tensorflow import keras\n",
        "from nltk.tokenize import word_tokenize\n",
        "from sklearn.preprocessing import LabelEncoder\n",
        "from google.colab import files, drive\n",
        "from sklearn.model_selection import train_test_split\n",
        "from sklearn.preprocessing import MinMaxScaler\n",
        "\n",
        "nltk.download(\"punkt\")\n",
        "\n",
        "tf.__version__, keras.__version__"
      ]
    },
    {
      "cell_type": "markdown",
      "source": [
        "### Mounting the drive\n",
        "In the following code cell we are going to mount the drive since we are loading the dataset from the google drive."
      ],
      "metadata": {
        "id": "jBfzAnG9ZVRW"
      }
    },
    {
      "cell_type": "code",
      "source": [
        "drive.mount(\"/content/drive\")"
      ],
      "metadata": {
        "colab": {
          "base_uri": "https://localhost:8080/"
        },
        "id": "Dm5Knl1SUVVR",
        "outputId": "432add09-6710-4a5c-edfa-288742bf0698"
      },
      "execution_count": 2,
      "outputs": [
        {
          "output_type": "stream",
          "name": "stdout",
          "text": [
            "Mounted at /content/drive\n"
          ]
        }
      ]
    },
    {
      "cell_type": "markdown",
      "source": [
        "### Seed\n",
        "We are going to set seed for reproducivity in the following code cell"
      ],
      "metadata": {
        "id": "CqpJrP8RZsVh"
      }
    },
    {
      "cell_type": "code",
      "source": [
        "SEED = 42\n",
        "\n",
        "np.random.seed(SEED)\n",
        "random.seed(SEED)\n",
        "tf.random.set_seed(SEED)"
      ],
      "metadata": {
        "id": "9IWWiRTEUVR9"
      },
      "execution_count": 3,
      "outputs": []
    },
    {
      "cell_type": "markdown",
      "source": [
        "### GPU Acceleration\n",
        "\n",
        "We are going to make use of `GPU` if available so that we can increase the speed of mathematical computations in this notebook."
      ],
      "metadata": {
        "id": "jtB0PowbaHWm"
      }
    },
    {
      "cell_type": "code",
      "source": [
        "gpus = tf.config.list_physical_devices('GPU')\n",
        "if gpus:\n",
        "  try:\n",
        "    for gpu in gpus:\n",
        "      tf.config.experimental.set_memory_growth(gpu, True)\n",
        "    logical_gpus = tf.config.list_logical_devices('GPU')\n",
        "    print(len(gpus), \"Physical GPUs,\", len(logical_gpus), \"Logical GPUs\")\n",
        "  except RuntimeError as e:\n",
        "    print(e)\n",
        "else:\n",
        "  print(\"No GPU's\")"
      ],
      "metadata": {
        "colab": {
          "base_uri": "https://localhost:8080/"
        },
        "id": "q1KBHVOdUVPQ",
        "outputId": "522fedf8-aed8-4b80-9399-63453ad7495f"
      },
      "execution_count": 4,
      "outputs": [
        {
          "output_type": "stream",
          "name": "stdout",
          "text": [
            "1 Physical GPUs, 1 Logical GPUs\n"
          ]
        }
      ]
    },
    {
      "cell_type": "markdown",
      "source": [
        "### Data Path\n",
        "In the following code cell we are going to define where our datafile path is. Note that this file is nothing but a `csv` file that is stored in my google drive."
      ],
      "metadata": {
        "id": "_sCSpbiDafQe"
      }
    },
    {
      "cell_type": "code",
      "source": [
        "data_path = \"/content/drive/My Drive/NLP Data/E-Commerce Reviews/clean_data.csv\"\n",
        "\n",
        "assert os.path.exists(data_path) == True, \"File not found\""
      ],
      "metadata": {
        "id": "mjZMwCfHUVMP"
      },
      "execution_count": 5,
      "outputs": []
    },
    {
      "cell_type": "markdown",
      "source": [
        "### Dataframe\n",
        "We are going to read the data_path as a dataframe using `pandas` in the following code cell."
      ],
      "metadata": {
        "id": "XSlUEW9Ibhxa"
      }
    },
    {
      "cell_type": "code",
      "source": [
        "dataframe = pd.read_csv(data_path)\n",
        "dataframe.head(4)"
      ],
      "metadata": {
        "colab": {
          "base_uri": "https://localhost:8080/",
          "height": 175
        },
        "id": "Zg5EMbcPUVIm",
        "outputId": "8995d39e-d423-4355-da2a-cc74b4ac66da"
      },
      "execution_count": 6,
      "outputs": [
        {
          "output_type": "execute_result",
          "data": {
            "text/plain": [
              "   Unnamed: 0                                               text  upvotes  \\\n",
              "0           0  I had such high for this dress and really it t...        0   \n",
              "1           1  I love love love this it is fun flirty and fab...        0   \n",
              "2           2  This shirt is very flattering to all due to th...        6   \n",
              "3           3  I love reese but this one is not for the very ...        4   \n",
              "\n",
              "   recommended  rating  \n",
              "0            0       3  \n",
              "1            1       5  \n",
              "2            1       5  \n",
              "3            0       2  "
            ],
            "text/html": [
              "\n",
              "  <div id=\"df-92aafea3-1503-4248-ada8-e2c977db8694\">\n",
              "    <div class=\"colab-df-container\">\n",
              "      <div>\n",
              "<style scoped>\n",
              "    .dataframe tbody tr th:only-of-type {\n",
              "        vertical-align: middle;\n",
              "    }\n",
              "\n",
              "    .dataframe tbody tr th {\n",
              "        vertical-align: top;\n",
              "    }\n",
              "\n",
              "    .dataframe thead th {\n",
              "        text-align: right;\n",
              "    }\n",
              "</style>\n",
              "<table border=\"1\" class=\"dataframe\">\n",
              "  <thead>\n",
              "    <tr style=\"text-align: right;\">\n",
              "      <th></th>\n",
              "      <th>Unnamed: 0</th>\n",
              "      <th>text</th>\n",
              "      <th>upvotes</th>\n",
              "      <th>recommended</th>\n",
              "      <th>rating</th>\n",
              "    </tr>\n",
              "  </thead>\n",
              "  <tbody>\n",
              "    <tr>\n",
              "      <th>0</th>\n",
              "      <td>0</td>\n",
              "      <td>I had such high for this dress and really it t...</td>\n",
              "      <td>0</td>\n",
              "      <td>0</td>\n",
              "      <td>3</td>\n",
              "    </tr>\n",
              "    <tr>\n",
              "      <th>1</th>\n",
              "      <td>1</td>\n",
              "      <td>I love love love this it is fun flirty and fab...</td>\n",
              "      <td>0</td>\n",
              "      <td>1</td>\n",
              "      <td>5</td>\n",
              "    </tr>\n",
              "    <tr>\n",
              "      <th>2</th>\n",
              "      <td>2</td>\n",
              "      <td>This shirt is very flattering to all due to th...</td>\n",
              "      <td>6</td>\n",
              "      <td>1</td>\n",
              "      <td>5</td>\n",
              "    </tr>\n",
              "    <tr>\n",
              "      <th>3</th>\n",
              "      <td>3</td>\n",
              "      <td>I love reese but this one is not for the very ...</td>\n",
              "      <td>4</td>\n",
              "      <td>0</td>\n",
              "      <td>2</td>\n",
              "    </tr>\n",
              "  </tbody>\n",
              "</table>\n",
              "</div>\n",
              "      <button class=\"colab-df-convert\" onclick=\"convertToInteractive('df-92aafea3-1503-4248-ada8-e2c977db8694')\"\n",
              "              title=\"Convert this dataframe to an interactive table.\"\n",
              "              style=\"display:none;\">\n",
              "        \n",
              "  <svg xmlns=\"http://www.w3.org/2000/svg\" height=\"24px\"viewBox=\"0 0 24 24\"\n",
              "       width=\"24px\">\n",
              "    <path d=\"M0 0h24v24H0V0z\" fill=\"none\"/>\n",
              "    <path d=\"M18.56 5.44l.94 2.06.94-2.06 2.06-.94-2.06-.94-.94-2.06-.94 2.06-2.06.94zm-11 1L8.5 8.5l.94-2.06 2.06-.94-2.06-.94L8.5 2.5l-.94 2.06-2.06.94zm10 10l.94 2.06.94-2.06 2.06-.94-2.06-.94-.94-2.06-.94 2.06-2.06.94z\"/><path d=\"M17.41 7.96l-1.37-1.37c-.4-.4-.92-.59-1.43-.59-.52 0-1.04.2-1.43.59L10.3 9.45l-7.72 7.72c-.78.78-.78 2.05 0 2.83L4 21.41c.39.39.9.59 1.41.59.51 0 1.02-.2 1.41-.59l7.78-7.78 2.81-2.81c.8-.78.8-2.07 0-2.86zM5.41 20L4 18.59l7.72-7.72 1.47 1.35L5.41 20z\"/>\n",
              "  </svg>\n",
              "      </button>\n",
              "      \n",
              "  <style>\n",
              "    .colab-df-container {\n",
              "      display:flex;\n",
              "      flex-wrap:wrap;\n",
              "      gap: 12px;\n",
              "    }\n",
              "\n",
              "    .colab-df-convert {\n",
              "      background-color: #E8F0FE;\n",
              "      border: none;\n",
              "      border-radius: 50%;\n",
              "      cursor: pointer;\n",
              "      display: none;\n",
              "      fill: #1967D2;\n",
              "      height: 32px;\n",
              "      padding: 0 0 0 0;\n",
              "      width: 32px;\n",
              "    }\n",
              "\n",
              "    .colab-df-convert:hover {\n",
              "      background-color: #E2EBFA;\n",
              "      box-shadow: 0px 1px 2px rgba(60, 64, 67, 0.3), 0px 1px 3px 1px rgba(60, 64, 67, 0.15);\n",
              "      fill: #174EA6;\n",
              "    }\n",
              "\n",
              "    [theme=dark] .colab-df-convert {\n",
              "      background-color: #3B4455;\n",
              "      fill: #D2E3FC;\n",
              "    }\n",
              "\n",
              "    [theme=dark] .colab-df-convert:hover {\n",
              "      background-color: #434B5C;\n",
              "      box-shadow: 0px 1px 3px 1px rgba(0, 0, 0, 0.15);\n",
              "      filter: drop-shadow(0px 1px 2px rgba(0, 0, 0, 0.3));\n",
              "      fill: #FFFFFF;\n",
              "    }\n",
              "  </style>\n",
              "\n",
              "      <script>\n",
              "        const buttonEl =\n",
              "          document.querySelector('#df-92aafea3-1503-4248-ada8-e2c977db8694 button.colab-df-convert');\n",
              "        buttonEl.style.display =\n",
              "          google.colab.kernel.accessAllowed ? 'block' : 'none';\n",
              "\n",
              "        async function convertToInteractive(key) {\n",
              "          const element = document.querySelector('#df-92aafea3-1503-4248-ada8-e2c977db8694');\n",
              "          const dataTable =\n",
              "            await google.colab.kernel.invokeFunction('convertToInteractive',\n",
              "                                                     [key], {});\n",
              "          if (!dataTable) return;\n",
              "\n",
              "          const docLinkHtml = 'Like what you see? Visit the ' +\n",
              "            '<a target=\"_blank\" href=https://colab.research.google.com/notebooks/data_table.ipynb>data table notebook</a>'\n",
              "            + ' to learn more about interactive tables.';\n",
              "          element.innerHTML = '';\n",
              "          dataTable['output_type'] = 'display_data';\n",
              "          await google.colab.output.renderOutput(dataTable, element);\n",
              "          const docLink = document.createElement('div');\n",
              "          docLink.innerHTML = docLinkHtml;\n",
              "          element.appendChild(docLink);\n",
              "        }\n",
              "      </script>\n",
              "    </div>\n",
              "  </div>\n",
              "  "
            ]
          },
          "metadata": {},
          "execution_count": 6
        }
      ]
    },
    {
      "cell_type": "markdown",
      "source": [
        "### Splitting into subsets\n",
        "In the following code cell we are going to split our dataset into 3 sets:\n",
        "\n",
        "1. training\n",
        "2. testing\n",
        "3. validation"
      ],
      "metadata": {
        "id": "eyj1rZefb9xU"
      }
    },
    {
      "cell_type": "code",
      "source": [
        "train_df, test_df= train_test_split(dataframe, random_state=SEED, test_size=.1)\n",
        "test_df, val_df = train_test_split(test_df, random_state=SEED, test_size=.3)"
      ],
      "metadata": {
        "id": "MoPmn9BmUVFC"
      },
      "execution_count": 7,
      "outputs": []
    },
    {
      "cell_type": "markdown",
      "source": [
        "### Counting examples\n",
        "\n",
        "In the following code cell we are going to count how many example belongs to each set and visualize them inform of a table."
      ],
      "metadata": {
        "id": "3LhNEF6Fc4Zz"
      }
    },
    {
      "cell_type": "code",
      "source": [
        "def tabulate(column_names, data, title):\n",
        "  table = PrettyTable(column_names)\n",
        "  table.title= title\n",
        "  table.align[column_names[0]] = 'l'\n",
        "  table.align[column_names[1]] = 'r'\n",
        "  for row in data:\n",
        "    table.add_row(row)\n",
        "  print(table)"
      ],
      "metadata": {
        "id": "PHSWpPhaUVBt"
      },
      "execution_count": 8,
      "outputs": []
    },
    {
      "cell_type": "code",
      "source": [
        "tabulate([\n",
        "    \"Set\", \"Total\"\n",
        "],[\n",
        "   (\"training\", len(train_df)),\n",
        "    (\"testing\", len(test_df)),\n",
        "    (\"validation\", len(val_df)),\n",
        "], \"Counting examples in the dataset.\")"
      ],
      "metadata": {
        "colab": {
          "base_uri": "https://localhost:8080/"
        },
        "id": "V6F5bYwMUU-R",
        "outputId": "5072870f-b077-4b01-c575-90879e9f7d68"
      },
      "execution_count": 9,
      "outputs": [
        {
          "output_type": "stream",
          "name": "stdout",
          "text": [
            "+--------------------------------+\n",
            "| Counting examples in the dataset. |\n",
            "+--------------------+-----------+\n",
            "| Set                |     Total |\n",
            "+--------------------+-----------+\n",
            "| training           |     17695 |\n",
            "| testing            |      1376 |\n",
            "| validation         |       591 |\n",
            "+--------------------+-----------+\n"
          ]
        }
      ]
    },
    {
      "cell_type": "markdown",
      "source": [
        "### Features and Lables\n",
        "We have 2 features and 2 labels in our case. We are going to do some kind of preprocessing for these features and labels. First let's store all the values of features and labels in numpy arrays."
      ],
      "metadata": {
        "id": "u4Ezx8Vwdw_1"
      }
    },
    {
      "cell_type": "code",
      "source": [
        "# Training\n",
        "train_text = train_df.text.values\n",
        "train_up_votes = train_df.upvotes.values\n",
        "train_ratings = train_df.rating.values\n",
        "train_recommends = train_df.recommended.values\n",
        "\n",
        "# Validation\n",
        "val_text = val_df.text.values\n",
        "val_up_votes = val_df.upvotes.values\n",
        "val_ratings = val_df.rating.values\n",
        "val_recommends = val_df.recommended.values\n",
        "\n",
        "# Testing\n",
        "test_text = test_df.text.values\n",
        "test_up_votes = test_df.upvotes.values\n",
        "test_ratings = test_df.rating.values\n",
        "test_recommends = test_df.recommended.values"
      ],
      "metadata": {
        "id": "plZOR2LDUU7D"
      },
      "execution_count": 10,
      "outputs": []
    },
    {
      "cell_type": "markdown",
      "source": [
        "### Labels processing\n",
        "\n",
        "We are going to start by processing the labels. The labels are proccessed differently because we are doing both a binary classification and multi-label classification so they will have different activation functions.\n",
        "\n",
        "### Ratings\n",
        "\n",
        "Ratings start from `1` to `5` we want them to start from `0` to `4` and then `one_hot_encode` them. So that if the class label is `1` then the following will be the `one_hot_vector` for this label:\n",
        "\n",
        "```\n",
        "[0., 1., 0., 0., 0.]\n",
        "```"
      ],
      "metadata": {
        "id": "r9CKc0SHfIyH"
      }
    },
    {
      "cell_type": "code",
      "source": [
        "train_ratings =  np.apply_along_axis(lambda x: x-1, 0, train_ratings)\n",
        "val_ratings =  np.apply_along_axis(lambda x: x-1, 0, val_ratings)\n",
        "test_ratings =  np.apply_along_axis(lambda x: x-1, 0, test_ratings)"
      ],
      "metadata": {
        "id": "FKoC841hUU3v"
      },
      "execution_count": 11,
      "outputs": []
    },
    {
      "cell_type": "code",
      "source": [
        "one_hot_encode = lambda x: np.eye(5)[x]\n",
        "one_hot_encode(1)"
      ],
      "metadata": {
        "colab": {
          "base_uri": "https://localhost:8080/"
        },
        "id": "gtRXyt2JgiRQ",
        "outputId": "42d05646-565a-428a-c25a-978957f9d249"
      },
      "execution_count": 12,
      "outputs": [
        {
          "output_type": "execute_result",
          "data": {
            "text/plain": [
              "array([0., 1., 0., 0., 0.])"
            ]
          },
          "metadata": {},
          "execution_count": 12
        }
      ]
    },
    {
      "cell_type": "code",
      "source": [
        "train_ratings =  np.apply_along_axis(one_hot_encode, 0, train_ratings)\n",
        "val_ratings =  np.apply_along_axis(one_hot_encode, 0, val_ratings)\n",
        "test_ratings =  np.apply_along_axis(one_hot_encode, 0, test_ratings)"
      ],
      "metadata": {
        "id": "_JFonbNih82U"
      },
      "execution_count": 13,
      "outputs": []
    },
    {
      "cell_type": "code",
      "source": [
        "train_ratings[:5]"
      ],
      "metadata": {
        "colab": {
          "base_uri": "https://localhost:8080/"
        },
        "id": "a73qbEbliHK9",
        "outputId": "a48b1f74-d375-45f0-c8cd-87946b21bbe9"
      },
      "execution_count": 14,
      "outputs": [
        {
          "output_type": "execute_result",
          "data": {
            "text/plain": [
              "array([[0., 0., 0., 1., 0.],\n",
              "       [0., 1., 0., 0., 0.],\n",
              "       [0., 0., 0., 0., 1.],\n",
              "       [0., 0., 0., 1., 0.],\n",
              "       [0., 0., 0., 1., 0.]])"
            ]
          },
          "metadata": {},
          "execution_count": 14
        }
      ]
    },
    {
      "cell_type": "markdown",
      "source": [
        "### Recomends\n",
        "\n",
        "Recoments labels are fine we don't need to do anything on them. We can check the few examples in the train set just to see if they are numbers `0` or `1`."
      ],
      "metadata": {
        "id": "OqbSKS3tiLwL"
      }
    },
    {
      "cell_type": "code",
      "source": [
        "train_recommends[:5]"
      ],
      "metadata": {
        "colab": {
          "base_uri": "https://localhost:8080/"
        },
        "id": "XqejWJPAiJIA",
        "outputId": "eb89fb2e-bada-4dc6-d0a9-ddf598609844"
      },
      "execution_count": 15,
      "outputs": [
        {
          "output_type": "execute_result",
          "data": {
            "text/plain": [
              "array([1, 0, 1, 1, 1])"
            ]
          },
          "metadata": {},
          "execution_count": 15
        }
      ]
    },
    {
      "cell_type": "markdown",
      "source": [
        "### Text\n",
        "Computers does not process text directly, we need to change the text to numbers by building a vocabulary which is a word to index mapping. After that we then going to pad the sequences of numbers or trancate the sequences that are longer so that by the end all the sequences should have the same size."
      ],
      "metadata": {
        "id": "s9tPKFcmirL9"
      }
    },
    {
      "cell_type": "code",
      "source": [
        "counter = Counter()\n",
        "for sent in train_text:\n",
        "  counter.update(word_tokenize(sent))"
      ],
      "metadata": {
        "id": "hxCH7eqmiqru"
      },
      "execution_count": 16,
      "outputs": []
    },
    {
      "cell_type": "markdown",
      "source": [
        "Checking the most common words"
      ],
      "metadata": {
        "id": "yeTdf68ZjnWD"
      }
    },
    {
      "cell_type": "code",
      "source": [
        "counter.most_common(10)"
      ],
      "metadata": {
        "colab": {
          "base_uri": "https://localhost:8080/"
        },
        "id": "WEem60asiqnM",
        "outputId": "7c615293-4d19-45e7-a9af-4a837b2a5f25"
      },
      "execution_count": 17,
      "outputs": [
        {
          "output_type": "execute_result",
          "data": {
            "text/plain": [
              "[('the', 61139),\n",
              " ('i', 46609),\n",
              " ('and', 39495),\n",
              " ('it', 39461),\n",
              " ('a', 34719),\n",
              " ('is', 31462),\n",
              " ('to', 19842),\n",
              " ('this', 17271),\n",
              " ('in', 16837),\n",
              " ('not', 14744)]"
            ]
          },
          "metadata": {},
          "execution_count": 17
        }
      ]
    },
    {
      "cell_type": "markdown",
      "source": [
        "### The vocabulary size\n",
        "We are going to use the train words to count how many unique words are there in the `counter` objects so that we can adapt to this."
      ],
      "metadata": {
        "id": "WzBAsjXvjv1K"
      }
    },
    {
      "cell_type": "code",
      "source": [
        "vocab_size = len(counter)\n",
        "vocab_size"
      ],
      "metadata": {
        "colab": {
          "base_uri": "https://localhost:8080/"
        },
        "id": "sw2pBhnpiqkA",
        "outputId": "d6ebed50-da6c-49be-a5d2-dee28194a7b8"
      },
      "execution_count": 18,
      "outputs": [
        {
          "output_type": "execute_result",
          "data": {
            "text/plain": [
              "7799"
            ]
          },
          "metadata": {},
          "execution_count": 18
        }
      ]
    },
    {
      "cell_type": "markdown",
      "source": [
        "In the following code cell we are going to create a tokenizer based on the vocab size that we obtained in the train data and make it adapt on our train text."
      ],
      "metadata": {
        "id": "_PXPxQ0qkQkI"
      }
    },
    {
      "cell_type": "code",
      "source": [
        "tokenizer = keras.preprocessing.text.Tokenizer(\n",
        "    num_words = vocab_size\n",
        ")\n",
        "tokenizer.fit_on_texts(train_text)"
      ],
      "metadata": {
        "id": "Xzop57apjugF"
      },
      "execution_count": 19,
      "outputs": []
    },
    {
      "cell_type": "code",
      "source": [
        "word_indices = tokenizer.word_index\n",
        "word_indices_reversed = dict([(v, k) for (k, v) in word_indices.items()])"
      ],
      "metadata": {
        "id": "1NU-rnaYjucs"
      },
      "execution_count": 20,
      "outputs": []
    },
    {
      "cell_type": "markdown",
      "source": [
        "### Helper functions\n",
        "1. `sequence_to_text`\n",
        "\n",
        "This helper function will convert a sequence of integers to a sequence of text.\n",
        "\n",
        "2. `text_to_sequence`\n",
        "\n",
        "This helper function will convert the sequence of text to sequence of integers."
      ],
      "metadata": {
        "id": "mx8023iikogR"
      }
    },
    {
      "cell_type": "code",
      "source": [
        "def sequence_to_text(sequences):\n",
        "    return \" \".join(word_indices_reversed[i] for i in sequences)\n",
        "    \n",
        "def text_to_sequence(sent):\n",
        "  words = word_tokenize(sent.lower())\n",
        "  sequences = []\n",
        "  for word in words:\n",
        "    try:\n",
        "      sequences.append(word_indices[word])\n",
        "    except:\n",
        "      sequences.append(0)\n",
        "  return sequences"
      ],
      "metadata": {
        "id": "bGxVwbjqjuZQ"
      },
      "execution_count": 21,
      "outputs": []
    },
    {
      "cell_type": "markdown",
      "source": [
        "### Creating sequences\n",
        "\n",
        "We are then going to create sequences for all our 3 sets for the text in the following code cell."
      ],
      "metadata": {
        "id": "AXeZW746k72u"
      }
    },
    {
      "cell_type": "code",
      "source": [
        "train_sequence_tokens = tokenizer.texts_to_sequences(train_text)\n",
        "test_sequence_tokens = tokenizer.texts_to_sequences(test_text)\n",
        "val_sequence_tokens = tokenizer.texts_to_sequences(val_text)"
      ],
      "metadata": {
        "id": "5MjtqFAljuVy"
      },
      "execution_count": 22,
      "outputs": []
    },
    {
      "cell_type": "code",
      "source": [
        "sequence_to_text(train_sequence_tokens[1])"
      ],
      "metadata": {
        "colab": {
          "base_uri": "https://localhost:8080/",
          "height": 70
        },
        "id": "cwr7aklclzqk",
        "outputId": "2c421196-6277-4d88-87e2-da399af57687"
      },
      "execution_count": 23,
      "outputs": [
        {
          "output_type": "execute_result",
          "data": {
            "text/plain": [
              "'just piping in here ordered my usual size of small petite the slip that came with the dress is about a size negative zero it could hardly squeeze over my body and the dress itself is a bright pale aqua and it is a shift and because of the smocking it very strangely i think it very cheap and is ill fitting i would say if you are a person on which shift look awesome you might like this but mind the size of the slip in the range and also it is aqua'"
            ],
            "application/vnd.google.colaboratory.intrinsic+json": {
              "type": "string"
            }
          },
          "metadata": {},
          "execution_count": 23
        }
      ]
    },
    {
      "cell_type": "code",
      "source": [
        "sequence_to_text(test_sequence_tokens[1])"
      ],
      "metadata": {
        "colab": {
          "base_uri": "https://localhost:8080/",
          "height": 70
        },
        "id": "dmKuJ_Z0lzld",
        "outputId": "7cb6dcaf-a462-4135-ce60-1fe996ce6f37"
      },
      "execution_count": 24,
      "outputs": [
        {
          "output_type": "execute_result",
          "data": {
            "text/plain": [
              "'i like the light fabric and embroidery on a otherwise hard look bomber feminine can be worn casually with jeans and a t shirt or over a dress lovely on every note fit i ordered the p and had tried on regular in store tried on the first and kept it did not try on p since the fit is loose bomber on me i like it a little more fitted there is enough room for a sweater i am in waist arms were not too snug either'"
            ],
            "application/vnd.google.colaboratory.intrinsic+json": {
              "type": "string"
            }
          },
          "metadata": {},
          "execution_count": 24
        }
      ]
    },
    {
      "cell_type": "code",
      "source": [
        "sequence_to_text(val_sequence_tokens[1])"
      ],
      "metadata": {
        "colab": {
          "base_uri": "https://localhost:8080/",
          "height": 70
        },
        "id": "tZjb71Hslzh6",
        "outputId": "d174100d-b936-4416-c329-d3144c1e97a0"
      },
      "execution_count": 25,
      "outputs": [
        {
          "output_type": "execute_result",
          "data": {
            "text/plain": [
              "\"i into retailer today to buy for a later i out with this dress and another ugh it is so beautiful in person it ever so slightly out and it definitely that s feel i got it in white and plan on wearing it for my rehearsal dinner with tan and a flower crown for reference ' got some and and i got a medium would have gotten the small but it was slightly shorter\""
            ],
            "application/vnd.google.colaboratory.intrinsic+json": {
              "type": "string"
            }
          },
          "metadata": {},
          "execution_count": 25
        }
      ]
    },
    {
      "cell_type": "markdown",
      "source": [
        "Having a closer look on these sequences they have different lenghts of which they must be padded or truncated so that they will have the same sequence length.This is done in the following code cell."
      ],
      "metadata": {
        "id": "RKslPT49lQXO"
      }
    },
    {
      "cell_type": "code",
      "source": [
        "max_words = 100\n",
        "train_tokens_sequence_padded = keras.preprocessing.sequence.pad_sequences(\n",
        "                                       train_sequence_tokens,\n",
        "                                       maxlen=max_words,\n",
        "                                       padding=\"post\", \n",
        "                                       truncating=\"post\"\n",
        "                                       )\n",
        "test_tokens_sequence_padded = keras.preprocessing.sequence.pad_sequences(\n",
        "                                       test_sequence_tokens,\n",
        "                                       maxlen=max_words,\n",
        "                                       padding=\"post\", \n",
        "                                       truncating=\"post\"\n",
        "                                       )\n",
        "val_tokens_sequence_padded = keras.preprocessing.sequence.pad_sequences(\n",
        "                                       val_sequence_tokens,\n",
        "                                       maxlen=max_words,\n",
        "                                       padding=\"post\", \n",
        "                                       truncating=\"post\"\n",
        "                                       )"
      ],
      "metadata": {
        "id": "l5Gic_R5juSQ"
      },
      "execution_count": 26,
      "outputs": []
    },
    {
      "cell_type": "markdown",
      "source": [
        "### Upvotes\n",
        "\n",
        "Upvotes is a single number so we need to process them as inputs by doing the following.\n",
        "\n",
        "1. first of all we need to expand the dimensions using numpy\n",
        "2. we need to scale our upvotes features using `MinMaxScaler` from sklearn library"
      ],
      "metadata": {
        "id": "74g79nNGmqHp"
      }
    },
    {
      "cell_type": "code",
      "source": [
        "train_up_votes = np.expand_dims(train_up_votes, 1)\n",
        "test_up_votes = np.expand_dims(test_up_votes, 1)\n",
        "val_up_votes = np.expand_dims(val_up_votes, 1)"
      ],
      "metadata": {
        "id": "KHneT2zNjuO-"
      },
      "execution_count": 27,
      "outputs": []
    },
    {
      "cell_type": "code",
      "source": [
        "train_up_votes[:2]"
      ],
      "metadata": {
        "colab": {
          "base_uri": "https://localhost:8080/"
        },
        "id": "51BxCxqCiqg5",
        "outputId": "525459e9-abd6-4a09-e5ac-af77b17a9bfc"
      },
      "execution_count": 28,
      "outputs": [
        {
          "output_type": "execute_result",
          "data": {
            "text/plain": [
              "array([[0],\n",
              "       [9]])"
            ]
          },
          "metadata": {},
          "execution_count": 28
        }
      ]
    },
    {
      "cell_type": "code",
      "source": [
        "scaler = MinMaxScaler()\n",
        "scaler.fit(train_up_votes)"
      ],
      "metadata": {
        "colab": {
          "base_uri": "https://localhost:8080/"
        },
        "id": "Hn4KSV5kiqd5",
        "outputId": "758381de-2884-4e8f-9781-0494547f16e1"
      },
      "execution_count": 29,
      "outputs": [
        {
          "output_type": "execute_result",
          "data": {
            "text/plain": [
              "MinMaxScaler()"
            ]
          },
          "metadata": {},
          "execution_count": 29
        }
      ]
    },
    {
      "cell_type": "code",
      "source": [
        "train_up_votes_scaled = scaler.transform(train_up_votes)\n",
        "test_up_votes_scaled = scaler.transform(test_up_votes)\n",
        "val_up_votes_scaled = scaler.transform(val_up_votes)"
      ],
      "metadata": {
        "id": "B0SnEXxFiqaY"
      },
      "execution_count": 30,
      "outputs": []
    },
    {
      "cell_type": "code",
      "source": [
        "val_up_votes_scaled[:5]"
      ],
      "metadata": {
        "colab": {
          "base_uri": "https://localhost:8080/"
        },
        "id": "kcomDriCiqXJ",
        "outputId": "680bdc94-dd1f-45c8-cf73-c68c2fef927c"
      },
      "execution_count": 31,
      "outputs": [
        {
          "output_type": "execute_result",
          "data": {
            "text/plain": [
              "array([[0.        ],\n",
              "       [0.04098361],\n",
              "       [0.        ],\n",
              "       [0.00819672],\n",
              "       [0.        ]])"
            ]
          },
          "metadata": {},
          "execution_count": 31
        }
      ]
    },
    {
      "cell_type": "markdown",
      "source": [
        "### Pretrained word Embeddings\n",
        "We are going to load the `Glove.6B.100d` word vectors that was uploaded in the google drive as a `txt` file. These word embeddings vectors was trained on `~6B` words and are `100` dimension."
      ],
      "metadata": {
        "id": "dv8ZZesooul-"
      }
    },
    {
      "cell_type": "code",
      "source": [
        "embedding_path = \"/content/drive/MyDrive/NLP Data/glove.6B/glove.6B.100d.txt\"\n",
        "assert os.path.exists(embedding_path) == True, \"The path does not exists\""
      ],
      "metadata": {
        "id": "hDcfTFu3iqT_"
      },
      "execution_count": 32,
      "outputs": []
    },
    {
      "cell_type": "code",
      "source": [
        "embeddings_dictionary = dict()\n",
        "with open(embedding_path, encoding='utf8') as glove_file:\n",
        "  for line in glove_file:\n",
        "    records = line.split()\n",
        "    word  = records[0]\n",
        "    vectors = np.asarray(records[1:], dtype='float32')\n",
        "    embeddings_dictionary[word] = vectors"
      ],
      "metadata": {
        "id": "fZFHH4y5iqQ3"
      },
      "execution_count": 33,
      "outputs": []
    },
    {
      "cell_type": "markdown",
      "source": [
        "Next we are going to create the embedding matrix that suits our data."
      ],
      "metadata": {
        "id": "GXWtPdEupJ_m"
      }
    },
    {
      "cell_type": "code",
      "source": [
        "embedding_matrix = np.zeros((vocab_size, 100))\n",
        "for word, index in tokenizer.word_index.items():\n",
        "  vector = embeddings_dictionary.get(word)\n",
        "  if vector is not None:\n",
        "    try:\n",
        "      embedding_matrix[index] = vector\n",
        "    except:\n",
        "      pass"
      ],
      "metadata": {
        "id": "a01io5sZiqNa"
      },
      "execution_count": 34,
      "outputs": []
    },
    {
      "cell_type": "markdown",
      "source": [
        "### Model\n",
        "\n",
        "We are going to create a model using the `Sub Class API` from keras.\n"
      ],
      "metadata": {
        "id": "EYAJS_2OpWaf"
      }
    },
    {
      "cell_type": "code",
      "source": [
        "class APR(keras.Model):\n",
        "  def __init__(self):\n",
        "    super(APR, self).__init__()\n",
        "    # layers for bidirectional\n",
        "    forward_layer = keras.layers.GRU(\n",
        "      128, return_sequences=True, dropout=.5,\n",
        "      name=\"gru_forward_layer\"\n",
        "    )\n",
        "    backward_layer = keras.layers.LSTM(\n",
        "      128, return_sequences=True, dropout=.5,\n",
        "      go_backwards=True, name=\"lstm_backward_layer\"\n",
        "    )\n",
        "    self.embedding = keras.layers.Embedding(\n",
        "          vocab_size, 100, \n",
        "          input_length=max_words,\n",
        "          weights=[embedding_matrix], \n",
        "          trainable=True,\n",
        "          name = \"embedding_layer\"\n",
        "    )\n",
        "    self.bidirectional = keras.layers.Bidirectional(\n",
        "        forward_layer,\n",
        "        backward_layer = backward_layer,\n",
        "        name= \"bidirectional_layer\"\n",
        "    )\n",
        "    self.gru_layer = keras.layers.GRU(\n",
        "              512, return_sequences=True,\n",
        "              dropout=.5,\n",
        "              name= \"gru_layer\"\n",
        "      )\n",
        "    self.lstm_layer = keras.layers.LSTM(\n",
        "              512, return_sequences=True,\n",
        "              dropout=.5,\n",
        "              name=\"lstm_layer\"\n",
        "    )\n",
        "    self.fc_1 = keras.layers.Dense(512, activation=\"relu\", name=\"upvote_fc1\")\n",
        "    self.pooling_layer = keras.layers.GlobalAveragePooling1D(\n",
        "          name=\"average_pooling_layer\"\n",
        "    )\n",
        "    self.concatenate_layer = keras.layers.Concatenate(name=\"concatenate_layer_layer\")\n",
        "\n",
        "    self.dense_1 = keras.layers.Dense(64, activation='relu', name=\"dense_1\")\n",
        "    self.dropout_1 = keras.layers.Dropout(rate= .5, name=\"dropout_layer_0\")\n",
        "    self.dense_2 = keras.layers.Dense(512, activation='relu', name=\"dense_2\")\n",
        "    self.dropout_2 =  keras.layers.Dropout(rate= .5, name=\"dropout_layer_1\")\n",
        "    self.dense_3 = keras.layers.Dense(128, activation='relu', name=\"dense_3\")\n",
        "    self.dropout_3 = keras.layers.Dropout(rate= .5, name=\"dropout_layer_2\")\n",
        "    self.rating_output = keras.layers.Dense(5, activation='softmax', name=\"rating_output\")\n",
        "    self.recommend_output = keras.layers.Dense(1, activation='sigmoid', name=\"recommend_output\")\n",
        "        \n",
        "  def call(self, inputs):\n",
        "    text, upvote = inputs\n",
        "    # Leaning the text features\n",
        "    x_1 = self.embedding(text)\n",
        "    x_1 = self.bidirectional(x_1)\n",
        "    x_1 = self.gru_layer(x_1)\n",
        "    x_1 = self.lstm_layer(x_1)\n",
        "    x_1 = self.pooling_layer(x_1)\n",
        "\n",
        "    # Learning the upvotes\n",
        "    x_2 = self.fc_1(upvote)\n",
        "\n",
        "    # concatenation\n",
        "    x = self.concatenate_layer([x_1, x_2])\n",
        "\n",
        "    # leaning combinned features\n",
        "    x = self.dense_1(self.dropout_1(x))\n",
        "    x = self.dense_2(self.dropout_2(x))\n",
        "    x = self.dense_3(self.dropout_3(x))\n",
        "\n",
        "    # outputs\n",
        "    rating = self.rating_output(x)\n",
        "    recommend = self.recommend_output(x)\n",
        "    return rating, recommend"
      ],
      "metadata": {
        "id": "m5PuAg-_iqKR"
      },
      "execution_count": 35,
      "outputs": []
    },
    {
      "cell_type": "code",
      "source": [
        "apr_model = APR()\n",
        "apr_model.build([(None, 100), (None, 1)])\n",
        "apr_model.summary()"
      ],
      "metadata": {
        "colab": {
          "base_uri": "https://localhost:8080/"
        },
        "id": "Z3ipwVxViqHO",
        "outputId": "1778a6af-0bb0-4a8a-a75a-93962acfe293"
      },
      "execution_count": 36,
      "outputs": [
        {
          "output_type": "stream",
          "name": "stdout",
          "text": [
            "Model: \"apr\"\n",
            "_________________________________________________________________\n",
            " Layer (type)                Output Shape              Param #   \n",
            "=================================================================\n",
            " embedding_layer (Embedding)  multiple                 779900    \n",
            "                                                                 \n",
            " bidirectional_layer (Bidire  multiple                 205568    \n",
            " ctional)                                                        \n",
            "                                                                 \n",
            " gru_layer (GRU)             multiple                  1182720   \n",
            "                                                                 \n",
            " lstm_layer (LSTM)           multiple                  2099200   \n",
            "                                                                 \n",
            " upvote_fc1 (Dense)          multiple                  1024      \n",
            "                                                                 \n",
            " average_pooling_layer (Glob  multiple                 0         \n",
            " alAveragePooling1D)                                             \n",
            "                                                                 \n",
            " concatenate_layer_layer (Co  multiple                 0         \n",
            " ncatenate)                                                      \n",
            "                                                                 \n",
            " dense_1 (Dense)             multiple                  65600     \n",
            "                                                                 \n",
            " dropout_layer_0 (Dropout)   multiple                  0         \n",
            "                                                                 \n",
            " dense_2 (Dense)             multiple                  33280     \n",
            "                                                                 \n",
            " dropout_layer_1 (Dropout)   multiple                  0         \n",
            "                                                                 \n",
            " dense_3 (Dense)             multiple                  65664     \n",
            "                                                                 \n",
            " dropout_layer_2 (Dropout)   multiple                  0         \n",
            "                                                                 \n",
            " rating_output (Dense)       multiple                  645       \n",
            "                                                                 \n",
            " recommend_output (Dense)    multiple                  129       \n",
            "                                                                 \n",
            "=================================================================\n",
            "Total params: 4,433,730\n",
            "Trainable params: 4,433,730\n",
            "Non-trainable params: 0\n",
            "_________________________________________________________________\n"
          ]
        }
      ]
    },
    {
      "cell_type": "markdown",
      "source": [
        "### Combiling the model\n",
        "In the following code cell we are going to combile our model. Note that we have multiple labels which means we require 2 different activation functions. We are going to use the following loss functions:\n",
        "\n",
        "1. `recommend_output` - `BinaryCrossentropy`\n",
        "2. `rating_output` - `CategoricalCrossentropy`\n",
        "\n",
        "For the optimizer we are going to use the `Adam` with default paramaters."
      ],
      "metadata": {
        "id": "_H7U-zxuxLZz"
      }
    },
    {
      "cell_type": "code",
      "source": [
        "recommend_output_early_stoping = keras.callbacks.EarlyStopping(\n",
        "    monitor='val_output_2_loss',\n",
        "    min_delta=0,\n",
        "    patience=5,\n",
        "    verbose=1,\n",
        "    mode='auto',\n",
        "    baseline=None,\n",
        "    restore_best_weights=False,\n",
        ")\n",
        "rating_output_early_stoping = keras.callbacks.EarlyStopping(\n",
        "    monitor='val_output_1_loss',\n",
        "    min_delta=0,\n",
        "    patience=5,\n",
        "    verbose=1,\n",
        "    mode='auto',\n",
        "    baseline=None,\n",
        "    restore_best_weights=False,\n",
        ")\n",
        "\n",
        "apr_model.compile(\n",
        "    loss = {\n",
        "        \"output_2\" : keras.losses.BinaryCrossentropy(from_logits=False),\n",
        "        \"output_1\" : keras.losses.CategoricalCrossentropy(from_logits=False)\n",
        "    },\n",
        "    metrics = ['accuracy'],\n",
        "    optimizer = keras.optimizers.Adam()\n",
        ")"
      ],
      "metadata": {
        "id": "5tWDc7RDiqAQ"
      },
      "execution_count": 37,
      "outputs": []
    },
    {
      "cell_type": "markdown",
      "source": [
        "### Training the model\n",
        "\n",
        "In the following code cell we are going to train our model.\n"
      ],
      "metadata": {
        "id": "Fs9wL3nWip0q"
      }
    },
    {
      "cell_type": "code",
      "source": [
        "BATCH_SIZE = 128\n",
        "EPOCHS = 50\n",
        "\n",
        "history = apr_model.fit(\n",
        "    x = [train_tokens_sequence_padded, train_up_votes_scaled], \n",
        "    y = [train_ratings, train_recommends.astype('int32')],\n",
        "    epochs = EPOCHS,\n",
        "    verbose = 1,\n",
        "    shuffle=True,\n",
        "    batch_size= BATCH_SIZE,\n",
        "    validation_data=([val_tokens_sequence_padded, val_up_votes_scaled], [val_ratings, val_recommends.astype('int32')]),\n",
        "    validation_batch_size = BATCH_SIZE//2,\n",
        "    callbacks =[recommend_output_early_stoping, rating_output_early_stoping]\n",
        ")"
      ],
      "metadata": {
        "colab": {
          "base_uri": "https://localhost:8080/"
        },
        "id": "qq759qUJipxa",
        "outputId": "5a1c1df8-8e72-4e69-a12f-e6f8fe656231"
      },
      "execution_count": 38,
      "outputs": [
        {
          "output_type": "stream",
          "name": "stdout",
          "text": [
            "Epoch 1/50\n",
            "139/139 [==============================] - 50s 254ms/step - loss: 1.7192 - output_1_loss: 1.2454 - output_2_loss: 0.4738 - output_1_accuracy: 0.5430 - output_2_accuracy: 0.8142 - val_loss: 1.5222 - val_output_1_loss: 1.1237 - val_output_2_loss: 0.3986 - val_output_1_accuracy: 0.5719 - val_output_2_accuracy: 0.8325\n",
            "Epoch 2/50\n",
            "139/139 [==============================] - 34s 242ms/step - loss: 1.4458 - output_1_loss: 1.0831 - output_2_loss: 0.3626 - output_1_accuracy: 0.5499 - output_2_accuracy: 0.8170 - val_loss: 1.4370 - val_output_1_loss: 1.0811 - val_output_2_loss: 0.3559 - val_output_1_accuracy: 0.5719 - val_output_2_accuracy: 0.8325\n",
            "Epoch 3/50\n",
            "139/139 [==============================] - 34s 243ms/step - loss: 1.3218 - output_1_loss: 1.0070 - output_2_loss: 0.3148 - output_1_accuracy: 0.5791 - output_2_accuracy: 0.8328 - val_loss: 1.2036 - val_output_1_loss: 0.9438 - val_output_2_loss: 0.2597 - val_output_1_accuracy: 0.6176 - val_output_2_accuracy: 0.8816\n",
            "Epoch 4/50\n",
            "139/139 [==============================] - 34s 242ms/step - loss: 1.2391 - output_1_loss: 0.9554 - output_2_loss: 0.2837 - output_1_accuracy: 0.6038 - output_2_accuracy: 0.8687 - val_loss: 1.1658 - val_output_1_loss: 0.9192 - val_output_2_loss: 0.2466 - val_output_1_accuracy: 0.6261 - val_output_2_accuracy: 0.8866\n",
            "Epoch 5/50\n",
            "139/139 [==============================] - 34s 243ms/step - loss: 1.1759 - output_1_loss: 0.9176 - output_2_loss: 0.2583 - output_1_accuracy: 0.6135 - output_2_accuracy: 0.8845 - val_loss: 1.1376 - val_output_1_loss: 0.8996 - val_output_2_loss: 0.2380 - val_output_1_accuracy: 0.6328 - val_output_2_accuracy: 0.8985\n",
            "Epoch 6/50\n",
            "139/139 [==============================] - 34s 243ms/step - loss: 1.1347 - output_1_loss: 0.8904 - output_2_loss: 0.2443 - output_1_accuracy: 0.6200 - output_2_accuracy: 0.8926 - val_loss: 1.0899 - val_output_1_loss: 0.8695 - val_output_2_loss: 0.2204 - val_output_1_accuracy: 0.6294 - val_output_2_accuracy: 0.8917\n",
            "Epoch 7/50\n",
            "139/139 [==============================] - 34s 243ms/step - loss: 1.0975 - output_1_loss: 0.8698 - output_2_loss: 0.2277 - output_1_accuracy: 0.6255 - output_2_accuracy: 0.8994 - val_loss: 1.1122 - val_output_1_loss: 0.8750 - val_output_2_loss: 0.2372 - val_output_1_accuracy: 0.6125 - val_output_2_accuracy: 0.8832\n",
            "Epoch 8/50\n",
            "139/139 [==============================] - 34s 243ms/step - loss: 1.0754 - output_1_loss: 0.8539 - output_2_loss: 0.2215 - output_1_accuracy: 0.6347 - output_2_accuracy: 0.9034 - val_loss: 1.0754 - val_output_1_loss: 0.8517 - val_output_2_loss: 0.2237 - val_output_1_accuracy: 0.6277 - val_output_2_accuracy: 0.8968\n",
            "Epoch 9/50\n",
            "139/139 [==============================] - 34s 242ms/step - loss: 1.0453 - output_1_loss: 0.8358 - output_2_loss: 0.2095 - output_1_accuracy: 0.6338 - output_2_accuracy: 0.9081 - val_loss: 1.2151 - val_output_1_loss: 0.9518 - val_output_2_loss: 0.2633 - val_output_1_accuracy: 0.6007 - val_output_2_accuracy: 0.8748\n",
            "Epoch 10/50\n",
            "139/139 [==============================] - 34s 242ms/step - loss: 1.0263 - output_1_loss: 0.8217 - output_2_loss: 0.2046 - output_1_accuracy: 0.6399 - output_2_accuracy: 0.9122 - val_loss: 1.0764 - val_output_1_loss: 0.8627 - val_output_2_loss: 0.2137 - val_output_1_accuracy: 0.6481 - val_output_2_accuracy: 0.8900\n",
            "Epoch 11/50\n",
            "139/139 [==============================] - 34s 243ms/step - loss: 1.0046 - output_1_loss: 0.8073 - output_2_loss: 0.1974 - output_1_accuracy: 0.6462 - output_2_accuracy: 0.9169 - val_loss: 1.0556 - val_output_1_loss: 0.8400 - val_output_2_loss: 0.2156 - val_output_1_accuracy: 0.6176 - val_output_2_accuracy: 0.8917\n",
            "Epoch 12/50\n",
            "139/139 [==============================] - 34s 242ms/step - loss: 0.9850 - output_1_loss: 0.7939 - output_2_loss: 0.1911 - output_1_accuracy: 0.6498 - output_2_accuracy: 0.9182 - val_loss: 1.0947 - val_output_1_loss: 0.8628 - val_output_2_loss: 0.2319 - val_output_1_accuracy: 0.6210 - val_output_2_accuracy: 0.8832\n",
            "Epoch 13/50\n",
            "139/139 [==============================] - 34s 243ms/step - loss: 0.9652 - output_1_loss: 0.7806 - output_2_loss: 0.1846 - output_1_accuracy: 0.6578 - output_2_accuracy: 0.9219 - val_loss: 1.1665 - val_output_1_loss: 0.9112 - val_output_2_loss: 0.2553 - val_output_1_accuracy: 0.6159 - val_output_2_accuracy: 0.8748\n",
            "Epoch 14/50\n",
            "139/139 [==============================] - 34s 243ms/step - loss: 0.9440 - output_1_loss: 0.7635 - output_2_loss: 0.1805 - output_1_accuracy: 0.6600 - output_2_accuracy: 0.9247 - val_loss: 1.1123 - val_output_1_loss: 0.8724 - val_output_2_loss: 0.2399 - val_output_1_accuracy: 0.6328 - val_output_2_accuracy: 0.8816\n",
            "Epoch 15/50\n",
            "139/139 [==============================] - 34s 242ms/step - loss: 0.9338 - output_1_loss: 0.7599 - output_2_loss: 0.1739 - output_1_accuracy: 0.6636 - output_2_accuracy: 0.9263 - val_loss: 1.1155 - val_output_1_loss: 0.8732 - val_output_2_loss: 0.2423 - val_output_1_accuracy: 0.6277 - val_output_2_accuracy: 0.8849\n",
            "Epoch 15: early stopping\n"
          ]
        }
      ]
    },
    {
      "cell_type": "markdown",
      "source": [
        "### Training history visualization\n",
        "In the next code cell we are going to visualize the training history of our model."
      ],
      "metadata": {
        "id": "70wuNxDH6PZJ"
      }
    },
    {
      "cell_type": "code",
      "source": [
        "pd.DataFrame(history.history).plot(figsize=(8,5))\n",
        "plt.title(\"Training history\")\n",
        "plt.xlabel = \"Epoch(s)\"\n",
        "plt.ylabel = \"loss/accuracy\"\n",
        "plt.show()\n"
      ],
      "metadata": {
        "id": "XHuKeiecEh_f",
        "colab": {
          "base_uri": "https://localhost:8080/",
          "height": 336
        },
        "outputId": "1618ada0-83e0-4f9c-e714-63a44b54ee99"
      },
      "execution_count": 40,
      "outputs": [
        {
          "output_type": "display_data",
          "data": {
            "text/plain": [
              "<Figure size 576x360 with 1 Axes>"
            ],
            "image/png": "[encoded data removed]"
          },
          "metadata": {
            "needs_background": "light"
          }
        }
      ]
    },
    {
      "cell_type": "markdown",
      "source": [
        "### Evaluating the Model\n",
        "\n",
        "In the following code cell we are going to evaluate the `apr_model`."
      ],
      "metadata": {
        "id": "arXEfkkg83Yy"
      }
    },
    {
      "cell_type": "code",
      "source": [
        "apr_model.evaluate(\n",
        "    x = [test_tokens_sequence_padded, test_up_votes_scaled], \n",
        "    y = [test_ratings, test_recommends.astype('int32')],\n",
        "   verbose=1, batch_size=BATCH_SIZE//2\n",
        ")"
      ],
      "metadata": {
        "colab": {
          "base_uri": "https://localhost:8080/"
        },
        "id": "ILLCHSxjipuS",
        "outputId": "25996eac-00ed-4bac-a8d5-69c42ffc6f18"
      },
      "execution_count": 41,
      "outputs": [
        {
          "output_type": "stream",
          "name": "stdout",
          "text": [
            "22/22 [==============================] - 2s 68ms/step - loss: 1.0770 - output_1_loss: 0.8466 - output_2_loss: 0.2303 - output_1_accuracy: 0.6657 - output_2_accuracy: 0.8968\n"
          ]
        },
        {
          "output_type": "execute_result",
          "data": {
            "text/plain": [
              "[1.0769803524017334,\n",
              " 0.8466321229934692,\n",
              " 0.2303483635187149,\n",
              " 0.6656976938247681,\n",
              " 0.8968023061752319]"
            ]
          },
          "metadata": {},
          "execution_count": 41
        }
      ]
    },
    {
      "cell_type": "markdown",
      "source": [
        "### Model Inference\n",
        "\n",
        "In the following code cell we are going to create a function that will make product recommentations based on two inputs:\n",
        "\n",
        "1. text_review\n",
        "2. text_review_upvote\n",
        "\n",
        "So the pipeline for all our features will be the same as what we did in during training."
      ],
      "metadata": {
        "id": "dCXwk6t69STz"
      }
    },
    {
      "cell_type": "code",
      "source": [
        "def apr_predictor(text_review: str, text_review_upvote:int, model):\n",
        "  recomment_classes =[\"NOT RECOMMENDED\", \"RECOMMENDED\"]\n",
        "  recomment_emoji = [\"👎\", \"👍\"]\n",
        "  tokens = text_to_sequence(text_review)\n",
        "  padded_tokens = keras.preprocessing.sequence.pad_sequences([tokens],\n",
        "                                maxlen=max_words,\n",
        "                                padding=\"post\", \n",
        "                                truncating=\"post\"\n",
        "                                )\n",
        "  \n",
        "  text_review_upvote = scaler.transform([text_review_upvote])\n",
        "  inputs = [padded_tokens, text_review_upvote]\n",
        "  rating_pred, recommend_pred = model.predict(inputs)\n",
        "\n",
        "  rating_pred = np.squeeze(rating_pred)\n",
        "  rating_label = np.argmax(rating_pred)\n",
        "  recomment_pred = tf.squeeze(recommend_pred).numpy()\n",
        "  recomment_label = 1 if recomment_pred >=0.5 else 0\n",
        "  probability = float(round(recomment_pred, 3)) if recomment_pred >= 0.5 else float(round(1 - recomment_pred, 3))\n",
        "\n",
        "  pred_obj ={\n",
        "      \"recommend\": {\n",
        "        \"label\": recomment_label,\n",
        "        \"probability\": probability,\n",
        "        \"class_\": recomment_classes[recomment_label],\n",
        "        \"emoji\": recomment_emoji[recomment_label]\n",
        "      },\n",
        "      \"rating\":{\n",
        "          \"rating\": rating_label+1,\n",
        "          \"stars\": \"⭐\" * (rating_label +1),\n",
        "          \"probability\": float(round(rating_pred[rating_label], 3))\n",
        "      }\n",
        "  }\n",
        "  return pred_obj\n",
        "\n",
        "apr_predictor(test_text[0], test_up_votes[0], apr_model)"
      ],
      "metadata": {
        "colab": {
          "base_uri": "https://localhost:8080/"
        },
        "id": "HrQXnhejipq8",
        "outputId": "e84f4f83-b11a-4f6d-b8b4-d5be1d50b85e"
      },
      "execution_count": 42,
      "outputs": [
        {
          "output_type": "execute_result",
          "data": {
            "text/plain": [
              "{'rating': {'probability': 0.46700000762939453, 'rating': 3, 'stars': '⭐⭐⭐'},\n",
              " 'recommend': {'class_': 'NOT RECOMMENDED',\n",
              "  'emoji': '👎',\n",
              "  'label': 0,\n",
              "  'probability': 0.722}}"
            ]
          },
          "metadata": {},
          "execution_count": 42
        }
      ]
    },
    {
      "cell_type": "markdown",
      "source": [
        "### Saving and downloading the model.\n",
        "\n",
        "In the following code cell we are going to download and save our model as an `.h5` static file."
      ],
      "metadata": {
        "id": "5kH68DrUij1D"
      }
    },
    {
      "cell_type": "code",
      "source": [
        "MODEL_NAME = 'apr-model.h5'\n",
        "apr_model.save_weights(MODEL_NAME)"
      ],
      "metadata": {
        "id": "6-2Cix9nDTod"
      },
      "execution_count": 46,
      "outputs": []
    },
    {
      "cell_type": "code",
      "source": [
        "files.download(MODEL_NAME)"
      ],
      "metadata": {
        "colab": {
          "base_uri": "https://localhost:8080/",
          "height": 17
        },
        "id": "bYxvqfMk8eVX",
        "outputId": "62124b2c-3c37-4005-cb04-bc32d611c758"
      },
      "execution_count": 47,
      "outputs": [
        {
          "output_type": "display_data",
          "data": {
            "text/plain": [
              "<IPython.core.display.Javascript object>"
            ],
            "application/javascript": [
              "\n",
              "    async function download(id, filename, size) {\n",
              "      if (!google.colab.kernel.accessAllowed) {\n",
              "        return;\n",
              "      }\n",
              "      const div = document.createElement('div');\n",
              "      const label = document.createElement('label');\n",
              "      label.textContent = `Downloading \"${filename}\": `;\n",
              "      div.appendChild(label);\n",
              "      const progress = document.createElement('progress');\n",
              "      progress.max = size;\n",
              "      div.appendChild(progress);\n",
              "      document.body.appendChild(div);\n",
              "\n",
              "      const buffers = [];\n",
              "      let downloaded = 0;\n",
              "\n",
              "      const channel = await google.colab.kernel.comms.open(id);\n",
              "      // Send a message to notify the kernel that we're ready.\n",
              "      channel.send({})\n",
              "\n",
              "      for await (const message of channel.messages) {\n",
              "        // Send a message to notify the kernel that we're ready.\n",
              "        channel.send({})\n",
              "        if (message.buffers) {\n",
              "          for (const buffer of message.buffers) {\n",
              "            buffers.push(buffer);\n",
              "            downloaded += buffer.byteLength;\n",
              "            progress.value = downloaded;\n",
              "          }\n",
              "        }\n",
              "      }\n",
              "      const blob = new Blob(buffers, {type: 'application/binary'});\n",
              "      const a = document.createElement('a');\n",
              "      a.href = window.URL.createObjectURL(blob);\n",
              "      a.download = filename;\n",
              "      div.appendChild(a);\n",
              "      a.click();\n",
              "      div.remove();\n",
              "    }\n",
              "  "
            ]
          },
          "metadata": {}
        },
        {
          "output_type": "display_data",
          "data": {
            "text/plain": [
              "<IPython.core.display.Javascript object>"
            ],
            "application/javascript": [
              "download(\"download_179c0255-5140-4b08-924d-782448ae24a3\", \"apr-model.h5\", 17783800)"
            ]
          },
          "metadata": {}
        }
      ]
    },
    {
      "cell_type": "markdown",
      "source": [
        "### Saving and downloading the vocabulary\n",
        "In the following code cell we are going to save and download the vocabulary that we used as a `json` file.\n"
      ],
      "metadata": {
        "id": "FwoG8fdBDe6w"
      }
    },
    {
      "cell_type": "code",
      "source": [
        "with open('vocab.json', 'w') as f:\n",
        "  json.dump(word_indices, f)\n",
        "\n",
        "files.download('vocab.json')"
      ],
      "metadata": {
        "id": "IwsQv0HSDsJQ",
        "colab": {
          "base_uri": "https://localhost:8080/",
          "height": 17
        },
        "outputId": "2b2e3b66-df65-47e9-df02-fe9b638ebb2c"
      },
      "execution_count": 48,
      "outputs": [
        {
          "output_type": "display_data",
          "data": {
            "text/plain": [
              "<IPython.core.display.Javascript object>"
            ],
            "application/javascript": [
              "\n",
              "    async function download(id, filename, size) {\n",
              "      if (!google.colab.kernel.accessAllowed) {\n",
              "        return;\n",
              "      }\n",
              "      const div = document.createElement('div');\n",
              "      const label = document.createElement('label');\n",
              "      label.textContent = `Downloading \"${filename}\": `;\n",
              "      div.appendChild(label);\n",
              "      const progress = document.createElement('progress');\n",
              "      progress.max = size;\n",
              "      div.appendChild(progress);\n",
              "      document.body.appendChild(div);\n",
              "\n",
              "      const buffers = [];\n",
              "      let downloaded = 0;\n",
              "\n",
              "      const channel = await google.colab.kernel.comms.open(id);\n",
              "      // Send a message to notify the kernel that we're ready.\n",
              "      channel.send({})\n",
              "\n",
              "      for await (const message of channel.messages) {\n",
              "        // Send a message to notify the kernel that we're ready.\n",
              "        channel.send({})\n",
              "        if (message.buffers) {\n",
              "          for (const buffer of message.buffers) {\n",
              "            buffers.push(buffer);\n",
              "            downloaded += buffer.byteLength;\n",
              "            progress.value = downloaded;\n",
              "          }\n",
              "        }\n",
              "      }\n",
              "      const blob = new Blob(buffers, {type: 'application/binary'});\n",
              "      const a = document.createElement('a');\n",
              "      a.href = window.URL.createObjectURL(blob);\n",
              "      a.download = filename;\n",
              "      div.appendChild(a);\n",
              "      a.click();\n",
              "      div.remove();\n",
              "    }\n",
              "  "
            ]
          },
          "metadata": {}
        },
        {
          "output_type": "display_data",
          "data": {
            "text/plain": [
              "<IPython.core.display.Javascript object>"
            ],
            "application/javascript": [
              "download(\"download_2cd7bdc2-6667-40f3-b7f0-212bd499e246\", \"vocab.json\", 121823)"
            ]
          },
          "metadata": {}
        }
      ]
    },
    {
      "cell_type": "code",
      "source": [
        "len(word_indices)"
      ],
      "metadata": {
        "colab": {
          "base_uri": "https://localhost:8080/"
        },
        "id": "Kt8f0XwdDfwT",
        "outputId": "5bb825f7-8cea-4ed8-9927-df7ed827c665"
      },
      "execution_count": 52,
      "outputs": [
        {
          "output_type": "execute_result",
          "data": {
            "text/plain": [
              "7396"
            ]
          },
          "metadata": {},
          "execution_count": 52
        }
      ]
    },
    {
      "cell_type": "code",
      "source": [
        "vocab_size"
      ],
      "metadata": {
        "colab": {
          "base_uri": "https://localhost:8080/"
        },
        "id": "hjOBX73WDina",
        "outputId": "62541b3a-b505-4084-fdcd-ebd23c50f050"
      },
      "execution_count": 53,
      "outputs": [
        {
          "output_type": "execute_result",
          "data": {
            "text/plain": [
              "7799"
            ]
          },
          "metadata": {},
          "execution_count": 53
        }
      ]
    },
    {
      "cell_type": "markdown",
      "source": [
        "### Saving and downloading the `train_up_votes`\n",
        "\n",
        "We need to save and download `train_up_votes` so that we will create a `scaler` that we will use during `up_votes` preprocessing."
      ],
      "metadata": {
        "id": "-ukIdPNUDzvY"
      }
    },
    {
      "cell_type": "code",
      "source": [
        "np.save('upvotes.npy', train_up_votes)\n",
        "files.download('upvotes.npy')"
      ],
      "metadata": {
        "id": "2Uj24Wn0ENQ8",
        "colab": {
          "base_uri": "https://localhost:8080/",
          "height": 17
        },
        "outputId": "2cdd300f-ba66-482f-d060-727e5765bf71"
      },
      "execution_count": 51,
      "outputs": [
        {
          "output_type": "display_data",
          "data": {
            "text/plain": [
              "<IPython.core.display.Javascript object>"
            ],
            "application/javascript": [
              "\n",
              "    async function download(id, filename, size) {\n",
              "      if (!google.colab.kernel.accessAllowed) {\n",
              "        return;\n",
              "      }\n",
              "      const div = document.createElement('div');\n",
              "      const label = document.createElement('label');\n",
              "      label.textContent = `Downloading \"${filename}\": `;\n",
              "      div.appendChild(label);\n",
              "      const progress = document.createElement('progress');\n",
              "      progress.max = size;\n",
              "      div.appendChild(progress);\n",
              "      document.body.appendChild(div);\n",
              "\n",
              "      const buffers = [];\n",
              "      let downloaded = 0;\n",
              "\n",
              "      const channel = await google.colab.kernel.comms.open(id);\n",
              "      // Send a message to notify the kernel that we're ready.\n",
              "      channel.send({})\n",
              "\n",
              "      for await (const message of channel.messages) {\n",
              "        // Send a message to notify the kernel that we're ready.\n",
              "        channel.send({})\n",
              "        if (message.buffers) {\n",
              "          for (const buffer of message.buffers) {\n",
              "            buffers.push(buffer);\n",
              "            downloaded += buffer.byteLength;\n",
              "            progress.value = downloaded;\n",
              "          }\n",
              "        }\n",
              "      }\n",
              "      const blob = new Blob(buffers, {type: 'application/binary'});\n",
              "      const a = document.createElement('a');\n",
              "      a.href = window.URL.createObjectURL(blob);\n",
              "      a.download = filename;\n",
              "      div.appendChild(a);\n",
              "      a.click();\n",
              "      div.remove();\n",
              "    }\n",
              "  "
            ]
          },
          "metadata": {}
        },
        {
          "output_type": "display_data",
          "data": {
            "text/plain": [
              "<IPython.core.display.Javascript object>"
            ],
            "application/javascript": [
              "download(\"download_5944d5d3-a814-4cb8-b723-de38dd529123\", \"upvotes.npy\", 141688)"
            ]
          },
          "metadata": {}
        }
      ]
    },
    {
      "cell_type": "code",
      "source": [
        "train_text[0]"
      ],
      "metadata": {
        "colab": {
          "base_uri": "https://localhost:8080/",
          "height": 53
        },
        "id": "SJ97H3HqCwFQ",
        "outputId": "08bebb57-13aa-4626-909d-4afa74f37546"
      },
      "execution_count": 54,
      "outputs": [
        {
          "output_type": "execute_result",
          "data": {
            "text/plain": [
              "'I love white for summer and by august i am tired of wearing sleeveless so this caught my eye it is very easy to wear and pretty on i wore it with black tie up and super comfy stylish'"
            ],
            "application/vnd.google.colaboratory.intrinsic+json": {
              "type": "string"
            }
          },
          "metadata": {},
          "execution_count": 54
        }
      ]
    },
    {
      "cell_type": "code",
      "source": [
        "train_up_votes_scaled[0], train_ratings[0], train_recommends[0]"
      ],
      "metadata": {
        "colab": {
          "base_uri": "https://localhost:8080/"
        },
        "id": "1_LI4x4mF8Zc",
        "outputId": "4882e99a-73b3-43a3-a7dc-b148d48c0417"
      },
      "execution_count": 56,
      "outputs": [
        {
          "output_type": "execute_result",
          "data": {
            "text/plain": [
              "(array([0.]), array([0., 0., 0., 1., 0.]), 1)"
            ]
          },
          "metadata": {},
          "execution_count": 56
        }
      ]
    },
    {
      "cell_type": "code",
      "source": [
        "train_text[1]"
      ],
      "metadata": {
        "colab": {
          "base_uri": "https://localhost:8080/",
          "height": 70
        },
        "id": "kLsF-7EIIImf",
        "outputId": "d2a689bf-d7b7-4beb-e25e-14021b6ba4e7"
      },
      "execution_count": 58,
      "outputs": [
        {
          "output_type": "execute_result",
          "data": {
            "text/plain": [
              "'Just piping in here ordered my usual size of small petite the slip that came with the dress is about a size negative zero it could hardly squeeze over my body and the dress itself is a bright pale aqua and it is a shift and because of the smocking it very strangely i think it very cheap and is ill fitting i would say if you are a person on which shift look awesome you might like this but mind the size of the slip in the range and also it is aqua'"
            ],
            "application/vnd.google.colaboratory.intrinsic+json": {
              "type": "string"
            }
          },
          "metadata": {},
          "execution_count": 58
        }
      ]
    },
    {
      "cell_type": "code",
      "source": [
        "train_up_votes[1], train_ratings[1], train_recommends[1]"
      ],
      "metadata": {
        "colab": {
          "base_uri": "https://localhost:8080/"
        },
        "id": "iTtcHp7sGCFL",
        "outputId": "ed57f8e6-dd18-4ce1-e0fb-9a3c4d0a9c4a"
      },
      "execution_count": 59,
      "outputs": [
        {
          "output_type": "execute_result",
          "data": {
            "text/plain": [
              "(array([9]), array([0., 1., 0., 0., 0.]), 0)"
            ]
          },
          "metadata": {},
          "execution_count": 59
        }
      ]
    },
    {
      "cell_type": "code",
      "source": [
        ""
      ],
      "metadata": {
        "id": "985GUbH8IGgC"
      },
      "execution_count": null,
      "outputs": []
    }
  ]
}